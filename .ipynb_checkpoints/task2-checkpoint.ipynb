{
 "cells": [
  {
   "cell_type": "markdown",
   "metadata": {},
   "source": [
    "# QOSF Mentorship Programme\n",
    "## Task 2\n",
    "\n",
    "Implement a circuit that returns $| 01 \\rangle$ and $|10 \\rangle$ with equal probability.\n",
    "\n",
    "Requirements :\n",
    "- The circuit should consist only of CNOTs, RXs and RYs. \n",
    "- Start from all parameters in parametric gates being equal to 0 or randomly chosen. \n",
    "- You should find the right set of parameters using gradient descent (you can use more advanced optimization methods if you like). \n",
    "- Simulations must be done with sampling - i.e. a limited number of measurements per iteration and noise. \n",
    "\n",
    "Compare the results for different numbers of measurements: 1, 10, 100, 1000. \n",
    "\n",
    "Bonus question:\n",
    "How to make sure you produce state $|01 \\rangle + |10 \\rangle$ and not $|01 \\rangle - |10 \\rangle$?"
   ]
  },
  {
   "cell_type": "markdown",
   "metadata": {},
   "source": [
    "I have decided to use Qiskit in my code as I'm quite comfortable with it."
   ]
  },
  {
   "cell_type": "code",
   "execution_count": 1,
   "metadata": {},
   "outputs": [],
   "source": [
    "# Importing necessary libraries \n",
    "# and predefining backends\n",
    "from qiskit import execute, Aer, QuantumCircuit \n",
    "from qiskit.visualization import plot_histogram, plot_state_qsphere\n",
    "from qiskit.quantum_info import Statevector\n",
    "import numpy as np\n",
    "import matplotlib.pyplot as plt\n",
    "import random\n",
    "%matplotlib inline\n",
    "\n",
    "q_simulator = Aer.get_backend('qasm_simulator')\n",
    "st_simulator = Aer.get_backend('statevector_simulator')"
   ]
  },
  {
   "cell_type": "markdown",
   "metadata": {},
   "source": [
    "## Trial circuit\n",
    "Let us implement a quantum circuit with known parameters that yields an equal probability of $| 01 \\rangle$ and $| 10 \\rangle$ to get an idea of what gates the circuit must consist of."
   ]
  },
  {
   "cell_type": "code",
   "execution_count": 2,
   "metadata": {},
   "outputs": [],
   "source": [
    "# Define a quantum circuit consisting of 2 qubits\n",
    "qc = QuantumCircuit(2)\n",
    "qcr = QuantumCircuit(2)\n",
    "\n",
    "# Hadamard gate on qubit 0\n",
    "qc.ry(np.pi/2, 0)\n",
    "qc.rx(np.pi, 0)\n",
    "qcr.h(0)\n",
    "\n",
    "# X gate on qubit 1\n",
    "qc.rx(np.pi, 1)\n",
    "qcr.x(1)\n",
    "\n",
    "# CNOT gate with qubit 0, qubit 1 as the control and target qubits respectively\n",
    "qc.cx(0,1)\n",
    "qcr.cx(0,1)\n",
    "qc.measure_all()\n",
    "qcr.measure_all()"
   ]
  },
  {
   "cell_type": "code",
   "execution_count": 3,
   "metadata": {},
   "outputs": [
    {
     "name": "stdout",
     "output_type": "stream",
     "text": [
      "Reference circuit: \n"
     ]
    },
    {
     "data": {
      "image/png": "[encoded data removed]",
      "text/plain": [
       "<Figure size 472.059x204.68 with 1 Axes>"
      ]
     },
     "execution_count": 3,
     "metadata": {},
     "output_type": "execute_result"
    }
   ],
   "source": [
    "print(\"Reference circuit: \")\n",
    "qcr.draw()"
   ]
  },
  {
   "cell_type": "code",
   "execution_count": 4,
   "metadata": {},
   "outputs": [
    {
     "name": "stdout",
     "output_type": "stream",
     "text": [
      "Parameterized circuit: \n"
     ]
    },
    {
     "data": {
      "image/png": "[encoded data removed]",
      "text/plain": [
       "<Figure size 532.259x204.68 with 1 Axes>"
      ]
     },
     "execution_count": 4,
     "metadata": {},
     "output_type": "execute_result"
    }
   ],
   "source": [
    "print(\"Parameterized circuit: \")\n",
    "qc.draw()"
   ]
  },
  {
   "cell_type": "code",
   "execution_count": 5,
   "metadata": {},
   "outputs": [
    {
     "data": {
      "image/png": "[encoded data removed]",
      "text/plain": [
       "<Figure size 504x360 with 1 Axes>"
      ]
     },
     "execution_count": 5,
     "metadata": {},
     "output_type": "execute_result"
    }
   ],
   "source": [
    "counts = execute(qc, q_simulator, shots=1000).result().get_counts()\n",
    "plot_histogram(counts)"
   ]
  },
  {
   "cell_type": "markdown",
   "metadata": {},
   "source": [
    "As can be seen from the histogram plot, we get the desired output. Our goal now is to parameterize the circuit by introducing unknown parameters to the RX and RY gates."
   ]
  },
  {
   "cell_type": "markdown",
   "metadata": {},
   "source": [
    "When trying to find the optimal solution to the parameterized problem, the CNOT gate does not play a role since it does not depend on parameters. Hence, the goal is to find the optimum solution to the state of the qubits just before applying the CNOT gate."
   ]
  },
  {
   "cell_type": "markdown",
   "metadata": {},
   "source": [
    "Let us see the effect of the gates used in the trial circuit to find the state of the system at the end of the circuit.\n",
    "\n",
    "All qubits are initialized to the state $| 0 \\rangle$ thus initializing the system at $| 00 \\rangle$. Applying a Hadamard gate to the 1st qubit yields, \n",
    "\n",
    "$$ |00 \\rangle \\longrightarrow |0 \\rangle \\otimes \\frac{1}{\\sqrt{2}} (|0 \\rangle + |1 \\rangle)$$"
   ]
  },
  {
   "cell_type": "markdown",
   "metadata": {},
   "source": [
    "It is a good point to note here that Qiskit orders its qubits in a different way compared to the textbook convention. In Qiskit, if $q_0$ and $q_1$ are the 1st and 2nd qubits respectively, then the composite system is written as\n",
    "\n",
    "$$ |q_1 q_0 \\rangle = |q_1 \\rangle \\otimes |q_0 \\rangle$$"
   ]
  },
  {
   "cell_type": "markdown",
   "metadata": {},
   "source": [
    "Now applying an X gate onto the second qubit,\n",
    "\n",
    "$$ |0 \\rangle \\otimes \\frac{1}{\\sqrt{2}}(|0 \\rangle + |1 \\rangle) \\longrightarrow |1 \\rangle \\otimes \\frac{1}{\\sqrt{2}} (|0 \\rangle + |1 \\rangle)$$"
   ]
  },
  {
   "cell_type": "markdown",
   "metadata": {},
   "source": [
    "Finally applying a CNOT gate (with the first qubit as the control and the second qubit as the target), we get\n",
    "\n",
    "$$ |1 \\rangle \\otimes \\frac{1}{\\sqrt{2}} (|0 \\rangle + |1 \\rangle) \\longrightarrow \\frac{1}{\\sqrt{2}} (|10 \\rangle + |01 \\rangle) = |\\psi \\rangle$$"
   ]
  },
  {
   "cell_type": "markdown",
   "metadata": {},
   "source": [
    "This final state $|\\psi \\rangle$ upon measurement, will yield $|10 \\rangle$ with a probability of 0.5 and $|01 \\rangle$ with a probability of 0.5."
   ]
  },
  {
   "cell_type": "markdown",
   "metadata": {},
   "source": [
    "However, since we are not concerned with unparameterized operations, we only have to worry about the state of the system just before the application of the CNOT gate. That state would be,\n",
    "\n",
    "$$ | \\phi \\rangle = |1 \\rangle \\otimes \\frac{1}{\\sqrt{2}}(|0 \\rangle + |1 \\rangle)$$"
   ]
  },
  {
   "cell_type": "markdown",
   "metadata": {},
   "source": [
    "This state is clearly unentangled, meaning that the corresponding qubits are independent and that we can treat the problem as 2 separate optimization problems."
   ]
  },
  {
   "cell_type": "code",
   "execution_count": 6,
   "metadata": {},
   "outputs": [],
   "source": [
    "## Initializing parameters with random values\n",
    "\n",
    "# q0_thetas holds parameters for the first qubit and q1_thetas holds parameters for the second qubit\n",
    "q0_thetas = [ random.uniform(0.001, 2 * np.pi) for i in range(2)]\n",
    "q1_thetas = [ random.uniform(0.001, 2 * np.pi) for i in range(2)]"
   ]
  },
  {
   "cell_type": "markdown",
   "metadata": {},
   "source": [
    "Let us define a function that returns a parameterized quantum circuit"
   ]
  },
  {
   "cell_type": "code",
   "execution_count": 7,
   "metadata": {},
   "outputs": [],
   "source": [
    "def circuit(params0, params1):\n",
    "    circuit = QuantumCircuit(2)\n",
    "    circuit.ry(params0[0], 0)\n",
    "    circuit.rx(params0[1], 0)\n",
    "    circuit.ry(params1[0], 1)\n",
    "    circuit.rx(params1[1], 1)\n",
    "    \n",
    "    return circuit"
   ]
  },
  {
   "cell_type": "code",
   "execution_count": 8,
   "metadata": {},
   "outputs": [
    {
     "data": {
      "image/png": "[encoded data removed]",
      "text/plain": [
       "<Figure size 472.059x204.68 with 1 Axes>"
      ]
     },
     "execution_count": 8,
     "metadata": {},
     "output_type": "execute_result"
    }
   ],
   "source": [
    "circ = circuit(q0_thetas, q1_thetas)\n",
    "circ.measure_all()\n",
    "circ.draw()"
   ]
  },
  {
   "cell_type": "code",
   "execution_count": 9,
   "metadata": {},
   "outputs": [
    {
     "data": {
      "image/png": "[encoded data removed]",
      "text/plain": [
       "<Figure size 504x360 with 1 Axes>"
      ]
     },
     "execution_count": 9,
     "metadata": {},
     "output_type": "execute_result"
    }
   ],
   "source": [
    "cnt = execute(circ, q_simulator).result().get_counts()\n",
    "plot_histogram(cnt)"
   ]
  },
  {
   "cell_type": "markdown",
   "metadata": {},
   "source": [
    "Our goal here is to optimize the parameters such that measuring $q_1$ yields that state $|1 \\rangle$ with probability 1 and measuring $q_0$ yields the states $|0 \\rangle$ and $|1 \\rangle$ with probabilities 0.5 each."
   ]
  },
  {
   "cell_type": "markdown",
   "metadata": {},
   "source": [
    "## Cost function\n",
    "\n",
    "Since the 2 qubits can be treated independently, let us define 2 cost functions to optimize their respective parameters.\n",
    "\n",
    "Let $J_0$ and $J_1$ be the cost functions of $q_0$ and $q_1$ respectively. Since we're dealing with probability, let us implement it into these cost functions. "
   ]
  },
  {
   "cell_type": "markdown",
   "metadata": {},
   "source": [
    "### Qubit 0\n",
    "$$ J_0 = \\frac{1}{4} ((P_0 - 0.5)^2 + (P_1 - 0.5)^2)$$\n",
    "\n",
    "### Qubit 1\n",
    "$$ J_1 = \\frac{1}{4} (P_0^2 + (P_1 - 1)^2)$$\n",
    "\n",
    "where $P_0$ and $P_1$ are the probabilities of measuring $|0 \\rangle$ and $|1 \\rangle$ respectively."
   ]
  },
  {
   "cell_type": "markdown",
   "metadata": {},
   "source": [
    "We wish to minimize the above 2 cost functions using batch gradient descent as our optimization method."
   ]
  },
  {
   "cell_type": "markdown",
   "metadata": {},
   "source": [
    "Now let us analytically deduce the operations the gates perform on our initial qubit state $| 00 \\rangle$."
   ]
  },
  {
   "cell_type": "markdown",
   "metadata": {},
   "source": [
    "The $R_X$ gate corresponds to,\n",
    "\n",
    "$$\n",
    "R_X (\\theta) = \n",
    "\\begin{pmatrix}\n",
    "\\cos \\frac{\\theta}{2} & -i \\sin \\frac{\\theta}{2} \\\\\n",
    "-i \\sin \\frac{\\theta}{2} & \\cos \\frac{\\theta}{2} \\\\\n",
    "\\end{pmatrix}\n",
    "$$"
   ]
  },
  {
   "cell_type": "markdown",
   "metadata": {},
   "source": [
    "The $R_Y$ gate corresponds to,\n",
    "\n",
    "$$\n",
    "R_Y (\\theta) = \n",
    "\\begin{pmatrix}\n",
    "\\cos \\frac{\\theta}{2} & - \\sin \\frac{\\theta}{2} \\\\ \n",
    "\\sin \\frac{\\theta}{2} & \\cos \\frac{\\theta}{2} \\\\  \n",
    "\\end{pmatrix}\n",
    "$$\n"
   ]
  },
  {
   "cell_type": "markdown",
   "metadata": {},
   "source": [
    "The operation of these matrices on initial state $|0 \\rangle$ yields,\n",
    "\n",
    "$$\n",
    "|0 \\rangle \\xrightarrow[]{R_Y (\\theta_0)}\n",
    "\\begin{pmatrix}\n",
    "\\cos \\frac{\\theta_0}{2} \\\\ \n",
    "\\sin \\frac{\\theta_0}{2} \\\\  \n",
    "\\end{pmatrix}\n",
    "\\xrightarrow[]{R_X (\\theta_1)}\n",
    "\\begin{pmatrix}\n",
    "\\cos \\frac{\\theta_0}{2} \\cos \\frac{\\theta_1}{2} - i \\sin \\frac{\\theta_0}{2} \\sin \\frac{\\theta_1} {2} \\\\\n",
    "-i \\sin \\frac{\\theta_1}{2} \\cos \\frac{\\theta_0}{2} + \\cos \\frac{\\theta_1}{2} \\sin \\frac{\\theta_0}{2} \\\\\n",
    "\\end{pmatrix}\n",
    "= | \\psi \\rangle\n",
    "$$"
   ]
  },
  {
   "cell_type": "markdown",
   "metadata": {},
   "source": [
    "This is the state obtained on both the qubits in the unparameterized circuit. From this state $| \\psi \\rangle$, the probabilities of obtaining $|0 \\rangle$ and $|1 \\rangle$ can be obtained by computing the corresponding modulus of inner products,\n",
    "\n",
    "$$\n",
    "| \\langle 0 | \\psi \\rangle |^2 = \\cos^2 \\frac{\\theta_0}{2} \\cos^2 \\frac{\\theta_1}{2} + \\sin^2 \\frac{\\theta_0}{2} \\sin^2 \\frac{\\theta_1}{2} = P_0\n",
    "$$\n",
    "\n",
    "$$\n",
    "| \\langle 1 | \\psi \\rangle |^2 = \\cos^2 \\frac{\\theta_1}{2} \\sin^2 \\frac{\\theta_0}{2} + \\sin^2 \\frac{\\theta_1}{2} \\cos^2 \\frac{\\theta_0}{2} = P_1\n",
    "$$"
   ]
  },
  {
   "cell_type": "markdown",
   "metadata": {},
   "source": [
    "## Batch Gradient Descent\n",
    "\n",
    "Let us now get into the meat of the optimization problem. Since we are implementing batch gradient descent, the parameters have to be updated as\n",
    "\n",
    "$$\n",
    "\\theta_{i+1} := \\theta_i - \\alpha \\frac{\\partial }{\\partial \\theta_i} J (\\theta_0, \\theta_1)\n",
    "$$\n",
    "\n",
    "where $\\theta_{i+1}$ is the updated parameter and $\\alpha$ is the learning rate.\n",
    "\n"
   ]
  },
  {
   "cell_type": "markdown",
   "metadata": {},
   "source": [
    "In general, batch gradient descent is not useful when minimizing functions that consist of various local minima, since the optimizer will get stuck once it ends on a local minima. However, lucky for us, the cost function that we are minimizing has a single minima (global minima) and is the point that we intend the optimizer to reach. \n",
    "\n",
    "Let us verify this through a plot of cost function as a function of $\\theta$."
   ]
  },
  {
   "cell_type": "code",
   "execution_count": 15,
   "metadata": {},
   "outputs": [
    {
     "data": {
      "text/plain": [
       "[<mpl_toolkits.mplot3d.art3d.Line3D at 0x7fe8fedff880>]"
      ]
     },
     "execution_count": 15,
     "metadata": {},
     "output_type": "execute_result"
    },
    {
     "data": {
      "image/png": "[encoded data removed]",
      "text/plain": [
       "<Figure size 432x288 with 1 Axes>"
      ]
     },
     "metadata": {
      "needs_background": "light"
     },
     "output_type": "display_data"
    }
   ],
   "source": [
    "from mpl_toolkits import mplot3d\n",
    "\n",
    "def z_function(x, y):\n",
    "    p0 = (np.cos(x/2)**2) * (np.cos(y/2)**2) + (np.sin(x/2)**2)*(np.sin(y/2)**2)\n",
    "    p1 = (np.cos(y/2)**2) * (np.sin(x/2)**2) + (np.sin(y/2)**2)*(np.cos(x/2)**2)\n",
    "\n",
    "    z1 = 0.25 * ((p0)**2 + (p1 - 1)**2)\n",
    "    z2 = 0.25 * ((p0 - 0.5)**2 + (p1 - 0.5)**2)\n",
    "    return z1, z2\n",
    "\n",
    "x = np.linspace(0, 2*np.pi, 1000)\n",
    "y = np.linspace(0, 2*np.pi, 1000)\n",
    "z1, z2 = z_function(x, y)\n",
    "\n",
    "fig = plt.figure()\n",
    "ax = plt.axes(projection='3d')\n",
    "ax.plot3D(x, y, z1)\n",
    "ax.plot3D(x, y, z2)"
   ]
  },
  {
   "cell_type": "markdown",
   "metadata": {},
   "source": [
    "Computing the respective partial derivatives of both cost funtions $J_0$ and $J_1$,\n",
    "\n",
    "$$\n",
    "\\frac{\\partial J_0}{\\partial \\theta_0} = \\frac{1}{2}\\left((P_0 - 0.5) \\frac{\\partial P_0}{\\partial \\theta_0} + (P_1 - 0.5) \\frac{\\partial P_1}{\\partial \\theta_0}\\right)\n",
    "$$\n",
    "\n",
    "$$\n",
    "\\frac{\\partial J_0}{\\partial \\theta_1} = \\frac{1}{2}\\left((P_0 - 0.5) \\frac{\\partial P_0}{\\partial \\theta_1} + (P_1 - 0.5) \\frac{\\partial P_1}{\\partial \\theta_1}\\right)\n",
    "$$\n",
    "\n",
    "$$\n",
    "\\frac{\\partial J_1}{\\partial \\theta_0} = \\frac{1}{2}\\left(P_0 \\frac{\\partial P_0}{\\partial \\theta_0} + (P_1 - 1) \\frac{\\partial P_1}{\\partial \\theta_0}\\right)\n",
    "$$\n",
    "\n",
    "$$\n",
    "\\frac{\\partial J_1}{\\partial \\theta_1} = \\frac{1}{2}\\left(P_0 \\frac{\\partial P_0}{\\partial \\theta_1} + (P_1 - 1) \\frac{\\partial P_1}{\\partial \\theta_1}\\right)\n",
    "$$"
   ]
  },
  {
   "cell_type": "markdown",
   "metadata": {},
   "source": [
    "Now, computing the partial derivatives of $P_0$ and $P_1$ with respect to the parameters,\n",
    "\n",
    "$$\n",
    "\\frac{\\partial P_0}{\\partial \\theta_0} = - \\cos \\frac{\\theta_0}{2} \\sin \\frac{\\theta_0}{2} \\cos^2 \\frac{\\theta_1}{2} + \\sin \\frac{\\theta_0}{2} \\cos \\frac{\\theta_0}{2} \\sin^2 \\frac{\\theta_1}{2} = -\\frac{1}{2} \\sin \\theta_0 \\cos \\theta_1\n",
    "$$\n",
    "\n",
    "$$\n",
    "\\frac{\\partial P_0}{\\partial \\theta_1} = - \\cos \\frac{\\theta_1}{2} \\sin \\frac{\\theta_1}{2} \\cos^2 \\frac{\\theta_0}{2} + \\sin \\frac{\\theta_1}{2} \\cos \\frac{\\theta_1}{2} \\sin^2 \\frac{\\theta_0}{2} = -\\frac{1}{2} \\sin \\theta_1 \\cos \\theta_0\n",
    "$$\n",
    "\n",
    "$$\n",
    "\\frac{\\partial P_1}{\\partial \\theta_0} = \\sin \\frac{\\theta_0}{2} \\cos \\frac{\\theta_0}{2} \\cos^2 \\frac{\\theta_1}{2} - \\sin^2 \\frac{\\theta_1}{2} \\cos \\frac{\\theta_0}{2} \\sin \\frac{\\theta_0}{2} = \\frac{1}{2} \\sin \\theta_0 \\cos \\theta_1\n",
    "$$\n",
    "\n",
    "$$\n",
    "\\frac{\\partial P_1}{\\partial \\theta_1} = -\\cos \\frac{\\theta_1}{2} \\sin \\frac{\\theta_1}{2} \\sin^2 \\frac{\\theta_0}{2} + \\sin \\frac{\\theta_1}{2} \\cos \\frac{\\theta_1}{2} \\cos^2 \\frac{\\theta_0}{2} = \\frac{1}{2} \\sin \\theta_1 \\cos \\theta_0\n",
    "$$"
   ]
  },
  {
   "cell_type": "markdown",
   "metadata": {},
   "source": [
    "## Partial derivatives of $J_i$ in terms of parameters $\\theta_0$, $\\theta_1$\n",
    "Substituting the above relations into the equations for the partial derivatives of $J_i$, we get\n",
    "\n",
    "$$\n",
    "\\frac{\\partial J_0}{\\partial \\theta_0} = \\frac{1}{4} \\sin \\theta_0 \\cos \\theta_1 (P_1 - P_0)\n",
    "$$\n",
    "\n",
    "$$\n",
    "\\frac{\\partial J_0}{\\partial \\theta_1} = \\frac{1}{4} \\sin \\theta_1 \\cos \\theta_0 (P_1 - P_0)\n",
    "$$\n",
    "\n",
    "$$\n",
    "\\frac{\\partial J_1}{\\partial \\theta_0} = \\frac{1}{4} \\sin \\theta_0 \\cos \\theta_1 (P_1 - P_0 -1)\n",
    "$$\n",
    "\n",
    "$$\n",
    "\\frac{\\partial J_1}{\\partial \\theta_1} = \\frac{1}{4} \\sin \\theta_1 \\cos \\theta_0 (P_1 - P_0 -1)\n",
    "$$"
   ]
  },
  {
   "cell_type": "markdown",
   "metadata": {},
   "source": [
    "Let us implement the above formulation in python."
   ]
  },
  {
   "cell_type": "code",
   "execution_count": 16,
   "metadata": {},
   "outputs": [],
   "source": [
    "## params = [theta0, theta1]\n",
    "\n",
    "# Probability of measuring state |0>\n",
    "def prob0(params):\n",
    "    p0 = (np.cos(params[0]/2)**2)*(np.cos(params[1]/2)**2) + (np.sin(params[0]/2)**2)*(np.sin(params[1]/2)**2)\n",
    "    return p0\n",
    "\n",
    "# Probability of measuring state |1>\n",
    "def prob1(params):\n",
    "    p1 = (np.sin(params[0]/2)**2)*(np.cos(params[1]/2)**2) + (np.cos(params[0]/2)**2)*(np.sin(params[1]/2)**2)\n",
    "    return p1"
   ]
  },
  {
   "cell_type": "code",
   "execution_count": 17,
   "metadata": {},
   "outputs": [],
   "source": [
    "# Function that returns the cost function for given qubit (0 or 1)\n",
    "def cost(params, qubit):\n",
    "    if qubit==0:\n",
    "        j0 = 0.25 * ((prob0(params) - 0.5)**2 + (prob1(params) - 0.5)**2)\n",
    "        return j0\n",
    "    \n",
    "    elif qubit==1:\n",
    "        j1 = 0.25 * (prob0(params)**2 + (prob1(params) - 1)**2)\n",
    "        return j1\n",
    "    \n",
    "    else:\n",
    "        print(\"Qubit index out of range!!!\")\n",
    "        exit()"
   ]
  },
  {
   "cell_type": "code",
   "execution_count": 18,
   "metadata": {},
   "outputs": [],
   "source": [
    "## Computes gradient for qubit 0\n",
    "# q0_thetas = [theta0, theta1]; i = index (0 for theta0, 1 for theta1) denotes the theta w.r.t the partial derivative\n",
    "def gradient_q0(q0_thetas, i):\n",
    "    p0 = prob0(q0_thetas)\n",
    "    p1 = prob1(q0_thetas)\n",
    "    \n",
    "    if i==0:\n",
    "        grad = 0.25 * np.sin(q0_thetas[0]) * np.cos(q0_thetas[1]) * (p1 - p0)\n",
    "        return grad\n",
    "    \n",
    "    elif i==1:\n",
    "        grad = 0.25 * np.sin(q0_thetas[1]) * np.cos(q0_thetas[0]) * (p1 - p0)\n",
    "        return grad\n",
    "    \n",
    "    else:\n",
    "        print(\"Incorrect index!!!\")\n",
    "        exit()\n",
    "    \n",
    "## Computes gradient for qubit 1\n",
    "# q1_thetas = [theta0, theta1]; i = index (0 for theta0, 1 for theta1) denotes the theta w.r.t the partial derivative\n",
    "def gradient_q1(q1_thetas, i):\n",
    "    p0 = prob0(q1_thetas)\n",
    "    p1 = prob1(q1_thetas)\n",
    "    \n",
    "    if i==0:\n",
    "        grad = 0.25 * np.sin(q1_thetas[0]) * np.cos(q1_thetas[1]) * (p1 - p0 - 1)\n",
    "        return grad\n",
    "    \n",
    "    elif i==1:\n",
    "        grad = 0.25 * np.sin(q1_thetas[1]) * np.cos(q1_thetas[0]) * (p1 - p0 - 1)\n",
    "        return grad\n",
    "    \n",
    "    else:\n",
    "        print(\"Incorrect index!!!\")\n",
    "        exit()"
   ]
  },
  {
   "cell_type": "code",
   "execution_count": 19,
   "metadata": {},
   "outputs": [],
   "source": [
    "## Gradient descent optimizer function\n",
    "# params = [theta0, theta1], qubit is the index of the qubit parameters being optimized\n",
    "def optimizer(params, learning_rate, qubit):\n",
    "    if qubit==0:\n",
    "        temp0 = params[0] - (learning_rate * gradient_q0(params, 0))\n",
    "        temp1 = params[1] - (learning_rate * gradient_q0(params, 1))\n",
    "        params[0] = temp0\n",
    "        params[1] = temp1\n",
    "       \n",
    "    elif qubit==1:\n",
    "        temp0 = params[0] - (learning_rate * gradient_q1(params, 0))\n",
    "        temp1 = params[1] - (learning_rate * gradient_q1(params, 1))\n",
    "        params[0] = temp0\n",
    "        params[1] = temp1\n",
    "        \n",
    "    else:\n",
    "        print(\"Out of range of qubits!!!\")\n",
    "        exit()"
   ]
  },
  {
   "cell_type": "code",
   "execution_count": 20,
   "metadata": {},
   "outputs": [],
   "source": [
    "## Initializing important variables\n",
    "# Number of iterations\n",
    "iterations = 1000\n",
    "\n",
    "# Learning rate\n",
    "learning_rate = 0.04"
   ]
  },
  {
   "cell_type": "code",
   "execution_count": 21,
   "metadata": {},
   "outputs": [],
   "source": [
    "# Make copies of the initial parameter so as to compare the values of the parameters before and after optimization\n",
    "params0 = q0_thetas.copy()\n",
    "params1 = q1_thetas.copy()"
   ]
  },
  {
   "cell_type": "code",
   "execution_count": 22,
   "metadata": {},
   "outputs": [
    {
     "name": "stdout",
     "output_type": "stream",
     "text": [
      "Cost after step     5:  0.0046937\n",
      "Cost after step    10:  0.0044689\n",
      "Cost after step    15:  0.0042556\n",
      "Cost after step    20:  0.0040532\n",
      "Cost after step    25:  0.0038610\n",
      "Cost after step    30:  0.0036784\n",
      "Cost after step    35:  0.0035050\n",
      "Cost after step    40:  0.0033402\n",
      "Cost after step    45:  0.0031837\n",
      "Cost after step    50:  0.0030348\n",
      "Cost after step    55:  0.0028933\n",
      "Cost after step    60:  0.0027588\n",
      "Cost after step    65:  0.0026308\n",
      "Cost after step    70:  0.0025090\n",
      "Cost after step    75:  0.0023931\n",
      "Cost after step    80:  0.0022828\n",
      "Cost after step    85:  0.0021779\n",
      "Cost after step    90:  0.0020779\n",
      "Cost after step    95:  0.0019828\n",
      "Cost after step   100:  0.0018921\n",
      "Cost after step   105:  0.0018058\n",
      "Cost after step   110:  0.0017235\n",
      "Cost after step   115:  0.0016452\n",
      "Cost after step   120:  0.0015705\n",
      "Cost after step   125:  0.0014993\n",
      "Cost after step   130:  0.0014314\n",
      "Cost after step   135:  0.0013667\n",
      "Cost after step   140:  0.0013051\n",
      "Cost after step   145:  0.0012462\n",
      "Cost after step   150:  0.0011901\n",
      "Cost after step   155:  0.0011366\n",
      "Cost after step   160:  0.0010856\n",
      "Cost after step   165:  0.0010369\n",
      "Cost after step   170:  0.0009904\n",
      "Cost after step   175:  0.0009461\n",
      "Cost after step   180:  0.0009038\n",
      "Cost after step   185:  0.0008634\n",
      "Cost after step   190:  0.0008249\n",
      "Cost after step   195:  0.0007881\n",
      "Cost after step   200:  0.0007530\n",
      "Cost after step   205:  0.0007195\n",
      "Cost after step   210:  0.0006875\n",
      "Cost after step   215:  0.0006569\n",
      "Cost after step   220:  0.0006278\n",
      "Cost after step   225:  0.0005999\n",
      "Cost after step   230:  0.0005733\n",
      "Cost after step   235:  0.0005479\n",
      "Cost after step   240:  0.0005236\n",
      "Cost after step   245:  0.0005004\n",
      "Cost after step   250:  0.0004783\n",
      "Cost after step   255:  0.0004571\n",
      "Cost after step   260:  0.0004369\n",
      "Cost after step   265:  0.0004176\n",
      "Cost after step   270:  0.0003992\n",
      "Cost after step   275:  0.0003816\n",
      "Cost after step   280:  0.0003647\n",
      "Cost after step   285:  0.0003486\n",
      "Cost after step   290:  0.0003333\n",
      "Cost after step   295:  0.0003186\n",
      "Cost after step   300:  0.0003045\n",
      "Cost after step   305:  0.0002911\n",
      "Cost after step   310:  0.0002783\n",
      "Cost after step   315:  0.0002661\n",
      "Cost after step   320:  0.0002544\n",
      "Cost after step   325:  0.0002432\n",
      "Cost after step   330:  0.0002325\n",
      "Cost after step   335:  0.0002223\n",
      "Cost after step   340:  0.0002125\n",
      "Cost after step   345:  0.0002032\n",
      "Cost after step   350:  0.0001942\n",
      "Cost after step   355:  0.0001857\n",
      "Cost after step   360:  0.0001775\n",
      "Cost after step   365:  0.0001698\n",
      "Cost after step   370:  0.0001623\n",
      "Cost after step   375:  0.0001552\n",
      "Cost after step   380:  0.0001484\n",
      "Cost after step   385:  0.0001419\n",
      "Cost after step   390:  0.0001356\n",
      "Cost after step   395:  0.0001297\n",
      "Cost after step   400:  0.0001240\n",
      "Cost after step   405:  0.0001186\n",
      "Cost after step   410:  0.0001134\n",
      "Cost after step   415:  0.0001084\n",
      "Cost after step   420:  0.0001037\n",
      "Cost after step   425:  0.0000991\n",
      "Cost after step   430:  0.0000948\n",
      "Cost after step   435:  0.0000906\n",
      "Cost after step   440:  0.0000866\n",
      "Cost after step   445:  0.0000829\n",
      "Cost after step   450:  0.0000792\n",
      "Cost after step   455:  0.0000758\n",
      "Cost after step   460:  0.0000724\n",
      "Cost after step   465:  0.0000693\n",
      "Cost after step   470:  0.0000662\n",
      "Cost after step   475:  0.0000633\n",
      "Cost after step   480:  0.0000606\n",
      "Cost after step   485:  0.0000579\n",
      "Cost after step   490:  0.0000554\n",
      "Cost after step   495:  0.0000530\n",
      "Cost after step   500:  0.0000506\n",
      "Cost after step   505:  0.0000484\n",
      "Cost after step   510:  0.0000463\n",
      "Cost after step   515:  0.0000443\n",
      "Cost after step   520:  0.0000423\n",
      "Cost after step   525:  0.0000405\n",
      "Cost after step   530:  0.0000387\n",
      "Cost after step   535:  0.0000370\n",
      "Cost after step   540:  0.0000354\n",
      "Cost after step   545:  0.0000339\n",
      "Cost after step   550:  0.0000324\n",
      "Cost after step   555:  0.0000310\n",
      "Cost after step   560:  0.0000296\n",
      "Cost after step   565:  0.0000283\n",
      "Cost after step   570:  0.0000271\n",
      "Cost after step   575:  0.0000259\n",
      "Cost after step   580:  0.0000248\n",
      "Cost after step   585:  0.0000237\n",
      "Cost after step   590:  0.0000226\n",
      "Cost after step   595:  0.0000216\n",
      "Cost after step   600:  0.0000207\n",
      "Cost after step   605:  0.0000198\n",
      "Cost after step   610:  0.0000189\n",
      "Cost after step   615:  0.0000181\n",
      "Cost after step   620:  0.0000173\n",
      "Cost after step   625:  0.0000166\n",
      "Cost after step   630:  0.0000158\n",
      "Cost after step   635:  0.0000151\n",
      "Cost after step   640:  0.0000145\n",
      "Cost after step   645:  0.0000138\n",
      "Cost after step   650:  0.0000132\n",
      "Cost after step   655:  0.0000127\n",
      "Cost after step   660:  0.0000121\n",
      "Cost after step   665:  0.0000116\n",
      "Cost after step   670:  0.0000111\n",
      "Cost after step   675:  0.0000106\n",
      "Cost after step   680:  0.0000101\n",
      "Cost after step   685:  0.0000097\n",
      "Cost after step   690:  0.0000093\n",
      "Cost after step   695:  0.0000089\n",
      "Cost after step   700:  0.0000085\n",
      "Cost after step   705:  0.0000081\n",
      "Cost after step   710:  0.0000077\n",
      "Cost after step   715:  0.0000074\n",
      "Cost after step   720:  0.0000071\n",
      "Cost after step   725:  0.0000068\n",
      "Cost after step   730:  0.0000065\n",
      "Cost after step   735:  0.0000062\n",
      "Cost after step   740:  0.0000059\n",
      "Cost after step   745:  0.0000057\n",
      "Cost after step   750:  0.0000054\n",
      "Cost after step   755:  0.0000052\n",
      "Cost after step   760:  0.0000050\n",
      "Cost after step   765:  0.0000047\n",
      "Cost after step   770:  0.0000045\n",
      "Cost after step   775:  0.0000043\n",
      "Cost after step   780:  0.0000041\n",
      "Cost after step   785:  0.0000040\n",
      "Cost after step   790:  0.0000038\n",
      "Cost after step   795:  0.0000036\n",
      "Cost after step   800:  0.0000035\n",
      "Cost after step   805:  0.0000033\n",
      "Cost after step   810:  0.0000032\n",
      "Cost after step   815:  0.0000030\n",
      "Cost after step   820:  0.0000029\n",
      "Cost after step   825:  0.0000028\n",
      "Cost after step   830:  0.0000026\n",
      "Cost after step   835:  0.0000025\n",
      "Cost after step   840:  0.0000024\n",
      "Cost after step   845:  0.0000023\n",
      "Cost after step   850:  0.0000022\n",
      "Cost after step   855:  0.0000021\n",
      "Cost after step   860:  0.0000020\n",
      "Cost after step   865:  0.0000019\n",
      "Cost after step   870:  0.0000019\n",
      "Cost after step   875:  0.0000018\n",
      "Cost after step   880:  0.0000017\n",
      "Cost after step   885:  0.0000016\n",
      "Cost after step   890:  0.0000015\n",
      "Cost after step   895:  0.0000015\n",
      "Cost after step   900:  0.0000014\n",
      "Cost after step   905:  0.0000014\n",
      "Cost after step   910:  0.0000013\n",
      "Cost after step   915:  0.0000012\n",
      "Cost after step   920:  0.0000012\n",
      "Cost after step   925:  0.0000011\n",
      "Cost after step   930:  0.0000011\n",
      "Cost after step   935:  0.0000010\n",
      "Cost after step   940:  0.0000010\n",
      "Cost after step   945:  0.0000009\n",
      "Cost after step   950:  0.0000009\n",
      "Cost after step   955:  0.0000009\n",
      "Cost after step   960:  0.0000008\n",
      "Cost after step   965:  0.0000008\n",
      "Cost after step   970:  0.0000008\n",
      "Cost after step   975:  0.0000007\n",
      "Cost after step   980:  0.0000007\n",
      "Cost after step   985:  0.0000007\n",
      "Cost after step   990:  0.0000006\n",
      "Cost after step   995:  0.0000006\n",
      "Cost after step  1000:  0.0000006\n",
      "Optimized parameters [4.715614067122174, 2.301955523535541]\n",
      "Cost after step     5:  0.0101140\n",
      "Cost after step    10:  0.0097115\n",
      "Cost after step    15:  0.0093297\n",
      "Cost after step    20:  0.0089673\n",
      "Cost after step    25:  0.0086233\n",
      "Cost after step    30:  0.0082966\n",
      "Cost after step    35:  0.0079860\n",
      "Cost after step    40:  0.0076908\n",
      "Cost after step    45:  0.0074100\n",
      "Cost after step    50:  0.0071428\n",
      "Cost after step    55:  0.0068883\n",
      "Cost after step    60:  0.0066459\n",
      "Cost after step    65:  0.0064149\n",
      "Cost after step    70:  0.0061947\n",
      "Cost after step    75:  0.0059846\n",
      "Cost after step    80:  0.0057841\n",
      "Cost after step    85:  0.0055926\n",
      "Cost after step    90:  0.0054097\n",
      "Cost after step    95:  0.0052349\n",
      "Cost after step   100:  0.0050677\n",
      "Cost after step   105:  0.0049078\n",
      "Cost after step   110:  0.0047548\n",
      "Cost after step   115:  0.0046083\n",
      "Cost after step   120:  0.0044679\n",
      "Cost after step   125:  0.0043334\n",
      "Cost after step   130:  0.0042045\n",
      "Cost after step   135:  0.0040808\n",
      "Cost after step   140:  0.0039621\n",
      "Cost after step   145:  0.0038482\n",
      "Cost after step   150:  0.0037388\n",
      "Cost after step   155:  0.0036337\n",
      "Cost after step   160:  0.0035326\n",
      "Cost after step   165:  0.0034355\n",
      "Cost after step   170:  0.0033421\n",
      "Cost after step   175:  0.0032522\n",
      "Cost after step   180:  0.0031656\n",
      "Cost after step   185:  0.0030823\n",
      "Cost after step   190:  0.0030020\n",
      "Cost after step   195:  0.0029246\n",
      "Cost after step   200:  0.0028500\n",
      "Cost after step   205:  0.0027781\n",
      "Cost after step   210:  0.0027087\n",
      "Cost after step   215:  0.0026417\n",
      "Cost after step   220:  0.0025771\n",
      "Cost after step   225:  0.0025147\n",
      "Cost after step   230:  0.0024544\n",
      "Cost after step   235:  0.0023961\n",
      "Cost after step   240:  0.0023398\n",
      "Cost after step   245:  0.0022853\n",
      "Cost after step   250:  0.0022326\n",
      "Cost after step   255:  0.0021817\n",
      "Cost after step   260:  0.0021324\n",
      "Cost after step   265:  0.0020846\n",
      "Cost after step   270:  0.0020384\n",
      "Cost after step   275:  0.0019936\n",
      "Cost after step   280:  0.0019502\n",
      "Cost after step   285:  0.0019081\n",
      "Cost after step   290:  0.0018674\n",
      "Cost after step   295:  0.0018278\n",
      "Cost after step   300:  0.0017895\n",
      "Cost after step   305:  0.0017523\n",
      "Cost after step   310:  0.0017162\n",
      "Cost after step   315:  0.0016811\n",
      "Cost after step   320:  0.0016471\n",
      "Cost after step   325:  0.0016141\n",
      "Cost after step   330:  0.0015820\n",
      "Cost after step   335:  0.0015508\n",
      "Cost after step   340:  0.0015204\n",
      "Cost after step   345:  0.0014910\n",
      "Cost after step   350:  0.0014623\n",
      "Cost after step   355:  0.0014344\n",
      "Cost after step   360:  0.0014073\n",
      "Cost after step   365:  0.0013810\n",
      "Cost after step   370:  0.0013553\n",
      "Cost after step   375:  0.0013303\n",
      "Cost after step   380:  0.0013060\n",
      "Cost after step   385:  0.0012823\n",
      "Cost after step   390:  0.0012592\n",
      "Cost after step   395:  0.0012367\n",
      "Cost after step   400:  0.0012148\n",
      "Cost after step   405:  0.0011935\n",
      "Cost after step   410:  0.0011727\n",
      "Cost after step   415:  0.0011524\n",
      "Cost after step   420:  0.0011326\n",
      "Cost after step   425:  0.0011133\n",
      "Cost after step   430:  0.0010945\n",
      "Cost after step   435:  0.0010761\n",
      "Cost after step   440:  0.0010582\n",
      "Cost after step   445:  0.0010407\n",
      "Cost after step   450:  0.0010236\n",
      "Cost after step   455:  0.0010069\n",
      "Cost after step   460:  0.0009906\n",
      "Cost after step   465:  0.0009747\n",
      "Cost after step   470:  0.0009592\n",
      "Cost after step   475:  0.0009440\n",
      "Cost after step   480:  0.0009292\n",
      "Cost after step   485:  0.0009147\n",
      "Cost after step   490:  0.0009005\n",
      "Cost after step   495:  0.0008867\n",
      "Cost after step   500:  0.0008731\n",
      "Cost after step   505:  0.0008599\n",
      "Cost after step   510:  0.0008469\n",
      "Cost after step   515:  0.0008343\n",
      "Cost after step   520:  0.0008219\n",
      "Cost after step   525:  0.0008097\n",
      "Cost after step   530:  0.0007979\n",
      "Cost after step   535:  0.0007862\n",
      "Cost after step   540:  0.0007749\n",
      "Cost after step   545:  0.0007637\n",
      "Cost after step   550:  0.0007528\n",
      "Cost after step   555:  0.0007421\n",
      "Cost after step   560:  0.0007317\n",
      "Cost after step   565:  0.0007214\n",
      "Cost after step   570:  0.0007114\n",
      "Cost after step   575:  0.0007016\n",
      "Cost after step   580:  0.0006919\n",
      "Cost after step   585:  0.0006825\n",
      "Cost after step   590:  0.0006732\n",
      "Cost after step   595:  0.0006641\n",
      "Cost after step   600:  0.0006553\n",
      "Cost after step   605:  0.0006465\n",
      "Cost after step   610:  0.0006380\n",
      "Cost after step   615:  0.0006296\n",
      "Cost after step   620:  0.0006213\n",
      "Cost after step   625:  0.0006133\n",
      "Cost after step   630:  0.0006053\n",
      "Cost after step   635:  0.0005976\n",
      "Cost after step   640:  0.0005899\n",
      "Cost after step   645:  0.0005825\n",
      "Cost after step   650:  0.0005751\n",
      "Cost after step   655:  0.0005679\n",
      "Cost after step   660:  0.0005608\n",
      "Cost after step   665:  0.0005539\n",
      "Cost after step   670:  0.0005470\n",
      "Cost after step   675:  0.0005403\n",
      "Cost after step   680:  0.0005337\n",
      "Cost after step   685:  0.0005273\n",
      "Cost after step   690:  0.0005209\n",
      "Cost after step   695:  0.0005147\n",
      "Cost after step   700:  0.0005085\n",
      "Cost after step   705:  0.0005025\n",
      "Cost after step   710:  0.0004966\n",
      "Cost after step   715:  0.0004908\n",
      "Cost after step   720:  0.0004850\n",
      "Cost after step   725:  0.0004794\n",
      "Cost after step   730:  0.0004739\n",
      "Cost after step   735:  0.0004685\n",
      "Cost after step   740:  0.0004631\n",
      "Cost after step   745:  0.0004579\n",
      "Cost after step   750:  0.0004527\n",
      "Cost after step   755:  0.0004476\n",
      "Cost after step   760:  0.0004426\n",
      "Cost after step   765:  0.0004377\n",
      "Cost after step   770:  0.0004329\n",
      "Cost after step   775:  0.0004281\n",
      "Cost after step   780:  0.0004234\n",
      "Cost after step   785:  0.0004188\n",
      "Cost after step   790:  0.0004143\n",
      "Cost after step   795:  0.0004098\n",
      "Cost after step   800:  0.0004054\n",
      "Cost after step   805:  0.0004011\n",
      "Cost after step   810:  0.0003968\n",
      "Cost after step   815:  0.0003926\n",
      "Cost after step   820:  0.0003885\n",
      "Cost after step   825:  0.0003844\n",
      "Cost after step   830:  0.0003804\n",
      "Cost after step   835:  0.0003765\n",
      "Cost after step   840:  0.0003726\n",
      "Cost after step   845:  0.0003688\n",
      "Cost after step   850:  0.0003650\n",
      "Cost after step   855:  0.0003613\n",
      "Cost after step   860:  0.0003577\n",
      "Cost after step   865:  0.0003541\n",
      "Cost after step   870:  0.0003505\n",
      "Cost after step   875:  0.0003470\n",
      "Cost after step   880:  0.0003436\n",
      "Cost after step   885:  0.0003402\n",
      "Cost after step   890:  0.0003369\n",
      "Cost after step   895:  0.0003336\n",
      "Cost after step   900:  0.0003303\n",
      "Cost after step   905:  0.0003271\n",
      "Cost after step   910:  0.0003240\n",
      "Cost after step   915:  0.0003209\n",
      "Cost after step   920:  0.0003178\n",
      "Cost after step   925:  0.0003148\n",
      "Cost after step   930:  0.0003118\n",
      "Cost after step   935:  0.0003088\n",
      "Cost after step   940:  0.0003059\n",
      "Cost after step   945:  0.0003031\n",
      "Cost after step   950:  0.0003003\n",
      "Cost after step   955:  0.0002975\n",
      "Cost after step   960:  0.0002947\n",
      "Cost after step   965:  0.0002920\n",
      "Cost after step   970:  0.0002894\n",
      "Cost after step   975:  0.0002867\n",
      "Cost after step   980:  0.0002841\n",
      "Cost after step   985:  0.0002816\n",
      "Cost after step   990:  0.0002790\n",
      "Cost after step   995:  0.0002765\n",
      "Cost after step  1000:  0.0002741\n",
      "Optimized parameters [6.072373743744378, 3.366767233771447]\n"
     ]
    }
   ],
   "source": [
    "# Qubit 0 optimization\n",
    "for i in range(iterations):\n",
    "    optimizer(params0, learning_rate, 0)\n",
    "    \n",
    "    if (i + 1) % 5 == 0:\n",
    "        print(\"Cost after step {:5d}: {: .7f}\".format(i+1, cost(params0, 0)))\n",
    "    \n",
    "print(\"Optimized parameters\", params0)\n",
    "    \n",
    "# Qubit 1 optimization\n",
    "for j in range(iterations):\n",
    "    optimizer(params1, learning_rate, 1)\n",
    "    \n",
    "    if (j + 1) % 5 == 0:\n",
    "        print(\"Cost after step {:5d}: {: .7f}\".format(j+1, cost(params1, 1)))\n",
    "    \n",
    "print(\"Optimized parameters\", params1)"
   ]
  },
  {
   "cell_type": "code",
   "execution_count": 23,
   "metadata": {},
   "outputs": [
    {
     "data": {
      "image/png": "[encoded data removed]",
      "text/plain": [
       "<Figure size 504x360 with 1 Axes>"
      ]
     },
     "execution_count": 23,
     "metadata": {},
     "output_type": "execute_result"
    }
   ],
   "source": [
    "qc = circuit(params0, params1)\n",
    "qc.cx(0,1)\n",
    "qc.measure_all()\n",
    "counts = execute(qc, q_simulator).result().get_counts()\n",
    "plot_histogram(counts)"
   ]
  },
  {
   "cell_type": "markdown",
   "metadata": {},
   "source": [
    "## Variations in number of measurements"
   ]
  },
  {
   "cell_type": "markdown",
   "metadata": {},
   "source": [
    "### i) 1 measurement"
   ]
  },
  {
   "cell_type": "code",
   "execution_count": 24,
   "metadata": {},
   "outputs": [
    {
     "data": {
      "image/png": "[encoded data removed]",
      "text/plain": [
       "<Figure size 504x360 with 1 Axes>"
      ]
     },
     "execution_count": 24,
     "metadata": {},
     "output_type": "execute_result"
    }
   ],
   "source": [
    "shots = 1\n",
    "counts = execute(qc, q_simulator, shots=shots).result().get_counts()\n",
    "plot_histogram(counts)"
   ]
  },
  {
   "cell_type": "markdown",
   "metadata": {},
   "source": [
    "### ii) 10 measurements"
   ]
  },
  {
   "cell_type": "code",
   "execution_count": 25,
   "metadata": {},
   "outputs": [
    {
     "data": {
      "image/png": "[encoded data removed]",
      "text/plain": [
       "<Figure size 504x360 with 1 Axes>"
      ]
     },
     "execution_count": 25,
     "metadata": {},
     "output_type": "execute_result"
    }
   ],
   "source": [
    "shots = 10\n",
    "counts = execute(qc, q_simulator, shots=shots).result().get_counts()\n",
    "plot_histogram(counts)"
   ]
  },
  {
   "cell_type": "markdown",
   "metadata": {},
   "source": [
    "### iii) 100 measurements"
   ]
  },
  {
   "cell_type": "code",
   "execution_count": 26,
   "metadata": {},
   "outputs": [
    {
     "data": {
      "image/png": "[encoded data removed]",
      "text/plain": [
       "<Figure size 504x360 with 1 Axes>"
      ]
     },
     "execution_count": 26,
     "metadata": {},
     "output_type": "execute_result"
    }
   ],
   "source": [
    "shots = 100\n",
    "counts = execute(qc, q_simulator, shots=shots).result().get_counts()\n",
    "plot_histogram(counts)"
   ]
  },
  {
   "cell_type": "markdown",
   "metadata": {},
   "source": [
    "### iv) 1000 measurements"
   ]
  },
  {
   "cell_type": "code",
   "execution_count": 27,
   "metadata": {},
   "outputs": [
    {
     "data": {
      "image/png": "[encoded data removed]",
      "text/plain": [
       "<Figure size 504x360 with 1 Axes>"
      ]
     },
     "execution_count": 27,
     "metadata": {},
     "output_type": "execute_result"
    }
   ],
   "source": [
    "shots = 1000\n",
    "counts = execute(qc, q_simulator, shots=shots).result().get_counts()\n",
    "plot_histogram(counts)"
   ]
  },
  {
   "cell_type": "markdown",
   "metadata": {},
   "source": [
    "# Implementation in PennyLane"
   ]
  },
  {
   "cell_type": "code",
   "execution_count": 1,
   "metadata": {},
   "outputs": [],
   "source": [
    "# Necessary imports\n",
    "import pennylane as qml\n",
    "from pennylane import numpy as np"
   ]
  },
  {
   "cell_type": "markdown",
   "metadata": {},
   "source": [
    "## Construction of the circuit\n",
    "PennyLane provides us with built-in optimizers that will take care of the mathematical rigor that we implemented above in Qiskit. For this reason, we directly construct the parameterized circuit and measure the probability of measuring the states $|00 \\rangle$, $|01 \\rangle$, $|10 \\rangle$ and $|11 \\rangle$."
   ]
  },
  {
   "cell_type": "code",
   "execution_count": 2,
   "metadata": {},
   "outputs": [],
   "source": [
    "# Defining the device (backend) to use\n",
    "dev = qml.device(\"default.qubit\", wires=2)\n",
    "\n",
    "# Define a parameterized circuit\n",
    "# params = [q0_theta0, q0_theta1, q1_theta0, q1_theta1]\n",
    "@qml.qnode(dev)\n",
    "def circuit(params):\n",
    "    qml.RY(params[0], wires=0)\n",
    "    qml.RX(params[1], wires=0)\n",
    "    qml.RY(params[2], wires=1)\n",
    "    qml.RX(params[3], wires=1)\n",
    "    qml.CNOT(wires=[0,1])\n",
    "    \n",
    "    # return the probabilies of the states as a list\n",
    "    return qml.probs(wires=[0,1])\n"
   ]
  },
  {
   "cell_type": "markdown",
   "metadata": {},
   "source": [
    "After our initial qubit state $|00 \\rangle$ undergoes operations under the parameterized, we arrive at a state say $| \\psi \\rangle$."
   ]
  },
  {
   "cell_type": "code",
   "execution_count": 3,
   "metadata": {},
   "outputs": [],
   "source": [
    "# Define a function that returns the probability of measuring a state of this composite system\n",
    "# state = 0,1,2 or 3 where 0 = |00>, 1 = |01>, 2 = |10>, 3 = |11>\n",
    "def probability(circuit, params, state):\n",
    "    return circuit(params)[state]\n"
   ]
  },
  {
   "cell_type": "markdown",
   "metadata": {},
   "source": [
    "## Cost function\n",
    "Since we are using the entire circuit to optimize (unlike the case with Qiskit where we optimized upto the CNOT gate and treated both the qubits as 2 separate optimization problems), we will be optimizing the parameters of both the qubits at once. For this we'll implement a very straightforward cost function as a function of probabilities as implemented in our implementation in Qiskit.\n",
    "\n",
    "A simple cost function would be\n",
    "\n",
    "$$\n",
    "J = (P_{00}^2 + (P_{01} - 0.5)^2 + (P_{10} - 0.5)^2 + P_{11}^2)\n",
    "$$\n",
    "\n",
    "Or as implemented in our code, it would be\n",
    "\n",
    "$$\n",
    "J = (P_0^2 + (P_1 - 0.5)^2 + (P_2 - 0.5)^2 + P_3^2)\n",
    "$$\n",
    "\n",
    "where $P_0 = | \\langle 00 | \\psi \\rangle |^2$, $P_1 = | \\langle 01 | \\psi \\rangle |^2$, $P_2 = | \\langle 10 | \\psi \\rangle |^2$ and $P_3 = | \\langle 11 | \\psi \\rangle |^2$.\n",
    "\n",
    "Let us define this cost function in our code."
   ]
  },
  {
   "cell_type": "code",
   "execution_count": 9,
   "metadata": {},
   "outputs": [],
   "source": [
    "# Cost function with params = [q0_theta0, q0_theta1, q1_theta0, q1_theta1]\n",
    "def cost(params):\n",
    "    return (probability(circuit, params, 0)**2 + (probability(circuit, params, 1) - 0.5)**2 + (probability(circuit, params, 2) - 0.5)**2 + probability(circuit, params, 3)**2)"
   ]
  },
  {
   "cell_type": "markdown",
   "metadata": {},
   "source": [
    "## Optimization using Gradient Descent"
   ]
  },
  {
   "cell_type": "code",
   "execution_count": 10,
   "metadata": {},
   "outputs": [],
   "source": [
    "# Initial parameters (assign random values)\n",
    "init_params = [0.011, 0.012, 0.013, 0.015]\n",
    "\n",
    "# Optimizer\n",
    "opt = qml.GradientDescentOptimizer(stepsize=0.4)"
   ]
  },
  {
   "cell_type": "code",
   "execution_count": 11,
   "metadata": {},
   "outputs": [],
   "source": [
    "# Number of iterations\n",
    "steps = 100\n",
    "\n",
    "# Assign initial parameters to a variable 'params' to be optimized\n",
    "params = init_params"
   ]
  },
  {
   "cell_type": "code",
   "execution_count": 12,
   "metadata": {},
   "outputs": [
    {
     "name": "stdout",
     "output_type": "stream",
     "text": [
      "Cost after step     5:  1.4647601\n",
      "Cost after step    10:  0.6840420\n",
      "Cost after step    15:  0.3694035\n",
      "Cost after step    20:  0.1949746\n",
      "Cost after step    25:  0.0791413\n",
      "Cost after step    30:  0.0322487\n",
      "Cost after step    35:  0.0152555\n",
      "Cost after step    40:  0.0082556\n",
      "Cost after step    45:  0.0049328\n",
      "Cost after step    50:  0.0031729\n",
      "Cost after step    55:  0.0021623\n",
      "Cost after step    60:  0.0015455\n",
      "Cost after step    65:  0.0011502\n",
      "Cost after step    70:  0.0008861\n",
      "Cost after step    75:  0.0007029\n",
      "Cost after step    80:  0.0005715\n",
      "Cost after step    85:  0.0004744\n",
      "Cost after step    90:  0.0004006\n",
      "Cost after step    95:  0.0003431\n",
      "Cost after step   100:  0.0002975\n"
     ]
    }
   ],
   "source": [
    "# Optimization over every loop\n",
    "for i in range(steps):\n",
    "    params = opt.step(cost, params)\n",
    "    \n",
    "    if (i+1) % 5 == 0:\n",
    "        print(\"Cost after step {:5d}: {: .7f}\".format(i+1, cost(params)))"
   ]
  },
  {
   "cell_type": "code",
   "execution_count": 13,
   "metadata": {},
   "outputs": [
    {
     "name": "stdout",
     "output_type": "stream",
     "text": [
      "Probability of states:\n",
      "\n",
      "|00> = 0.008610107306324064\n",
      "|01> = 0.492465548366165\n",
      "|10> = 0.4903512035377595\n",
      "|11> = 0.0085731407897514\n"
     ]
    }
   ],
   "source": [
    "# Print the probabilities of states after optimization\n",
    "print(\"Probability of states:\\n\")\n",
    "print(\"|00> =\", circuit(params)[0])\n",
    "print(\"|01> =\", circuit(params)[1])\n",
    "print(\"|10> =\", circuit(params)[2])\n",
    "print(\"|11> =\", circuit(params)[3])"
   ]
  },
  {
   "cell_type": "markdown",
   "metadata": {},
   "source": [
    "## Bonus question: How to make sure that you produce the state $|01 \\rangle + |10 \\rangle$ and not $|01 \\rangle - |10 \\rangle$"
   ]
  },
  {
   "cell_type": "markdown",
   "metadata": {},
   "source": [
    "Let us find the state of the system before making the measurement. For this we shall use the 'statevector_simulator' in Qiskit which allows us to know the state of the system without destroying it."
   ]
  },
  {
   "cell_type": "code",
   "execution_count": null,
   "metadata": {},
   "outputs": [],
   "source": []
  },
  {
   "cell_type": "code",
   "execution_count": null,
   "metadata": {},
   "outputs": [],
   "source": []
  },
  {
   "cell_type": "markdown",
   "metadata": {},
   "source": [
    "## Questions to ponder about\n"
   ]
  },
  {
   "cell_type": "code",
   "execution_count": null,
   "metadata": {},
   "outputs": [],
   "source": []
  },
  {
   "cell_type": "code",
   "execution_count": null,
   "metadata": {},
   "outputs": [],
   "source": []
  },
  {
   "cell_type": "code",
   "execution_count": null,
   "metadata": {},
   "outputs": [],
   "source": []
  },
  {
   "cell_type": "markdown",
   "metadata": {},
   "source": [
    "# To do\n",
    "- Implement partial derivatives not by hand but through external libraries like Sympy.\n",
    "- Implementing various other optimization techniques such as the Adam optimizer and gradient descent with momentum.\n",
    "- ~Implement the same problem using PennyLane, which provides pre-build functions for optimization~ Used basic gradient descent in PennyLane."
   ]
  },
  {
   "cell_type": "code",
   "execution_count": null,
   "metadata": {},
   "outputs": [],
   "source": []
  }
 ],
 "metadata": {
  "kernelspec": {
   "display_name": "Python 3",
   "language": "python",
   "name": "python3"
  },
  "language_info": {
   "codemirror_mode": {
    "name": "ipython",
    "version": 3
   },
   "file_extension": ".py",
   "mimetype": "text/x-python",
   "name": "python",
   "nbconvert_exporter": "python",
   "pygments_lexer": "ipython3",
   "version": "3.8.5"
  }
 },
 "nbformat": 4,
 "nbformat_minor": 4
}
