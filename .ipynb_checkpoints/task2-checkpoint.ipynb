{
 "cells": [
  {
   "cell_type": "markdown",
   "metadata": {},
   "source": [
    "# QOSF Task 2\n",
    "\n",
    "Implement a circuit that returns $| 01 \\rangle$ and $|10 \\rangle$ with equal probability.\n",
    "\n",
    "Requirements :\n",
    "- The circuit should consist only of CNOTs, RXs and RYs. \n",
    "- Start from all parameters in parametric gates being equal to 0 or randomly chosen. \n",
    "- You should find the right set of parameters using gradient descent (you can use more advanced optimization methods if you like). \n",
    "- Simulations must be done with sampling - i.e. a limited number of measurements per iteration and noise. \n",
    "\n",
    "Compare the results for different numbers of measurements: 1, 10, 100, 1000. \n",
    "\n",
    "Bonus question:\n",
    "How to make sure you produce state $|01 \\rangle + |10 \\rangle$ and not $|01 \\rangle - |10 \\rangle$?"
   ]
  },
  {
   "cell_type": "code",
   "execution_count": 2,
   "metadata": {},
   "outputs": [],
   "source": [
    "# Importing necessary libraries \n",
    "# and predefining some variables\n",
    "from qiskit import execute, Aer, QuantumCircuit \n",
    "from qiskit.visualization import plot_histogram, plot_state_qsphere as q_plot\n",
    "from qiskit.quantum_info import Statevector\n",
    "import numpy as np\n",
    "import matplotlib.pyplot as plt\n",
    "import random\n",
    "%matplotlib inline\n",
    "\n",
    "q_simulator = Aer.get_backend('qasm_simulator')\n",
    "st_simulator = Aer.get_backend('statevector_simulator')"
   ]
  },
  {
   "cell_type": "markdown",
   "metadata": {},
   "source": [
    "## Trial circuit\n",
    "Let us implement a quantum circuit with known parameters that yields an equal probability of $| 01 \\rangle$ and $| 10 \\rangle$ to get an idea of what the gates the circuit must consist of."
   ]
  },
  {
   "cell_type": "code",
   "execution_count": 6,
   "metadata": {},
   "outputs": [],
   "source": [
    "# Define a quantum circuit consisting of 2 qubits\n",
    "qc = QuantumCircuit(2)\n",
    "\n",
    "# Hadamard gate on qubit 0\n",
    "qc.ry(np.pi/2, 0)\n",
    "qc.rx(np.pi, 0)\n",
    "\n",
    "# X gate on qubit 1\n",
    "qc.rx(np.pi, 1)\n",
    "\n",
    "# CNOT gate with qubit 0, qubit 1 as the control and target qubits respectively\n",
    "qc.cx(0,1)\n",
    "qc.measure_all()"
   ]
  },
  {
   "cell_type": "code",
   "execution_count": 10,
   "metadata": {},
   "outputs": [
    {
     "data": {
      "image/png": "[encoded data removed]",
      "text/plain": [
       "<Figure size 504x360 with 1 Axes>"
      ]
     },
     "execution_count": 10,
     "metadata": {},
     "output_type": "execute_result"
    }
   ],
   "source": [
    "counts = execute(qc, q_simulator, shots=1000).result().get_counts()\n",
    "plot_histogram(counts)"
   ]
  },
  {
   "cell_type": "markdown",
   "metadata": {},
   "source": [
    "As can be seen from the histogram plot, we get the desired output. Our goal now is to parameterize the circuit by introducing unknown parameters to the RX and RY gates."
   ]
  },
  {
   "cell_type": "markdown",
   "metadata": {},
   "source": [
    "When trying to find the optimal solution to the parameterized problem, the CNOT gate does not play a role since it does not depend on parameters. Hence, the goal is to find the optimum solution to the state of the qubits just before applying the CNOT gate."
   ]
  },
  {
   "cell_type": "markdown",
   "metadata": {},
   "source": [
    "Let us see the effect of the gates used in the trial circuit to find the state of the system at the end of the circuit.\n",
    "\n",
    "All qubits are initialized to the state $| 0 \\rangle$ thus initializing the system at $| 00 \\rangle$. Applying a Hadamard gate to the 1st qubit yields, \n",
    "\n",
    "$$ |00 \\rangle \\longrightarrow |0 \\rangle \\otimes \\frac{1}{\\sqrt{2}} (|0 \\rangle + |1 \\rangle)$$"
   ]
  },
  {
   "cell_type": "markdown",
   "metadata": {},
   "source": [
    "It is a good point to note here that Qiskit orders its qubits in a different way compared to the textbook convention. In Qiskit, if $q_0$ and $q_1$ are the 1st and 2nd qubits respectively, then the composite system is written as\n",
    "\n",
    "$$ |q_1 q_0 \\rangle = |q_1 \\rangle \\otimes |q_0 \\rangle$$"
   ]
  },
  {
   "cell_type": "markdown",
   "metadata": {},
   "source": [
    "Now applying an X gate onto the second qubit,\n",
    "\n",
    "$$ |0 \\rangle \\otimes \\frac{1}{\\sqrt{2}}(|0 \\rangle + |1 \\rangle) \\longrightarrow |1 \\rangle \\otimes \\frac{1}{\\sqrt{2}} (|0 \\rangle + |1 \\rangle)$$"
   ]
  },
  {
   "cell_type": "markdown",
   "metadata": {},
   "source": [
    "Finally applying a CNOT gate (with the first qubit as the control and the second qubit as the target), we get\n",
    "\n",
    "$$ |1 \\rangle \\otimes \\frac{1}{\\sqrt{2}} (|0 \\rangle + |1 \\rangle) \\longrightarrow \\frac{1}{\\sqrt{2}} (|10 \\rangle + |01 \\rangle) = |\\psi \\rangle$$"
   ]
  },
  {
   "cell_type": "markdown",
   "metadata": {},
   "source": [
    "This final state $|\\psi \\rangle$ upon measurement, will yield $|10 \\rangle$ with a probability of 0.5 and $|01 \\rangle$ with a probability of 0.5."
   ]
  },
  {
   "cell_type": "markdown",
   "metadata": {},
   "source": [
    "However, since we are not concerned with unparameterized operations, we only have to worry about the state of the system just before the application of the CNOT gate. That state would be,\n",
    "\n",
    "$$ |1 \\rangle \\otimes \\frac{1}{\\sqrt{2}}(|0 \\rangle + |1 \\rangle)$$"
   ]
  },
  {
   "cell_type": "markdown",
   "metadata": {},
   "source": [
    "This state is clearly unentangled, meaning that the corresponding qubits are independent and that we can treat the problem as 2 separate optimization problems."
   ]
  },
  {
   "cell_type": "code",
   "execution_count": 17,
   "metadata": {},
   "outputs": [],
   "source": [
    "## Initializing parameters with random values\n",
    "\n",
    "# q0_thetas holds parameters for the first qubit and q1_thetas holds parameters for the second qubit\n",
    "q0_thetas = [ random.uniform(0.01, 2 * np.pi) for i in range(2)]\n",
    "q1_thetas = [ random.uniform(0.01, 2 * np.pi) for i in range(2)]"
   ]
  },
  {
   "cell_type": "markdown",
   "metadata": {},
   "source": [
    "Let us define a function that returns a parameterized quantum circuit"
   ]
  },
  {
   "cell_type": "code",
   "execution_count": 12,
   "metadata": {},
   "outputs": [],
   "source": [
    "def circuit(params0, params1):\n",
    "    circuit = QuantumCircuit(2)\n",
    "    circuit.ry(params0[0], 0)\n",
    "    circuit.rx(params0[1], 0)\n",
    "    circuit.ry(params1[0], 1)\n",
    "    circuit.rx(params1[1], 1)\n",
    "    \n",
    "    return circuit"
   ]
  },
  {
   "cell_type": "code",
   "execution_count": 18,
   "metadata": {},
   "outputs": [
    {
     "data": {
      "image/png": "[encoded data removed]",
      "text/plain": [
       "<Figure size 473.172x198.66 with 1 Axes>"
      ]
     },
     "execution_count": 18,
     "metadata": {},
     "output_type": "execute_result"
    }
   ],
   "source": [
    "circ = circuit(q0_thetas, q1_thetas)\n",
    "circ.measure_all()\n",
    "circ.draw()"
   ]
  },
  {
   "cell_type": "code",
   "execution_count": null,
   "metadata": {},
   "outputs": [],
   "source": []
  }
 ],
 "metadata": {
  "kernelspec": {
   "display_name": "Python 3",
   "language": "python",
   "name": "python3"
  },
  "language_info": {
   "codemirror_mode": {
    "name": "ipython",
    "version": 3
   },
   "file_extension": ".py",
   "mimetype": "text/x-python",
   "name": "python",
   "nbconvert_exporter": "python",
   "pygments_lexer": "ipython3",
   "version": "3.8.5"
  }
 },
 "nbformat": 4,
 "nbformat_minor": 4
}
