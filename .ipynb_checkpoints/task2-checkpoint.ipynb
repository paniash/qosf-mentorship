{
 "cells": [
  {
   "cell_type": "markdown",
   "metadata": {},
   "source": [
    "# QOSF Task 2\n",
    "\n",
    "Implement a circuit that returns $| 01 \\rangle$ and $|10 \\rangle$ with equal probability.\n",
    "\n",
    "Requirements :\n",
    "- The circuit should consist only of CNOTs, RXs and RYs. \n",
    "- Start from all parameters in parametric gates being equal to 0 or randomly chosen. \n",
    "- You should find the right set of parameters using gradient descent (you can use more advanced optimization methods if you like). \n",
    "- Simulations must be done with sampling - i.e. a limited number of measurements per iteration and noise. \n",
    "\n",
    "Compare the results for different numbers of measurements: 1, 10, 100, 1000. \n",
    "\n",
    "Bonus question:\n",
    "How to make sure you produce state $|01 \\rangle + |10 \\rangle$ and not $|01 \\rangle - |10 \\rangle$?"
   ]
  },
  {
   "cell_type": "markdown",
   "metadata": {},
   "source": [
    "I have decided to use Qiskit in my code as I'm quite comfortable with it."
   ]
  },
  {
   "cell_type": "code",
   "execution_count": 54,
   "metadata": {},
   "outputs": [],
   "source": [
    "# Importing necessary libraries \n",
    "# and predefining backends\n",
    "from qiskit import execute, Aer, QuantumCircuit \n",
    "from qiskit.visualization import plot_histogram, plot_state_qsphere\n",
    "from qiskit.quantum_info import Statevector\n",
    "import numpy as np\n",
    "import matplotlib.pyplot as plt\n",
    "import random\n",
    "%matplotlib inline\n",
    "\n",
    "q_simulator = Aer.get_backend('qasm_simulator')\n",
    "st_simulator = Aer.get_backend('statevector_simulator')"
   ]
  },
  {
   "cell_type": "markdown",
   "metadata": {},
   "source": [
    "## Trial circuit\n",
    "Let us implement a quantum circuit with known parameters that yields an equal probability of $| 01 \\rangle$ and $| 10 \\rangle$ to get an idea of what gates the circuit must consist of."
   ]
  },
  {
   "cell_type": "code",
   "execution_count": 55,
   "metadata": {},
   "outputs": [],
   "source": [
    "# Define a quantum circuit consisting of 2 qubits\n",
    "qc = QuantumCircuit(2)\n",
    "qcr = QuantumCircuit(2)\n",
    "\n",
    "# Hadamard gate on qubit 0\n",
    "qc.ry(np.pi/2, 0)\n",
    "qc.rx(np.pi, 0)\n",
    "qcr.h(0)\n",
    "\n",
    "# X gate on qubit 1\n",
    "qc.rx(np.pi, 1)\n",
    "qcr.x(1)\n",
    "\n",
    "# CNOT gate with qubit 0, qubit 1 as the control and target qubits respectively\n",
    "qc.cx(0,1)\n",
    "qcr.cx(0,1)\n",
    "qc.measure_all()\n",
    "qcr.measure_all()"
   ]
  },
  {
   "cell_type": "code",
   "execution_count": 56,
   "metadata": {},
   "outputs": [
    {
     "name": "stdout",
     "output_type": "stream",
     "text": [
      "Reference circuit: \n"
     ]
    },
    {
     "data": {
      "image/png": "[encoded data removed]",
      "text/plain": [
       "<Figure size 472.059x204.68 with 1 Axes>"
      ]
     },
     "execution_count": 56,
     "metadata": {},
     "output_type": "execute_result"
    }
   ],
   "source": [
    "print(\"Reference circuit: \")\n",
    "qcr.draw()"
   ]
  },
  {
   "cell_type": "code",
   "execution_count": 57,
   "metadata": {},
   "outputs": [
    {
     "name": "stdout",
     "output_type": "stream",
     "text": [
      "Parameterized circuit: \n"
     ]
    },
    {
     "data": {
      "image/png": "[encoded data removed]",
      "text/plain": [
       "<Figure size 532.259x204.68 with 1 Axes>"
      ]
     },
     "execution_count": 57,
     "metadata": {},
     "output_type": "execute_result"
    }
   ],
   "source": [
    "print(\"Parameterized circuit: \")\n",
    "qc.draw()"
   ]
  },
  {
   "cell_type": "code",
   "execution_count": 58,
   "metadata": {},
   "outputs": [
    {
     "data": {
      "image/png": "[encoded data removed]",
      "text/plain": [
       "<Figure size 504x360 with 1 Axes>"
      ]
     },
     "execution_count": 58,
     "metadata": {},
     "output_type": "execute_result"
    }
   ],
   "source": [
    "counts = execute(qc, q_simulator, shots=1000).result().get_counts()\n",
    "plot_histogram(counts)"
   ]
  },
  {
   "cell_type": "markdown",
   "metadata": {},
   "source": [
    "As can be seen from the histogram plot, we get the desired output. Our goal now is to parameterize the circuit by introducing unknown parameters to the RX and RY gates."
   ]
  },
  {
   "cell_type": "markdown",
   "metadata": {},
   "source": [
    "When trying to find the optimal solution to the parameterized problem, the CNOT gate does not play a role since it does not depend on parameters. Hence, the goal is to find the optimum solution to the state of the qubits just before applying the CNOT gate."
   ]
  },
  {
   "cell_type": "markdown",
   "metadata": {},
   "source": [
    "Let us see the effect of the gates used in the trial circuit to find the state of the system at the end of the circuit.\n",
    "\n",
    "All qubits are initialized to the state $| 0 \\rangle$ thus initializing the system at $| 00 \\rangle$. Applying a Hadamard gate to the 1st qubit yields, \n",
    "\n",
    "$$ |00 \\rangle \\longrightarrow |0 \\rangle \\otimes \\frac{1}{\\sqrt{2}} (|0 \\rangle + |1 \\rangle)$$"
   ]
  },
  {
   "cell_type": "markdown",
   "metadata": {},
   "source": [
    "It is a good point to note here that Qiskit orders its qubits in a different way compared to the textbook convention. In Qiskit, if $q_0$ and $q_1$ are the 1st and 2nd qubits respectively, then the composite system is written as\n",
    "\n",
    "$$ |q_1 q_0 \\rangle = |q_1 \\rangle \\otimes |q_0 \\rangle$$"
   ]
  },
  {
   "cell_type": "markdown",
   "metadata": {},
   "source": [
    "Now applying an X gate onto the second qubit,\n",
    "\n",
    "$$ |0 \\rangle \\otimes \\frac{1}{\\sqrt{2}}(|0 \\rangle + |1 \\rangle) \\longrightarrow |1 \\rangle \\otimes \\frac{1}{\\sqrt{2}} (|0 \\rangle + |1 \\rangle)$$"
   ]
  },
  {
   "cell_type": "markdown",
   "metadata": {},
   "source": [
    "Finally applying a CNOT gate (with the first qubit as the control and the second qubit as the target), we get\n",
    "\n",
    "$$ |1 \\rangle \\otimes \\frac{1}{\\sqrt{2}} (|0 \\rangle + |1 \\rangle) \\longrightarrow \\frac{1}{\\sqrt{2}} (|10 \\rangle + |01 \\rangle) = |\\psi \\rangle$$"
   ]
  },
  {
   "cell_type": "markdown",
   "metadata": {},
   "source": [
    "This final state $|\\psi \\rangle$ upon measurement, will yield $|10 \\rangle$ with a probability of 0.5 and $|01 \\rangle$ with a probability of 0.5."
   ]
  },
  {
   "cell_type": "markdown",
   "metadata": {},
   "source": [
    "However, since we are not concerned with unparameterized operations, we only have to worry about the state of the system just before the application of the CNOT gate. That state would be,\n",
    "\n",
    "$$ | \\phi \\rangle = |1 \\rangle \\otimes \\frac{1}{\\sqrt{2}}(|0 \\rangle + |1 \\rangle)$$"
   ]
  },
  {
   "cell_type": "markdown",
   "metadata": {},
   "source": [
    "This state is clearly unentangled, meaning that the corresponding qubits are independent and that we can treat the problem as 2 separate optimization problems."
   ]
  },
  {
   "cell_type": "code",
   "execution_count": 59,
   "metadata": {},
   "outputs": [],
   "source": [
    "## Initializing parameters with random values\n",
    "\n",
    "# q0_thetas holds parameters for the first qubit and q1_thetas holds parameters for the second qubit\n",
    "q0_thetas = [ random.uniform(0.001, 2 * np.pi) for i in range(2)]\n",
    "q1_thetas = [ random.uniform(0.001, 2 * np.pi) for i in range(2)]"
   ]
  },
  {
   "cell_type": "markdown",
   "metadata": {},
   "source": [
    "Let us define a function that returns a parameterized quantum circuit"
   ]
  },
  {
   "cell_type": "code",
   "execution_count": 60,
   "metadata": {},
   "outputs": [],
   "source": [
    "def circuit(params0, params1):\n",
    "    circuit = QuantumCircuit(2)\n",
    "    circuit.ry(params0[0], 0)\n",
    "    circuit.rx(params0[1], 0)\n",
    "    circuit.ry(params1[0], 1)\n",
    "    circuit.rx(params1[1], 1)\n",
    "    \n",
    "    return circuit"
   ]
  },
  {
   "cell_type": "code",
   "execution_count": 61,
   "metadata": {},
   "outputs": [
    {
     "data": {
      "image/png": "[encoded data removed]",
      "text/plain": [
       "<Figure size 472.059x204.68 with 1 Axes>"
      ]
     },
     "execution_count": 61,
     "metadata": {},
     "output_type": "execute_result"
    }
   ],
   "source": [
    "circ = circuit(q0_thetas, q1_thetas)\n",
    "circ.measure_all()\n",
    "circ.draw()"
   ]
  },
  {
   "cell_type": "code",
   "execution_count": 62,
   "metadata": {},
   "outputs": [
    {
     "data": {
      "image/png": "[encoded data removed]",
      "text/plain": [
       "<Figure size 504x360 with 1 Axes>"
      ]
     },
     "execution_count": 62,
     "metadata": {},
     "output_type": "execute_result"
    }
   ],
   "source": [
    "cnt = execute(circ, q_simulator).result().get_counts()\n",
    "plot_histogram(cnt)"
   ]
  },
  {
   "cell_type": "markdown",
   "metadata": {},
   "source": [
    "Our goal here is to optimize the parameters such that measuring $q_1$ yields that state $|1 \\rangle$ with probability 1 and measuring $q_0$ yields the states $|0 \\rangle$ and $|1 \\rangle$ with probabilities 0.5 each."
   ]
  },
  {
   "cell_type": "markdown",
   "metadata": {},
   "source": [
    "## Cost function\n",
    "\n",
    "Since the 2 qubits can be treated independently, let us define 2 cost functions to optimize their respective parameters.\n",
    "\n",
    "Let $J_0$ and $J_1$ be the cost functions of $q_0$ and $q_1$ respectively. Since we're dealing with probability, let us implement it into these cost functions. "
   ]
  },
  {
   "cell_type": "markdown",
   "metadata": {},
   "source": [
    "### Qubit 0\n",
    "$$ J_0 = \\frac{1}{4} ((P_0 - 0.5)^2 + (P_1 - 0.5)^2)$$\n",
    "\n",
    "### Qubit 1\n",
    "$$ J_1 = \\frac{1}{4} (P_0^2 + (P_1 - 1)^2)$$\n",
    "\n",
    "where $P_0$ and $P_1$ are the probabilities of measuring $|0 \\rangle$ and $|1 \\rangle$ respectively."
   ]
  },
  {
   "cell_type": "markdown",
   "metadata": {},
   "source": [
    "We wish to minimize the above 2 cost functions using batch gradient descent as our optimization method."
   ]
  },
  {
   "cell_type": "markdown",
   "metadata": {},
   "source": [
    "Now let us analytically deduce the operations the gates perform on our initial qubit state $| 00 \\rangle$."
   ]
  },
  {
   "cell_type": "markdown",
   "metadata": {},
   "source": [
    "The $R_X$ gate corresponds to,\n",
    "\n",
    "$$\n",
    "R_X (\\theta) = \n",
    "\\begin{pmatrix}\n",
    "\\cos \\frac{\\theta}{2} & -i \\sin \\frac{\\theta}{2} \\\\\n",
    "-i \\sin \\frac{\\theta}{2} & \\cos \\frac{\\theta}{2} \\\\\n",
    "\\end{pmatrix}\n",
    "$$"
   ]
  },
  {
   "cell_type": "markdown",
   "metadata": {},
   "source": [
    "The $R_Y$ gate corresponds to,\n",
    "\n",
    "$$\n",
    "R_Y (\\theta) = \n",
    "\\begin{pmatrix}\n",
    "\\cos \\frac{\\theta}{2} & - \\sin \\frac{\\theta}{2} \\\\ \n",
    "\\sin \\frac{\\theta}{2} & \\cos \\frac{\\theta}{2} \\\\  \n",
    "\\end{pmatrix}\n",
    "$$\n"
   ]
  },
  {
   "cell_type": "markdown",
   "metadata": {},
   "source": [
    "The operation of these matrices on initial state $|0 \\rangle$ yields,\n",
    "\n",
    "$$\n",
    "|0 \\rangle \\xrightarrow[]{R_Y (\\theta_0)}\n",
    "\\begin{pmatrix}\n",
    "\\cos \\frac{\\theta_0}{2} \\\\ \n",
    "\\sin \\frac{\\theta_0}{2} \\\\  \n",
    "\\end{pmatrix}\n",
    "\\xrightarrow[]{R_X (\\theta_1)}\n",
    "\\begin{pmatrix}\n",
    "\\cos \\frac{\\theta_0}{2} \\cos \\frac{\\theta_1}{2} - i \\sin \\frac{\\theta_0}{2} \\sin \\frac{\\theta_1} {2} \\\\\n",
    "-i \\sin \\frac{\\theta_1}{2} \\cos \\frac{\\theta_0}{2} + \\cos \\frac{\\theta_1}{2} \\sin \\frac{\\theta_0}{2} \\\\\n",
    "\\end{pmatrix}\n",
    "= | \\psi \\rangle\n",
    "$$"
   ]
  },
  {
   "cell_type": "markdown",
   "metadata": {},
   "source": [
    "This is the state obtained on both the qubits in the unparameterized circuit. From this state $| \\psi \\rangle$, the probabilities of obtaining $|0 \\rangle$ and $|1 \\rangle$ can be obtained by computing the corresponding modulus of inner products,\n",
    "\n",
    "$$\n",
    "| \\langle 0 | \\psi \\rangle |^2 = \\cos^2 \\frac{\\theta_0}{2} \\cos^2 \\frac{\\theta_1}{2} + \\sin^2 \\frac{\\theta_0}{2} \\sin^2 \\frac{\\theta_1}{2} = P_0\n",
    "$$\n",
    "\n",
    "$$\n",
    "| \\langle 1 | \\psi \\rangle |^2 = \\cos^2 \\frac{\\theta_1}{2} \\sin^2 \\frac{\\theta_0}{2} + \\sin^2 \\frac{\\theta_1}{2} \\cos^2 \\frac{\\theta_0}{2} = P_1\n",
    "$$"
   ]
  },
  {
   "cell_type": "markdown",
   "metadata": {},
   "source": [
    "## Batch Gradient Descent\n",
    "\n",
    "Let us now get into the meat of the optimization problem. Since we are implementing batch gradient descent, the parameters have to be updated as\n",
    "\n",
    "$$\n",
    "\\theta_{i+1} := \\theta_i - \\alpha \\frac{\\partial }{\\partial \\theta_i} J (\\theta_0, \\theta_1)\n",
    "$$\n",
    "\n",
    "where $\\theta_{i+1}$ is the updated parameter and $\\alpha$ is the learning rate.\n",
    "\n"
   ]
  },
  {
   "cell_type": "markdown",
   "metadata": {},
   "source": [
    "In general, batch gradient descent is not useful when minimizing functions that consist of various local minima, since the optimizer will get stuck once it ends on a local minima. However, lucky for us, the cost function that we are minimizing has a single minima (global minima) and is the point that we intend the optimizer to reach. \n",
    "\n",
    "Let us verify this through a plot of cost function as a function of $\\theta$."
   ]
  },
  {
   "cell_type": "code",
   "execution_count": 19,
   "metadata": {},
   "outputs": [
    {
     "data": {
      "text/plain": [
       "[<mpl_toolkits.mplot3d.art3d.Line3D at 0x7f05381a8640>]"
      ]
     },
     "execution_count": 19,
     "metadata": {},
     "output_type": "execute_result"
    },
    {
     "data": {
      "image/png": "[encoded data removed]",
      "text/plain": [
       "<Figure size 432x288 with 1 Axes>"
      ]
     },
     "metadata": {
      "needs_background": "light"
     },
     "output_type": "display_data"
    }
   ],
   "source": [
    "from mpl_toolkits import mplot3d\n",
    "\n",
    "def z_function(x, y):\n",
    "    p0 = (np.cos(x/2)**2) * (np.cos(y/2)**2) + (np.sin(x/2)**2)*(np.sin(y/2)**2)\n",
    "    p1 = (np.cos(y/2)**2) * (np.sin(x/2)**2) + (np.sin(y/2)**2)*(np.cos(x/2)**2)\n",
    "\n",
    "    z = 0.25 * ((p0)**2 + (p1 - 1)**2)\n",
    "    return z\n",
    "\n",
    "x = np.linspace(0, 2*np.pi, 1000)\n",
    "y = np.linspace(0, 2*np.pi, 1000)\n",
    "z = z_function(x, y)\n",
    "\n",
    "fig = plt.figure()\n",
    "ax = plt.axes(projection='3d')\n",
    "ax.plot3D(x, y, z)"
   ]
  },
  {
   "cell_type": "markdown",
   "metadata": {},
   "source": [
    "Computing the respective partial derivatives of both cost funtions $J_0$ and $J_1$,\n",
    "\n",
    "$$\n",
    "\\frac{\\partial J_0}{\\partial \\theta_0} = \\frac{1}{2}\\left((P_0 - 0.5) \\frac{\\partial P_0}{\\partial \\theta_0} + (P_1 - 0.5) \\frac{\\partial P_1}{\\partial \\theta_0}\\right)\n",
    "$$\n",
    "\n",
    "$$\n",
    "\\frac{\\partial J_0}{\\partial \\theta_1} = \\frac{1}{2}\\left((P_0 - 0.5) \\frac{\\partial P_0}{\\partial \\theta_1} + (P_1 - 0.5) \\frac{\\partial P_1}{\\partial \\theta_1}\\right)\n",
    "$$\n",
    "\n",
    "$$\n",
    "\\frac{\\partial J_1}{\\partial \\theta_0} = \\frac{1}{2}\\left(P_0 \\frac{\\partial P_0}{\\partial \\theta_0} + (P_1 - 1) \\frac{\\partial P_1}{\\partial \\theta_0}\\right)\n",
    "$$\n",
    "\n",
    "$$\n",
    "\\frac{\\partial J_1}{\\partial \\theta_1} = \\frac{1}{2}\\left(P_0 \\frac{\\partial P_0}{\\partial \\theta_1} + (P_1 - 1) \\frac{\\partial P_1}{\\partial \\theta_1}\\right)\n",
    "$$"
   ]
  },
  {
   "cell_type": "markdown",
   "metadata": {},
   "source": [
    "Now, computing the partial derivatives of $P_0$ and $P_1$ with respect to the parameters,\n",
    "\n",
    "$$\n",
    "\\frac{\\partial P_0}{\\partial \\theta_0} = - \\cos \\frac{\\theta_0}{2} \\sin \\frac{\\theta_0}{2} \\cos^2 \\frac{\\theta_1}{2} + \\sin \\frac{\\theta_0}{2} \\cos \\frac{\\theta_0}{2} \\sin^2 \\frac{\\theta_1}{2} = -\\frac{1}{2} \\sin \\theta_0 \\cos \\theta_1\n",
    "$$\n",
    "\n",
    "$$\n",
    "\\frac{\\partial P_0}{\\partial \\theta_1} = - \\cos \\frac{\\theta_1}{2} \\sin \\frac{\\theta_1}{2} \\cos^2 \\frac{\\theta_0}{2} + \\sin \\frac{\\theta_1}{2} \\cos \\frac{\\theta_1}{2} \\sin^2 \\frac{\\theta_0}{2} = -\\frac{1}{2} \\sin \\theta_1 \\cos \\theta_0\n",
    "$$\n",
    "\n",
    "$$\n",
    "\\frac{\\partial P_1}{\\partial \\theta_0} = \\sin \\frac{\\theta_0}{2} \\cos \\frac{\\theta_0}{2} \\cos^2 \\frac{\\theta_1}{2} - \\sin^2 \\frac{\\theta_1}{2} \\cos \\frac{\\theta_0}{2} \\sin \\frac{\\theta_0}{2} = \\frac{1}{2} \\sin \\theta_0 \\cos \\theta_1\n",
    "$$\n",
    "\n",
    "$$\n",
    "\\frac{\\partial P_1}{\\partial \\theta_1} = -\\cos \\frac{\\theta_1}{2} \\sin \\frac{\\theta_1}{2} \\sin^2 \\frac{\\theta_0}{2} + \\sin \\frac{\\theta_1}{2} \\cos \\frac{\\theta_1}{2} \\cos^2 \\frac{\\theta_0}{2} = \\frac{1}{2} \\sin \\theta_1 \\cos \\theta_0\n",
    "$$"
   ]
  },
  {
   "cell_type": "markdown",
   "metadata": {},
   "source": [
    "## Partial derivatives of $J_i$ in terms of parameters $\\theta_0$, $\\theta_1$\n",
    "Substituting the above relations into the equations for the partial derivatives of $J_i$, we get\n",
    "\n",
    "$$\n",
    "\\frac{\\partial J_0}{\\partial \\theta_0} = \\frac{1}{4} \\sin \\theta_0 \\cos \\theta_1 (P_1 - P_0)\n",
    "$$\n",
    "\n",
    "$$\n",
    "\\frac{\\partial J_0}{\\partial \\theta_1} = \\frac{1}{4} \\sin \\theta_1 \\cos \\theta_0 (P_1 - P_0)\n",
    "$$\n",
    "\n",
    "$$\n",
    "\\frac{\\partial J_1}{\\partial \\theta_0} = \\frac{1}{4} \\sin \\theta_0 \\cos \\theta_1 (P_1 - P_0 -1)\n",
    "$$\n",
    "\n",
    "$$\n",
    "\\frac{\\partial J_1}{\\partial \\theta_1} = \\frac{1}{4} \\sin \\theta_1 \\cos \\theta_0 (P_1 - P_0 -1)\n",
    "$$"
   ]
  },
  {
   "cell_type": "markdown",
   "metadata": {},
   "source": [
    "Let us implement the above formulation in python."
   ]
  },
  {
   "cell_type": "code",
   "execution_count": 10,
   "metadata": {},
   "outputs": [],
   "source": [
    "## params = [theta0, theta1]\n",
    "\n",
    "# Probability of measuring state |0>\n",
    "def prob0(params):\n",
    "    p0 = (np.cos(params[0]/2)**2)*(np.cos(params[1]/2)**2) + (np.sin(params[0]/2)**2)*(np.sin(params[1]/2)**2)\n",
    "    return p0\n",
    "\n",
    "# Probability of measuring state |1>\n",
    "def prob1(params):\n",
    "    p1 = (np.sin(params[0]/2)**2)*(np.cos(params[1]/2)**2) + (np.cos(params[0]/2)**2)*(np.sin(params[1]/2)**2)\n",
    "    return p1"
   ]
  },
  {
   "cell_type": "code",
   "execution_count": 11,
   "metadata": {},
   "outputs": [],
   "source": [
    "# Function that returns the cost function for given qubit (0 or 1)\n",
    "def cost(params, qubit):\n",
    "    if qubit==0:\n",
    "        j0 = 0.25 * ((prob0(params) - 0.5)**2 + (prob1(params) - 0.5)**2)\n",
    "        return j0\n",
    "    \n",
    "    elif qubit==1:\n",
    "        j1 = 0.25 * (prob0(params)**2 + (prob1(params) - 1)**2)\n",
    "        return j1\n",
    "    \n",
    "    else:\n",
    "        print(\"Qubit index out of range!!!\")\n",
    "        exit()"
   ]
  },
  {
   "cell_type": "code",
   "execution_count": 12,
   "metadata": {},
   "outputs": [],
   "source": [
    "## Computes gradient for qubit 0\n",
    "# q0_thetas = [theta0, theta1]; i = index (0 for theta0, 1 for theta1) denotes the theta w.r.t the partial derivative\n",
    "def gradient_q0(q0_thetas, i):\n",
    "    p0 = prob0(q0_thetas)\n",
    "    p1 = prob1(q0_thetas)\n",
    "    \n",
    "    if i==0:\n",
    "        grad = 0.25 * np.sin(q0_thetas[0]) * np.cos(q0_thetas[1]) * (p1 - p0)\n",
    "        return grad\n",
    "    \n",
    "    elif i==1:\n",
    "        grad = 0.25 * np.sin(q0_thetas[1]) * np.cos(q0_thetas[0]) * (p1 - p0)\n",
    "        return grad\n",
    "    \n",
    "    else:\n",
    "        print(\"Incorrect index!!!\")\n",
    "        exit()\n",
    "    \n",
    "## Computes gradient for qubit 1\n",
    "# q1_thetas = [theta0, theta1]; i = index (0 for theta0, 1 for theta1) denotes the theta w.r.t the partial derivative\n",
    "def gradient_q1(q1_thetas, i):\n",
    "    p0 = prob0(q1_thetas)\n",
    "    p1 = prob1(q1_thetas)\n",
    "    \n",
    "    if i==0:\n",
    "        grad = 0.25 * np.sin(q1_thetas[0]) * np.cos(q1_thetas[1]) * (p1 - p0 - 1)\n",
    "        return grad\n",
    "    \n",
    "    elif i==1:\n",
    "        grad = 0.25 * np.sin(q1_thetas[1]) * np.cos(q1_thetas[0]) * (p1 - p0 - 1)\n",
    "        return grad\n",
    "    \n",
    "    else:\n",
    "        print(\"Incorrect index!!!\")\n",
    "        exit()"
   ]
  },
  {
   "cell_type": "code",
   "execution_count": 13,
   "metadata": {},
   "outputs": [],
   "source": [
    "## Gradient descent optimizer function\n",
    "# params = [theta0, theta1], qubit is the index of the qubit parameters being optimized\n",
    "def optimizer(params, learning_rate, qubit):\n",
    "    if qubit==0:\n",
    "        temp0 = params[0] - (learning_rate * gradient_q0(params, 0))\n",
    "        temp1 = params[1] - (learning_rate * gradient_q0(params, 1))\n",
    "        params[0] = temp0\n",
    "        params[1] = temp1\n",
    "       \n",
    "    elif qubit==1:\n",
    "        temp0 = params[0] - (learning_rate * gradient_q1(params, 0))\n",
    "        temp1 = params[1] - (learning_rate * gradient_q1(params, 1))\n",
    "        params[0] = temp0\n",
    "        params[1] = temp1\n",
    "        \n",
    "    else:\n",
    "        print(\"Out of range of qubits!!!\")\n",
    "        exit()"
   ]
  },
  {
   "cell_type": "code",
   "execution_count": 41,
   "metadata": {},
   "outputs": [],
   "source": [
    "## Initializing important variables\n",
    "# Number of iterations\n",
    "iterations = 1000\n",
    "\n",
    "# Learning rate\n",
    "learning_rate = 0.04"
   ]
  },
  {
   "cell_type": "code",
   "execution_count": 63,
   "metadata": {},
   "outputs": [],
   "source": [
    "params0 = q0_thetas\n",
    "params1 = q1_thetas"
   ]
  },
  {
   "cell_type": "code",
   "execution_count": 64,
   "metadata": {},
   "outputs": [
    {
     "name": "stdout",
     "output_type": "stream",
     "text": [
      "Cost after step     5:  0.0176132\n",
      "Cost after step    10:  0.0165385\n",
      "Cost after step    15:  0.0155262\n",
      "Cost after step    20:  0.0145733\n",
      "Cost after step    25:  0.0136768\n",
      "Cost after step    30:  0.0128338\n",
      "Cost after step    35:  0.0120413\n",
      "Cost after step    40:  0.0112966\n",
      "Cost after step    45:  0.0105972\n",
      "Cost after step    50:  0.0099403\n",
      "Cost after step    55:  0.0093236\n",
      "Cost after step    60:  0.0087447\n",
      "Cost after step    65:  0.0082014\n",
      "Cost after step    70:  0.0076917\n",
      "Cost after step    75:  0.0072134\n",
      "Cost after step    80:  0.0067647\n",
      "Cost after step    85:  0.0063439\n",
      "Cost after step    90:  0.0059491\n",
      "Cost after step    95:  0.0055789\n",
      "Cost after step   100:  0.0052317\n",
      "Cost after step   105:  0.0049061\n",
      "Cost after step   110:  0.0046007\n",
      "Cost after step   115:  0.0043144\n",
      "Cost after step   120:  0.0040459\n",
      "Cost after step   125:  0.0037941\n",
      "Cost after step   130:  0.0035580\n",
      "Cost after step   135:  0.0033367\n",
      "Cost after step   140:  0.0031291\n",
      "Cost after step   145:  0.0029344\n",
      "Cost after step   150:  0.0027519\n",
      "Cost after step   155:  0.0025808\n",
      "Cost after step   160:  0.0024203\n",
      "Cost after step   165:  0.0022698\n",
      "Cost after step   170:  0.0021287\n",
      "Cost after step   175:  0.0019964\n",
      "Cost after step   180:  0.0018723\n",
      "Cost after step   185:  0.0017560\n",
      "Cost after step   190:  0.0016469\n",
      "Cost after step   195:  0.0015446\n",
      "Cost after step   200:  0.0014486\n",
      "Cost after step   205:  0.0013586\n",
      "Cost after step   210:  0.0012742\n",
      "Cost after step   215:  0.0011951\n",
      "Cost after step   220:  0.0011209\n",
      "Cost after step   225:  0.0010513\n",
      "Cost after step   230:  0.0009860\n",
      "Cost after step   235:  0.0009248\n",
      "Cost after step   240:  0.0008674\n",
      "Cost after step   245:  0.0008136\n",
      "Cost after step   250:  0.0007631\n",
      "Cost after step   255:  0.0007157\n",
      "Cost after step   260:  0.0006713\n",
      "Cost after step   265:  0.0006296\n",
      "Cost after step   270:  0.0005906\n",
      "Cost after step   275:  0.0005539\n",
      "Cost after step   280:  0.0005196\n",
      "Cost after step   285:  0.0004873\n",
      "Cost after step   290:  0.0004571\n",
      "Cost after step   295:  0.0004287\n",
      "Cost after step   300:  0.0004021\n",
      "Cost after step   305:  0.0003772\n",
      "Cost after step   310:  0.0003538\n",
      "Cost after step   315:  0.0003319\n",
      "Cost after step   320:  0.0003113\n",
      "Cost after step   325:  0.0002920\n",
      "Cost after step   330:  0.0002739\n",
      "Cost after step   335:  0.0002569\n",
      "Cost after step   340:  0.0002409\n",
      "Cost after step   345:  0.0002260\n",
      "Cost after step   350:  0.0002120\n",
      "Cost after step   355:  0.0001988\n",
      "Cost after step   360:  0.0001865\n",
      "Cost after step   365:  0.0001749\n",
      "Cost after step   370:  0.0001641\n",
      "Cost after step   375:  0.0001539\n",
      "Cost after step   380:  0.0001444\n",
      "Cost after step   385:  0.0001354\n",
      "Cost after step   390:  0.0001270\n",
      "Cost after step   395:  0.0001192\n",
      "Cost after step   400:  0.0001118\n",
      "Cost after step   405:  0.0001048\n",
      "Cost after step   410:  0.0000983\n",
      "Cost after step   415:  0.0000922\n",
      "Cost after step   420:  0.0000865\n",
      "Cost after step   425:  0.0000812\n",
      "Cost after step   430:  0.0000761\n",
      "Cost after step   435:  0.0000714\n",
      "Cost after step   440:  0.0000670\n",
      "Cost after step   445:  0.0000628\n",
      "Cost after step   450:  0.0000589\n",
      "Cost after step   455:  0.0000553\n",
      "Cost after step   460:  0.0000518\n",
      "Cost after step   465:  0.0000486\n",
      "Cost after step   470:  0.0000456\n",
      "Cost after step   475:  0.0000428\n",
      "Cost after step   480:  0.0000401\n",
      "Cost after step   485:  0.0000377\n",
      "Cost after step   490:  0.0000353\n",
      "Cost after step   495:  0.0000331\n",
      "Cost after step   500:  0.0000311\n",
      "Cost after step   505:  0.0000291\n",
      "Cost after step   510:  0.0000273\n",
      "Cost after step   515:  0.0000256\n",
      "Cost after step   520:  0.0000241\n",
      "Cost after step   525:  0.0000226\n",
      "Cost after step   530:  0.0000212\n",
      "Cost after step   535:  0.0000199\n",
      "Cost after step   540:  0.0000186\n",
      "Cost after step   545:  0.0000175\n",
      "Cost after step   550:  0.0000164\n",
      "Cost after step   555:  0.0000154\n",
      "Cost after step   560:  0.0000144\n",
      "Cost after step   565:  0.0000135\n",
      "Cost after step   570:  0.0000127\n",
      "Cost after step   575:  0.0000119\n",
      "Cost after step   580:  0.0000112\n",
      "Cost after step   585:  0.0000105\n",
      "Cost after step   590:  0.0000098\n",
      "Cost after step   595:  0.0000092\n",
      "Cost after step   600:  0.0000086\n",
      "Cost after step   605:  0.0000081\n",
      "Cost after step   610:  0.0000076\n",
      "Cost after step   615:  0.0000071\n",
      "Cost after step   620:  0.0000067\n",
      "Cost after step   625:  0.0000063\n",
      "Cost after step   630:  0.0000059\n",
      "Cost after step   635:  0.0000055\n",
      "Cost after step   640:  0.0000052\n",
      "Cost after step   645:  0.0000049\n",
      "Cost after step   650:  0.0000046\n",
      "Cost after step   655:  0.0000043\n",
      "Cost after step   660:  0.0000040\n",
      "Cost after step   665:  0.0000038\n",
      "Cost after step   670:  0.0000035\n",
      "Cost after step   675:  0.0000033\n",
      "Cost after step   680:  0.0000031\n",
      "Cost after step   685:  0.0000029\n",
      "Cost after step   690:  0.0000027\n",
      "Cost after step   695:  0.0000026\n",
      "Cost after step   700:  0.0000024\n",
      "Cost after step   705:  0.0000023\n",
      "Cost after step   710:  0.0000021\n",
      "Cost after step   715:  0.0000020\n",
      "Cost after step   720:  0.0000019\n",
      "Cost after step   725:  0.0000017\n",
      "Cost after step   730:  0.0000016\n",
      "Cost after step   735:  0.0000015\n",
      "Cost after step   740:  0.0000014\n",
      "Cost after step   745:  0.0000014\n",
      "Cost after step   750:  0.0000013\n",
      "Cost after step   755:  0.0000012\n",
      "Cost after step   760:  0.0000011\n",
      "Cost after step   765:  0.0000010\n",
      "Cost after step   770:  0.0000010\n",
      "Cost after step   775:  0.0000009\n",
      "Cost after step   780:  0.0000009\n",
      "Cost after step   785:  0.0000008\n",
      "Cost after step   790:  0.0000008\n",
      "Cost after step   795:  0.0000007\n",
      "Cost after step   800:  0.0000007\n",
      "Cost after step   805:  0.0000006\n",
      "Cost after step   810:  0.0000006\n",
      "Cost after step   815:  0.0000006\n",
      "Cost after step   820:  0.0000005\n",
      "Cost after step   825:  0.0000005\n",
      "Cost after step   830:  0.0000005\n",
      "Cost after step   835:  0.0000004\n",
      "Cost after step   840:  0.0000004\n",
      "Cost after step   845:  0.0000004\n",
      "Cost after step   850:  0.0000004\n",
      "Cost after step   855:  0.0000003\n",
      "Cost after step   860:  0.0000003\n",
      "Cost after step   865:  0.0000003\n",
      "Cost after step   870:  0.0000003\n",
      "Cost after step   875:  0.0000003\n",
      "Cost after step   880:  0.0000002\n",
      "Cost after step   885:  0.0000002\n",
      "Cost after step   890:  0.0000002\n",
      "Cost after step   895:  0.0000002\n",
      "Cost after step   900:  0.0000002\n",
      "Cost after step   905:  0.0000002\n",
      "Cost after step   910:  0.0000002\n",
      "Cost after step   915:  0.0000002\n",
      "Cost after step   920:  0.0000001\n",
      "Cost after step   925:  0.0000001\n",
      "Cost after step   930:  0.0000001\n",
      "Cost after step   935:  0.0000001\n",
      "Cost after step   940:  0.0000001\n",
      "Cost after step   945:  0.0000001\n",
      "Cost after step   950:  0.0000001\n",
      "Cost after step   955:  0.0000001\n",
      "Cost after step   960:  0.0000001\n",
      "Cost after step   965:  0.0000001\n",
      "Cost after step   970:  0.0000001\n",
      "Cost after step   975:  0.0000001\n",
      "Cost after step   980:  0.0000001\n",
      "Cost after step   985:  0.0000001\n",
      "Cost after step   990:  0.0000001\n",
      "Cost after step   995:  0.0000001\n",
      "Cost after step  1000:  0.0000001\n",
      "Optimized parameters [4.711584179174665, 2.49592340492605]\n",
      "Cost after step     5:  0.0215435\n",
      "Cost after step    10:  0.0205121\n",
      "Cost after step    15:  0.0195381\n",
      "Cost after step    20:  0.0186185\n",
      "Cost after step    25:  0.0177501\n",
      "Cost after step    30:  0.0169302\n",
      "Cost after step    35:  0.0161559\n",
      "Cost after step    40:  0.0154247\n",
      "Cost after step    45:  0.0147340\n",
      "Cost after step    50:  0.0140814\n",
      "Cost after step    55:  0.0134647\n",
      "Cost after step    60:  0.0128817\n",
      "Cost after step    65:  0.0123304\n",
      "Cost after step    70:  0.0118089\n",
      "Cost after step    75:  0.0113154\n",
      "Cost after step    80:  0.0108481\n",
      "Cost after step    85:  0.0104056\n",
      "Cost after step    90:  0.0099863\n",
      "Cost after step    95:  0.0095888\n",
      "Cost after step   100:  0.0092119\n",
      "Cost after step   105:  0.0088543\n",
      "Cost after step   110:  0.0085148\n",
      "Cost after step   115:  0.0081923\n",
      "Cost after step   120:  0.0078860\n",
      "Cost after step   125:  0.0075947\n",
      "Cost after step   130:  0.0073177\n",
      "Cost after step   135:  0.0070541\n",
      "Cost after step   140:  0.0068031\n",
      "Cost after step   145:  0.0065641\n",
      "Cost after step   150:  0.0063363\n",
      "Cost after step   155:  0.0061191\n",
      "Cost after step   160:  0.0059119\n",
      "Cost after step   165:  0.0057142\n",
      "Cost after step   170:  0.0055254\n",
      "Cost after step   175:  0.0053450\n",
      "Cost after step   180:  0.0051727\n",
      "Cost after step   185:  0.0050079\n",
      "Cost after step   190:  0.0048502\n",
      "Cost after step   195:  0.0046993\n",
      "Cost after step   200:  0.0045548\n",
      "Cost after step   205:  0.0044164\n",
      "Cost after step   210:  0.0042838\n",
      "Cost after step   215:  0.0041566\n",
      "Cost after step   220:  0.0040346\n",
      "Cost after step   225:  0.0039176\n",
      "Cost after step   230:  0.0038052\n",
      "Cost after step   235:  0.0036973\n",
      "Cost after step   240:  0.0035936\n",
      "Cost after step   245:  0.0034939\n",
      "Cost after step   250:  0.0033981\n",
      "Cost after step   255:  0.0033059\n",
      "Cost after step   260:  0.0032172\n",
      "Cost after step   265:  0.0031318\n",
      "Cost after step   270:  0.0030496\n",
      "Cost after step   275:  0.0029704\n",
      "Cost after step   280:  0.0028940\n",
      "Cost after step   285:  0.0028204\n",
      "Cost after step   290:  0.0027494\n",
      "Cost after step   295:  0.0026810\n",
      "Cost after step   300:  0.0026149\n",
      "Cost after step   305:  0.0025511\n",
      "Cost after step   310:  0.0024894\n",
      "Cost after step   315:  0.0024299\n",
      "Cost after step   320:  0.0023724\n",
      "Cost after step   325:  0.0023168\n",
      "Cost after step   330:  0.0022630\n",
      "Cost after step   335:  0.0022110\n",
      "Cost after step   340:  0.0021606\n",
      "Cost after step   345:  0.0021119\n",
      "Cost after step   350:  0.0020648\n",
      "Cost after step   355:  0.0020191\n",
      "Cost after step   360:  0.0019749\n",
      "Cost after step   365:  0.0019320\n",
      "Cost after step   370:  0.0018905\n",
      "Cost after step   375:  0.0018502\n",
      "Cost after step   380:  0.0018111\n",
      "Cost after step   385:  0.0017732\n",
      "Cost after step   390:  0.0017365\n",
      "Cost after step   395:  0.0017008\n",
      "Cost after step   400:  0.0016662\n",
      "Cost after step   405:  0.0016325\n",
      "Cost after step   410:  0.0015999\n",
      "Cost after step   415:  0.0015681\n",
      "Cost after step   420:  0.0015373\n",
      "Cost after step   425:  0.0015073\n",
      "Cost after step   430:  0.0014782\n",
      "Cost after step   435:  0.0014498\n",
      "Cost after step   440:  0.0014223\n",
      "Cost after step   445:  0.0013955\n",
      "Cost after step   450:  0.0013694\n",
      "Cost after step   455:  0.0013440\n",
      "Cost after step   460:  0.0013193\n",
      "Cost after step   465:  0.0012952\n",
      "Cost after step   470:  0.0012718\n",
      "Cost after step   475:  0.0012490\n",
      "Cost after step   480:  0.0012267\n",
      "Cost after step   485:  0.0012051\n",
      "Cost after step   490:  0.0011839\n",
      "Cost after step   495:  0.0011634\n",
      "Cost after step   500:  0.0011433\n",
      "Cost after step   505:  0.0011237\n",
      "Cost after step   510:  0.0011046\n",
      "Cost after step   515:  0.0010860\n",
      "Cost after step   520:  0.0010678\n",
      "Cost after step   525:  0.0010501\n",
      "Cost after step   530:  0.0010327\n",
      "Cost after step   535:  0.0010158\n",
      "Cost after step   540:  0.0009993\n",
      "Cost after step   545:  0.0009832\n",
      "Cost after step   550:  0.0009675\n",
      "Cost after step   555:  0.0009521\n",
      "Cost after step   560:  0.0009371\n",
      "Cost after step   565:  0.0009224\n",
      "Cost after step   570:  0.0009080\n",
      "Cost after step   575:  0.0008940\n",
      "Cost after step   580:  0.0008803\n",
      "Cost after step   585:  0.0008669\n",
      "Cost after step   590:  0.0008538\n",
      "Cost after step   595:  0.0008409\n",
      "Cost after step   600:  0.0008284\n",
      "Cost after step   605:  0.0008161\n",
      "Cost after step   610:  0.0008041\n",
      "Cost after step   615:  0.0007923\n",
      "Cost after step   620:  0.0007808\n",
      "Cost after step   625:  0.0007695\n",
      "Cost after step   630:  0.0007585\n",
      "Cost after step   635:  0.0007477\n",
      "Cost after step   640:  0.0007371\n",
      "Cost after step   645:  0.0007268\n",
      "Cost after step   650:  0.0007166\n",
      "Cost after step   655:  0.0007067\n",
      "Cost after step   660:  0.0006969\n",
      "Cost after step   665:  0.0006874\n",
      "Cost after step   670:  0.0006780\n",
      "Cost after step   675:  0.0006688\n",
      "Cost after step   680:  0.0006598\n",
      "Cost after step   685:  0.0006510\n",
      "Cost after step   690:  0.0006424\n",
      "Cost after step   695:  0.0006339\n",
      "Cost after step   700:  0.0006256\n",
      "Cost after step   705:  0.0006174\n",
      "Cost after step   710:  0.0006094\n",
      "Cost after step   715:  0.0006015\n",
      "Cost after step   720:  0.0005938\n",
      "Cost after step   725:  0.0005863\n",
      "Cost after step   730:  0.0005788\n",
      "Cost after step   735:  0.0005716\n",
      "Cost after step   740:  0.0005644\n",
      "Cost after step   745:  0.0005574\n",
      "Cost after step   750:  0.0005505\n",
      "Cost after step   755:  0.0005437\n",
      "Cost after step   760:  0.0005371\n",
      "Cost after step   765:  0.0005305\n",
      "Cost after step   770:  0.0005241\n",
      "Cost after step   775:  0.0005178\n",
      "Cost after step   780:  0.0005116\n",
      "Cost after step   785:  0.0005055\n",
      "Cost after step   790:  0.0004996\n",
      "Cost after step   795:  0.0004937\n",
      "Cost after step   800:  0.0004879\n",
      "Cost after step   805:  0.0004822\n",
      "Cost after step   810:  0.0004767\n",
      "Cost after step   815:  0.0004712\n",
      "Cost after step   820:  0.0004658\n",
      "Cost after step   825:  0.0004605\n",
      "Cost after step   830:  0.0004553\n",
      "Cost after step   835:  0.0004501\n",
      "Cost after step   840:  0.0004451\n",
      "Cost after step   845:  0.0004401\n",
      "Cost after step   850:  0.0004353\n",
      "Cost after step   855:  0.0004305\n",
      "Cost after step   860:  0.0004257\n",
      "Cost after step   865:  0.0004211\n",
      "Cost after step   870:  0.0004165\n",
      "Cost after step   875:  0.0004120\n",
      "Cost after step   880:  0.0004076\n",
      "Cost after step   885:  0.0004032\n",
      "Cost after step   890:  0.0003989\n",
      "Cost after step   895:  0.0003947\n",
      "Cost after step   900:  0.0003905\n",
      "Cost after step   905:  0.0003864\n",
      "Cost after step   910:  0.0003824\n",
      "Cost after step   915:  0.0003784\n",
      "Cost after step   920:  0.0003745\n",
      "Cost after step   925:  0.0003707\n",
      "Cost after step   930:  0.0003669\n",
      "Cost after step   935:  0.0003631\n",
      "Cost after step   940:  0.0003595\n",
      "Cost after step   945:  0.0003558\n",
      "Cost after step   950:  0.0003523\n",
      "Cost after step   955:  0.0003487\n",
      "Cost after step   960:  0.0003453\n",
      "Cost after step   965:  0.0003419\n",
      "Cost after step   970:  0.0003385\n",
      "Cost after step   975:  0.0003352\n",
      "Cost after step   980:  0.0003319\n",
      "Cost after step   985:  0.0003287\n",
      "Cost after step   990:  0.0003255\n",
      "Cost after step   995:  0.0003224\n",
      "Cost after step  1000:  0.0003193\n",
      "Optimized parameters [3.351806506743275, 6.041068944821934]\n"
     ]
    }
   ],
   "source": [
    "# Qubit 0 optimization\n",
    "for i in range(iterations):\n",
    "    optimizer(params0, learning_rate, 0)\n",
    "    \n",
    "    if (i + 1) % 5 == 0:\n",
    "        print(\"Cost after step {:5d}: {: .7f}\".format(i+1, cost(params0, 0)))\n",
    "    \n",
    "print(\"Optimized parameters\", params0)\n",
    "    \n",
    "# Qubit 1 optimization\n",
    "for j in range(iterations):\n",
    "    optimizer(params1, learning_rate, 1)\n",
    "    \n",
    "    if (j + 1) % 5 == 0:\n",
    "        print(\"Cost after step {:5d}: {: .7f}\".format(j+1, cost(params1, 1)))\n",
    "    \n",
    "print(\"Optimized parameters\", params1)"
   ]
  },
  {
   "cell_type": "code",
   "execution_count": 65,
   "metadata": {},
   "outputs": [
    {
     "data": {
      "image/png": "[encoded data removed]",
      "text/plain": [
       "<Figure size 504x360 with 1 Axes>"
      ]
     },
     "execution_count": 65,
     "metadata": {},
     "output_type": "execute_result"
    }
   ],
   "source": [
    "qc = circuit(params0, params1)\n",
    "qc.cx(0,1)\n",
    "qc.measure_all()\n",
    "counts = execute(qc, q_simulator).result().get_counts()\n",
    "plot_histogram(counts)"
   ]
  },
  {
   "cell_type": "markdown",
   "metadata": {},
   "source": [
    "## Variations in number of measurements"
   ]
  },
  {
   "cell_type": "markdown",
   "metadata": {},
   "source": [
    "### i) 1 measurement"
   ]
  },
  {
   "cell_type": "code",
   "execution_count": 66,
   "metadata": {},
   "outputs": [
    {
     "data": {
      "image/png": "[encoded data removed]",
      "text/plain": [
       "<Figure size 504x360 with 1 Axes>"
      ]
     },
     "execution_count": 66,
     "metadata": {},
     "output_type": "execute_result"
    }
   ],
   "source": [
    "shots = 1\n",
    "counts = execute(qc, q_simulator, shots=shots).result().get_counts()\n",
    "plot_histogram(counts)"
   ]
  },
  {
   "cell_type": "markdown",
   "metadata": {},
   "source": [
    "### ii) 10 measurements"
   ]
  },
  {
   "cell_type": "code",
   "execution_count": 67,
   "metadata": {},
   "outputs": [
    {
     "data": {
      "image/png": "[encoded data removed]",
      "text/plain": [
       "<Figure size 504x360 with 1 Axes>"
      ]
     },
     "execution_count": 67,
     "metadata": {},
     "output_type": "execute_result"
    }
   ],
   "source": [
    "shots = 10\n",
    "counts = execute(qc, q_simulator, shots=shots).result().get_counts()\n",
    "plot_histogram(counts)"
   ]
  },
  {
   "cell_type": "markdown",
   "metadata": {},
   "source": [
    "### iii) 100 measurements"
   ]
  },
  {
   "cell_type": "code",
   "execution_count": 68,
   "metadata": {},
   "outputs": [
    {
     "data": {
      "image/png": "[encoded data removed]",
      "text/plain": [
       "<Figure size 504x360 with 1 Axes>"
      ]
     },
     "execution_count": 68,
     "metadata": {},
     "output_type": "execute_result"
    }
   ],
   "source": [
    "shots = 100\n",
    "counts = execute(qc, q_simulator, shots=shots).result().get_counts()\n",
    "plot_histogram(counts)"
   ]
  },
  {
   "cell_type": "markdown",
   "metadata": {},
   "source": [
    "### iv) 1000 measurements"
   ]
  },
  {
   "cell_type": "code",
   "execution_count": 69,
   "metadata": {},
   "outputs": [
    {
     "data": {
      "image/png": "[encoded data removed]",
      "text/plain": [
       "<Figure size 504x360 with 1 Axes>"
      ]
     },
     "execution_count": 69,
     "metadata": {},
     "output_type": "execute_result"
    }
   ],
   "source": [
    "shots = 1000\n",
    "counts = execute(qc, q_simulator, shots=shots).result().get_counts()\n",
    "plot_histogram(counts)"
   ]
  },
  {
   "cell_type": "markdown",
   "metadata": {},
   "source": [
    "## Bonus question: How to make sure that you produce the state $|01 \\rangle + |10 \\rangle$ and not $|01 \\rangle - |10 \\rangle$"
   ]
  },
  {
   "cell_type": "markdown",
   "metadata": {},
   "source": [
    "Let us find the state of the system before making the measurement. For this we shall use the 'statevector_simulator' in Qiskit which allows us to know the state of the system without destroying it."
   ]
  },
  {
   "cell_type": "code",
   "execution_count": null,
   "metadata": {},
   "outputs": [],
   "source": []
  },
  {
   "cell_type": "code",
   "execution_count": null,
   "metadata": {},
   "outputs": [],
   "source": []
  },
  {
   "cell_type": "markdown",
   "metadata": {},
   "source": [
    "## Questions to ponder about\n"
   ]
  },
  {
   "cell_type": "code",
   "execution_count": null,
   "metadata": {},
   "outputs": [],
   "source": []
  },
  {
   "cell_type": "code",
   "execution_count": null,
   "metadata": {},
   "outputs": [],
   "source": []
  },
  {
   "cell_type": "code",
   "execution_count": null,
   "metadata": {},
   "outputs": [],
   "source": []
  },
  {
   "cell_type": "markdown",
   "metadata": {},
   "source": [
    "# To do\n",
    "- Implement partial derivatives not by hand but through external libraries like Sympy.\n",
    "- Implementing various other optimization techniques such as the Adam optimizer.\n",
    "- Implement the same problem using PennyLane, which provides pre-build functions for optimization"
   ]
  },
  {
   "cell_type": "code",
   "execution_count": null,
   "metadata": {},
   "outputs": [],
   "source": []
  }
 ],
 "metadata": {
  "kernelspec": {
   "display_name": "Python 3",
   "language": "python",
   "name": "python3"
  },
  "language_info": {
   "codemirror_mode": {
    "name": "ipython",
    "version": 3
   },
   "file_extension": ".py",
   "mimetype": "text/x-python",
   "name": "python",
   "nbconvert_exporter": "python",
   "pygments_lexer": "ipython3",
   "version": "3.8.5"
  }
 },
 "nbformat": 4,
 "nbformat_minor": 4
}
