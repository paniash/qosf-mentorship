{
 "cells": [
  {
   "cell_type": "markdown",
   "metadata": {},
   "source": [
    "# QOSF Mentorship Programme\n",
    "## Task 2\n",
    "\n",
    "Implement a circuit that returns $| 01 \\rangle$ and $|10 \\rangle$ with equal probability.\n",
    "\n",
    "Requirements :\n",
    "- The circuit should consist only of CNOTs, RXs and RYs. \n",
    "- Start from all parameters in parametric gates being equal to 0 or randomly chosen. \n",
    "- You should find the right set of parameters using gradient descent (you can use more advanced optimization methods if you like). \n",
    "- Simulations must be done with sampling - i.e. a limited number of measurements per iteration and noise. \n",
    "\n",
    "Compare the results for different numbers of measurements: 1, 10, 100, 1000. \n",
    "\n",
    "Bonus question:\n",
    "How to make sure you produce state $|01 \\rangle + |10 \\rangle$ and not $|01 \\rangle - |10 \\rangle$?"
   ]
  },
  {
   "cell_type": "markdown",
   "metadata": {},
   "source": [
    "I have decided to use Qiskit in my code as I'm quite comfortable with it. I have also implemented a model using PennyLane which provides builtin functions for machine learning and optimization."
   ]
  },
  {
   "cell_type": "markdown",
   "metadata": {},
   "source": [
    "# Implementation in Qiskit"
   ]
  },
  {
   "cell_type": "code",
   "execution_count": 1,
   "metadata": {},
   "outputs": [],
   "source": [
    "# Importing necessary libraries \n",
    "# and predefining backends\n",
    "from qiskit import execute, Aer, QuantumCircuit \n",
    "from qiskit.visualization import plot_histogram, plot_state_qsphere\n",
    "from qiskit.quantum_info import Statevector\n",
    "import numpy as np\n",
    "import matplotlib.pyplot as plt\n",
    "import random\n",
    "%matplotlib inline\n",
    "\n",
    "qasm_backend = Aer.get_backend('qasm_simulator')\n",
    "statevector_backend = Aer.get_backend('statevector_simulator')"
   ]
  },
  {
   "cell_type": "markdown",
   "metadata": {},
   "source": [
    "## Trial circuit\n",
    "Let us implement a quantum circuit with known parameters that yields an equal probability of $| 01 \\rangle$ and $| 10 \\rangle$ to get an idea of what gates the circuit must consist of."
   ]
  },
  {
   "cell_type": "code",
   "execution_count": 2,
   "metadata": {},
   "outputs": [],
   "source": [
    "# Define a quantum circuit consisting of 2 qubits with parametric gates RX, RY and CNOT\n",
    "qc = QuantumCircuit(2)\n",
    "\n",
    "# Define a reference circuit\n",
    "qcr = QuantumCircuit(2)\n",
    "\n",
    "# Hadamard gate on qubit 0\n",
    "qc.ry(np.pi/2, 0)\n",
    "qc.rx(np.pi, 0)\n",
    "qcr.h(0)\n",
    "\n",
    "# X gate on qubit 1\n",
    "qc.rx(np.pi, 1)\n",
    "qcr.x(1)\n",
    "\n",
    "# CNOT gate with qubit 0, qubit 1 as the control and target qubits respectively\n",
    "qc.cx(0,1)\n",
    "qcr.cx(0,1)\n",
    "qc.measure_all()\n",
    "qcr.measure_all()"
   ]
  },
  {
   "cell_type": "code",
   "execution_count": 3,
   "metadata": {},
   "outputs": [
    {
     "name": "stdout",
     "output_type": "stream",
     "text": [
      "Reference circuit: \n"
     ]
    },
    {
     "data": {
      "image/png": "[encoded data removed]",
      "text/plain": [
       "<Figure size 472.059x204.68 with 1 Axes>"
      ]
     },
     "execution_count": 3,
     "metadata": {},
     "output_type": "execute_result"
    }
   ],
   "source": [
    "print(\"Reference circuit: \")\n",
    "qcr.draw()"
   ]
  },
  {
   "cell_type": "code",
   "execution_count": 4,
   "metadata": {},
   "outputs": [
    {
     "name": "stdout",
     "output_type": "stream",
     "text": [
      "Reference circuit with Rx, Ry and CNOT gates: \n"
     ]
    },
    {
     "data": {
      "image/png": "[encoded data removed]",
      "text/plain": [
       "<Figure size 532.259x204.68 with 1 Axes>"
      ]
     },
     "execution_count": 4,
     "metadata": {},
     "output_type": "execute_result"
    }
   ],
   "source": [
    "print(\"Reference circuit with Rx, Ry and CNOT gates: \")\n",
    "qc.draw()"
   ]
  },
  {
   "cell_type": "code",
   "execution_count": 6,
   "metadata": {},
   "outputs": [
    {
     "data": {
      "image/png": "[encoded data removed]",
      "text/plain": [
       "<Figure size 504x360 with 1 Axes>"
      ]
     },
     "execution_count": 6,
     "metadata": {},
     "output_type": "execute_result"
    }
   ],
   "source": [
    "counts = execute(qc, qasm_backend, shots=1000).result().get_counts()\n",
    "plot_histogram(counts)"
   ]
  },
  {
   "cell_type": "markdown",
   "metadata": {},
   "source": [
    "As can be seen from the histogram plot, we get the desired output. Our goal now is to parameterize the circuit by introducing unknown parameters to the RX and RY gates."
   ]
  },
  {
   "cell_type": "markdown",
   "metadata": {},
   "source": [
    "When trying to find the optimal solution to the parameterized problem, the CNOT gate does not play a role since it does not depend on parameters. Hence, the goal is to find the optimum solution to the state of the qubits just before applying the CNOT gate."
   ]
  },
  {
   "cell_type": "markdown",
   "metadata": {},
   "source": [
    "Let us see the effect of the gates used in the trial circuit to find the state of the system at the end of the circuit.\n",
    "\n",
    "All qubits are initialized to the state $| 0 \\rangle$ thus initializing the system at $| 00 \\rangle$. Applying a Hadamard gate to the 1st qubit yields, \n",
    "\n",
    "$$ |00 \\rangle \\longrightarrow |0 \\rangle \\otimes \\frac{1}{\\sqrt{2}} (|0 \\rangle + |1 \\rangle)$$"
   ]
  },
  {
   "cell_type": "markdown",
   "metadata": {},
   "source": [
    "It is a good point to note here that Qiskit orders its qubits in a different way compared to the textbook convention. In Qiskit, if $q_0$ and $q_1$ are the 1st and 2nd qubits respectively, then the composite system is written as\n",
    "\n",
    "$$ |q_1 q_0 \\rangle = |q_1 \\rangle \\otimes |q_0 \\rangle$$"
   ]
  },
  {
   "cell_type": "markdown",
   "metadata": {},
   "source": [
    "Now applying an X gate onto the second qubit,\n",
    "\n",
    "$$ |0 \\rangle \\otimes \\frac{1}{\\sqrt{2}}(|0 \\rangle + |1 \\rangle) \\longrightarrow |1 \\rangle \\otimes \\frac{1}{\\sqrt{2}} (|0 \\rangle + |1 \\rangle)$$"
   ]
  },
  {
   "cell_type": "markdown",
   "metadata": {},
   "source": [
    "Finally applying a CNOT gate (with the first qubit as the control and the second qubit as the target), we get\n",
    "\n",
    "$$ |1 \\rangle \\otimes \\frac{1}{\\sqrt{2}} (|0 \\rangle + |1 \\rangle) \\longrightarrow \\frac{1}{\\sqrt{2}} (|10 \\rangle + |01 \\rangle) = |\\psi \\rangle$$"
   ]
  },
  {
   "cell_type": "markdown",
   "metadata": {},
   "source": [
    "This final state $|\\psi \\rangle$ upon measurement, will yield $|10 \\rangle$ with a probability of 0.5 and $|01 \\rangle$ with a probability of 0.5."
   ]
  },
  {
   "cell_type": "markdown",
   "metadata": {},
   "source": [
    "However, since we are not concerned with unparameterized operations, we only have to worry about the state of the system just before the application of the CNOT gate. That state would be,\n",
    "\n",
    "$$ | \\phi \\rangle = |1 \\rangle \\otimes \\frac{1}{\\sqrt{2}}(|0 \\rangle + |1 \\rangle)$$"
   ]
  },
  {
   "cell_type": "markdown",
   "metadata": {},
   "source": [
    "This state is clearly unentangled, meaning that the corresponding qubits are independent and that we can treat the problem as 2 separate optimization problems."
   ]
  },
  {
   "cell_type": "markdown",
   "metadata": {},
   "source": [
    "## Problem"
   ]
  },
  {
   "cell_type": "code",
   "execution_count": 11,
   "metadata": {},
   "outputs": [],
   "source": [
    "## Initializing parameters with random values\n",
    "\n",
    "# q0_thetas holds parameters for the first qubit and q1_thetas holds parameters for the second qubit\n",
    "q0_thetas = [ random.uniform(0.001, 2 * np.pi) for i in range(2)]\n",
    "q1_thetas = [ random.uniform(0.001, 2 * np.pi) for i in range(2)]"
   ]
  },
  {
   "cell_type": "markdown",
   "metadata": {},
   "source": [
    "Let us define a function that returns a parameterized quantum circuit"
   ]
  },
  {
   "cell_type": "code",
   "execution_count": 39,
   "metadata": {},
   "outputs": [],
   "source": [
    "def circuit(params0, params1):\n",
    "    circuit = QuantumCircuit(2)\n",
    "    circuit.ry(params0[0], 0)\n",
    "    circuit.rx(params0[1], 0)\n",
    "    circuit.ry(params1[0], 1)\n",
    "    circuit.rx(params1[1], 1)\n",
    "    \n",
    "    return circuit"
   ]
  },
  {
   "cell_type": "code",
   "execution_count": 12,
   "metadata": {},
   "outputs": [
    {
     "data": {
      "image/png": "[encoded data removed]",
      "text/plain": [
       "<Figure size 472.059x204.68 with 1 Axes>"
      ]
     },
     "execution_count": 12,
     "metadata": {},
     "output_type": "execute_result"
    }
   ],
   "source": [
    "circ = circuit(q0_thetas, q1_thetas)\n",
    "circ.measure_all()\n",
    "circ.draw()"
   ]
  },
  {
   "cell_type": "code",
   "execution_count": 13,
   "metadata": {},
   "outputs": [
    {
     "data": {
      "image/png": "[encoded data removed]",
      "text/plain": [
       "<Figure size 504x360 with 1 Axes>"
      ]
     },
     "execution_count": 13,
     "metadata": {},
     "output_type": "execute_result"
    }
   ],
   "source": [
    "cnt = execute(circ, qasm_backend).result().get_counts()\n",
    "plot_histogram(cnt)"
   ]
  },
  {
   "cell_type": "markdown",
   "metadata": {},
   "source": [
    "Our goal here is to optimize the parameters such that measuring $q_1$ yields that state $|1 \\rangle$ with probability 1 and measuring $q_0$ yields the states $|0 \\rangle$ and $|1 \\rangle$ with probabilities 0.5 each."
   ]
  },
  {
   "cell_type": "markdown",
   "metadata": {},
   "source": [
    "## Cost function\n",
    "\n",
    "Since the 2 qubits can be treated independently, let us define 2 cost functions to optimize their respective parameters.\n",
    "\n",
    "Let $J_0$ and $J_1$ be the cost functions of $q_0$ and $q_1$ respectively. Since we're dealing with probability, let us implement it into these cost functions. "
   ]
  },
  {
   "cell_type": "markdown",
   "metadata": {},
   "source": [
    "### Qubit 0\n",
    "$$ J_0 = \\frac{1}{4} ((P_0 - 0.5)^2 + (P_1 - 0.5)^2)$$\n",
    "\n",
    "### Qubit 1\n",
    "$$ J_1 = \\frac{1}{4} (P_0^2 + (P_1 - 1)^2)$$\n",
    "\n",
    "where $P_0$ and $P_1$ are the probabilities of measuring $|0 \\rangle$ and $|1 \\rangle$ respectively."
   ]
  },
  {
   "cell_type": "markdown",
   "metadata": {},
   "source": [
    "We wish to minimize the above 2 cost functions using batch gradient descent as our optimization method."
   ]
  },
  {
   "cell_type": "markdown",
   "metadata": {},
   "source": [
    "Now let us analytically deduce the operations the gates perform on our initial qubit state $| 00 \\rangle$."
   ]
  },
  {
   "cell_type": "markdown",
   "metadata": {},
   "source": [
    "The $R_X$ gate corresponds to,\n",
    "\n",
    "$$\n",
    "R_X (\\theta) = \n",
    "\\begin{pmatrix}\n",
    "\\cos \\frac{\\theta}{2} & -i \\sin \\frac{\\theta}{2} \\\\\n",
    "-i \\sin \\frac{\\theta}{2} & \\cos \\frac{\\theta}{2} \\\\\n",
    "\\end{pmatrix}\n",
    "$$"
   ]
  },
  {
   "cell_type": "markdown",
   "metadata": {},
   "source": [
    "The $R_Y$ gate corresponds to,\n",
    "\n",
    "$$\n",
    "R_Y (\\theta) = \n",
    "\\begin{pmatrix}\n",
    "\\cos \\frac{\\theta}{2} & - \\sin \\frac{\\theta}{2} \\\\ \n",
    "\\sin \\frac{\\theta}{2} & \\cos \\frac{\\theta}{2} \\\\  \n",
    "\\end{pmatrix}\n",
    "$$\n"
   ]
  },
  {
   "cell_type": "markdown",
   "metadata": {},
   "source": [
    "The operation of these matrices on initial state $|0 \\rangle$ yields,\n",
    "\n",
    "$$\n",
    "|0 \\rangle \\xrightarrow[]{R_Y (\\theta_0)}\n",
    "\\begin{pmatrix}\n",
    "\\cos \\frac{\\theta_0}{2} \\\\ \n",
    "\\sin \\frac{\\theta_0}{2} \\\\  \n",
    "\\end{pmatrix}\n",
    "\\xrightarrow[]{R_X (\\theta_1)}\n",
    "\\begin{pmatrix}\n",
    "\\cos \\frac{\\theta_0}{2} \\cos \\frac{\\theta_1}{2} - i \\sin \\frac{\\theta_0}{2} \\sin \\frac{\\theta_1} {2} \\\\\n",
    "-i \\sin \\frac{\\theta_1}{2} \\cos \\frac{\\theta_0}{2} + \\cos \\frac{\\theta_1}{2} \\sin \\frac{\\theta_0}{2} \\\\\n",
    "\\end{pmatrix}\n",
    "= | \\psi \\rangle\n",
    "$$"
   ]
  },
  {
   "cell_type": "markdown",
   "metadata": {},
   "source": [
    "This is the state obtained on both the qubits in the unparameterized circuit. From this state $| \\psi \\rangle$, the probabilities of obtaining $|0 \\rangle$ and $|1 \\rangle$ can be obtained by computing the corresponding modulus of inner products,\n",
    "\n",
    "$$\n",
    "| \\langle 0 | \\psi \\rangle |^2 = \\cos^2 \\frac{\\theta_0}{2} \\cos^2 \\frac{\\theta_1}{2} + \\sin^2 \\frac{\\theta_0}{2} \\sin^2 \\frac{\\theta_1}{2} = P_0\n",
    "$$\n",
    "\n",
    "$$\n",
    "| \\langle 1 | \\psi \\rangle |^2 = \\cos^2 \\frac{\\theta_1}{2} \\sin^2 \\frac{\\theta_0}{2} + \\sin^2 \\frac{\\theta_1}{2} \\cos^2 \\frac{\\theta_0}{2} = P_1\n",
    "$$"
   ]
  },
  {
   "cell_type": "markdown",
   "metadata": {},
   "source": [
    "## Batch Gradient Descent\n",
    "\n",
    "Let us now get into the meat of the optimization problem. Since we are implementing batch gradient descent, the parameters have to be updated as\n",
    "\n",
    "$$\n",
    "\\theta_{i+1} := \\theta_i - \\alpha \\frac{\\partial }{\\partial \\theta_i} J (\\theta_0, \\theta_1)\n",
    "$$\n",
    "\n",
    "where $\\theta_{i+1}$ is the updated parameter and $\\alpha$ is the learning rate.\n",
    "\n"
   ]
  },
  {
   "cell_type": "markdown",
   "metadata": {},
   "source": [
    "In general, batch gradient descent is not useful when minimizing functions that consist of various local minima, since the optimizer will get stuck once it ends on a local minima. However, lucky for us, the cost function that we are minimizing has a single minima (global minima) and is the point that we intend the optimizer to reach. \n",
    "\n",
    "Let us verify this through a plot of cost function as a function of $\\theta$."
   ]
  },
  {
   "cell_type": "code",
   "execution_count": 14,
   "metadata": {},
   "outputs": [
    {
     "data": {
      "text/plain": [
       "[<mpl_toolkits.mplot3d.art3d.Line3D at 0x7fb2136bda60>]"
      ]
     },
     "execution_count": 14,
     "metadata": {},
     "output_type": "execute_result"
    },
    {
     "data": {
      "image/png": "[encoded data removed]",
      "text/plain": [
       "<Figure size 432x288 with 1 Axes>"
      ]
     },
     "metadata": {
      "needs_background": "light"
     },
     "output_type": "display_data"
    }
   ],
   "source": [
    "from mpl_toolkits import mplot3d\n",
    "\n",
    "def z_function(x, y):\n",
    "    p0 = (np.cos(x/2)**2) * (np.cos(y/2)**2) + (np.sin(x/2)**2)*(np.sin(y/2)**2)\n",
    "    p1 = (np.cos(y/2)**2) * (np.sin(x/2)**2) + (np.sin(y/2)**2)*(np.cos(x/2)**2)\n",
    "\n",
    "    z1 = 0.25 * ((p0)**2 + (p1 - 1)**2)\n",
    "    z2 = 0.25 * ((p0 - 0.5)**2 + (p1 - 0.5)**2)\n",
    "    return z1, z2\n",
    "\n",
    "x = np.linspace(0, 2*np.pi, 1000)\n",
    "y = np.linspace(0, 2*np.pi, 1000)\n",
    "z1, z2 = z_function(x, y)\n",
    "\n",
    "fig = plt.figure()\n",
    "ax = plt.axes(projection='3d')\n",
    "ax.plot3D(x, y, z1)\n",
    "ax.plot3D(x, y, z2)"
   ]
  },
  {
   "cell_type": "markdown",
   "metadata": {},
   "source": [
    "Computing the respective partial derivatives of both cost funtions $J_0$ and $J_1$,\n",
    "\n",
    "$$\n",
    "\\frac{\\partial J_0}{\\partial \\theta_0} = \\frac{1}{2}\\left((P_0 - 0.5) \\frac{\\partial P_0}{\\partial \\theta_0} + (P_1 - 0.5) \\frac{\\partial P_1}{\\partial \\theta_0}\\right)\n",
    "$$\n",
    "\n",
    "$$\n",
    "\\frac{\\partial J_0}{\\partial \\theta_1} = \\frac{1}{2}\\left((P_0 - 0.5) \\frac{\\partial P_0}{\\partial \\theta_1} + (P_1 - 0.5) \\frac{\\partial P_1}{\\partial \\theta_1}\\right)\n",
    "$$\n",
    "\n",
    "$$\n",
    "\\frac{\\partial J_1}{\\partial \\theta_0} = \\frac{1}{2}\\left(P_0 \\frac{\\partial P_0}{\\partial \\theta_0} + (P_1 - 1) \\frac{\\partial P_1}{\\partial \\theta_0}\\right)\n",
    "$$\n",
    "\n",
    "$$\n",
    "\\frac{\\partial J_1}{\\partial \\theta_1} = \\frac{1}{2}\\left(P_0 \\frac{\\partial P_0}{\\partial \\theta_1} + (P_1 - 1) \\frac{\\partial P_1}{\\partial \\theta_1}\\right)\n",
    "$$"
   ]
  },
  {
   "cell_type": "markdown",
   "metadata": {},
   "source": [
    "Now, computing the partial derivatives of $P_0$ and $P_1$ with respect to the parameters,\n",
    "\n",
    "$$\n",
    "\\frac{\\partial P_0}{\\partial \\theta_0} = - \\cos \\frac{\\theta_0}{2} \\sin \\frac{\\theta_0}{2} \\cos^2 \\frac{\\theta_1}{2} + \\sin \\frac{\\theta_0}{2} \\cos \\frac{\\theta_0}{2} \\sin^2 \\frac{\\theta_1}{2} = -\\frac{1}{2} \\sin \\theta_0 \\cos \\theta_1\n",
    "$$\n",
    "\n",
    "$$\n",
    "\\frac{\\partial P_0}{\\partial \\theta_1} = - \\cos \\frac{\\theta_1}{2} \\sin \\frac{\\theta_1}{2} \\cos^2 \\frac{\\theta_0}{2} + \\sin \\frac{\\theta_1}{2} \\cos \\frac{\\theta_1}{2} \\sin^2 \\frac{\\theta_0}{2} = -\\frac{1}{2} \\sin \\theta_1 \\cos \\theta_0\n",
    "$$\n",
    "\n",
    "$$\n",
    "\\frac{\\partial P_1}{\\partial \\theta_0} = \\sin \\frac{\\theta_0}{2} \\cos \\frac{\\theta_0}{2} \\cos^2 \\frac{\\theta_1}{2} - \\sin^2 \\frac{\\theta_1}{2} \\cos \\frac{\\theta_0}{2} \\sin \\frac{\\theta_0}{2} = \\frac{1}{2} \\sin \\theta_0 \\cos \\theta_1\n",
    "$$\n",
    "\n",
    "$$\n",
    "\\frac{\\partial P_1}{\\partial \\theta_1} = -\\cos \\frac{\\theta_1}{2} \\sin \\frac{\\theta_1}{2} \\sin^2 \\frac{\\theta_0}{2} + \\sin \\frac{\\theta_1}{2} \\cos \\frac{\\theta_1}{2} \\cos^2 \\frac{\\theta_0}{2} = \\frac{1}{2} \\sin \\theta_1 \\cos \\theta_0\n",
    "$$"
   ]
  },
  {
   "cell_type": "markdown",
   "metadata": {},
   "source": [
    "## Partial derivatives of $J_i$ in terms of parameters $\\theta_0$, $\\theta_1$\n",
    "Substituting the above relations into the equations for the partial derivatives of $J_i$, we get\n",
    "\n",
    "$$\n",
    "\\frac{\\partial J_0}{\\partial \\theta_0} = \\frac{1}{4} \\sin \\theta_0 \\cos \\theta_1 (P_1 - P_0)\n",
    "$$\n",
    "\n",
    "$$\n",
    "\\frac{\\partial J_0}{\\partial \\theta_1} = \\frac{1}{4} \\sin \\theta_1 \\cos \\theta_0 (P_1 - P_0)\n",
    "$$\n",
    "\n",
    "$$\n",
    "\\frac{\\partial J_1}{\\partial \\theta_0} = \\frac{1}{4} \\sin \\theta_0 \\cos \\theta_1 (P_1 - P_0 -1)\n",
    "$$\n",
    "\n",
    "$$\n",
    "\\frac{\\partial J_1}{\\partial \\theta_1} = \\frac{1}{4} \\sin \\theta_1 \\cos \\theta_0 (P_1 - P_0 -1)\n",
    "$$"
   ]
  },
  {
   "cell_type": "markdown",
   "metadata": {},
   "source": [
    "Let us implement the above formulation in python."
   ]
  },
  {
   "cell_type": "code",
   "execution_count": 15,
   "metadata": {},
   "outputs": [],
   "source": [
    "## params = [theta0, theta1]\n",
    "\n",
    "# Probability of measuring state |0>\n",
    "def prob0(params):\n",
    "    p0 = (np.cos(params[0]/2)**2)*(np.cos(params[1]/2)**2) + (np.sin(params[0]/2)**2)*(np.sin(params[1]/2)**2)\n",
    "    return p0\n",
    "\n",
    "# Probability of measuring state |1>\n",
    "def prob1(params):\n",
    "    p1 = (np.sin(params[0]/2)**2)*(np.cos(params[1]/2)**2) + (np.cos(params[0]/2)**2)*(np.sin(params[1]/2)**2)\n",
    "    return p1"
   ]
  },
  {
   "cell_type": "code",
   "execution_count": 16,
   "metadata": {},
   "outputs": [],
   "source": [
    "# Function that returns the cost function for given qubit (0 or 1)\n",
    "def cost(params, qubit):\n",
    "    if qubit==0:\n",
    "        j0 = 0.25 * ((prob0(params) - 0.5)**2 + (prob1(params) - 0.5)**2)\n",
    "        return j0\n",
    "    \n",
    "    elif qubit==1:\n",
    "        j1 = 0.25 * (prob0(params)**2 + (prob1(params) - 1)**2)\n",
    "        return j1\n",
    "    \n",
    "    else:\n",
    "        print(\"Qubit index out of range!!!\")\n",
    "        exit()"
   ]
  },
  {
   "cell_type": "code",
   "execution_count": 17,
   "metadata": {},
   "outputs": [],
   "source": [
    "## Computes gradient for qubit 0\n",
    "# q0_thetas = [theta0, theta1]; i = index (0 for theta0, 1 for theta1) denotes the theta w.r.t the partial derivative\n",
    "def gradient_q0(q0_thetas, i):\n",
    "    p0 = prob0(q0_thetas)\n",
    "    p1 = prob1(q0_thetas)\n",
    "    \n",
    "    if i==0:\n",
    "        grad = 0.25 * np.sin(q0_thetas[0]) * np.cos(q0_thetas[1]) * (p1 - p0)\n",
    "        return grad\n",
    "    \n",
    "    elif i==1:\n",
    "        grad = 0.25 * np.sin(q0_thetas[1]) * np.cos(q0_thetas[0]) * (p1 - p0)\n",
    "        return grad\n",
    "    \n",
    "    else:\n",
    "        print(\"Incorrect index!!!\")\n",
    "        exit()\n",
    "    \n",
    "## Computes gradient for qubit 1\n",
    "# q1_thetas = [theta0, theta1]; i = index (0 for theta0, 1 for theta1) denotes the theta w.r.t the partial derivative\n",
    "def gradient_q1(q1_thetas, i):\n",
    "    p0 = prob0(q1_thetas)\n",
    "    p1 = prob1(q1_thetas)\n",
    "    \n",
    "    if i==0:\n",
    "        grad = 0.25 * np.sin(q1_thetas[0]) * np.cos(q1_thetas[1]) * (p1 - p0 - 1)\n",
    "        return grad\n",
    "    \n",
    "    elif i==1:\n",
    "        grad = 0.25 * np.sin(q1_thetas[1]) * np.cos(q1_thetas[0]) * (p1 - p0 - 1)\n",
    "        return grad\n",
    "    \n",
    "    else:\n",
    "        print(\"Incorrect index!!!\")\n",
    "        exit()"
   ]
  },
  {
   "cell_type": "code",
   "execution_count": 18,
   "metadata": {},
   "outputs": [],
   "source": [
    "## Gradient descent optimizer function\n",
    "# params = [theta0, theta1], qubit is the index of the qubit parameters being optimized\n",
    "def optimizer(params, learning_rate, qubit):\n",
    "    if qubit==0:\n",
    "        temp0 = params[0] - (learning_rate * gradient_q0(params, 0))\n",
    "        temp1 = params[1] - (learning_rate * gradient_q0(params, 1))\n",
    "        params[0] = temp0\n",
    "        params[1] = temp1\n",
    "       \n",
    "    elif qubit==1:\n",
    "        temp0 = params[0] - (learning_rate * gradient_q1(params, 0))\n",
    "        temp1 = params[1] - (learning_rate * gradient_q1(params, 1))\n",
    "        params[0] = temp0\n",
    "        params[1] = temp1\n",
    "        \n",
    "    else:\n",
    "        print(\"Out of range of qubits!!!\")\n",
    "        exit()"
   ]
  },
  {
   "cell_type": "code",
   "execution_count": 19,
   "metadata": {},
   "outputs": [],
   "source": [
    "## Initializing important variables\n",
    "# Number of iterations\n",
    "iterations = 1000\n",
    "\n",
    "# Learning rate\n",
    "learning_rate = 0.04"
   ]
  },
  {
   "cell_type": "code",
   "execution_count": 20,
   "metadata": {},
   "outputs": [],
   "source": [
    "# Make copies of the initial parameter so as to compare the values of the parameters before and after optimization\n",
    "params0 = q0_thetas.copy()\n",
    "params1 = q1_thetas.copy()"
   ]
  },
  {
   "cell_type": "code",
   "execution_count": 21,
   "metadata": {},
   "outputs": [
    {
     "name": "stdout",
     "output_type": "stream",
     "text": [
      "Cost after step     5:  0.0690809\n",
      "Cost after step    10:  0.0659844\n",
      "Cost after step    15:  0.0628703\n",
      "Cost after step    20:  0.0597539\n",
      "Cost after step    25:  0.0566507\n",
      "Cost after step    30:  0.0535759\n",
      "Cost after step    35:  0.0505442\n",
      "Cost after step    40:  0.0475694\n",
      "Cost after step    45:  0.0446643\n",
      "Cost after step    50:  0.0418403\n",
      "Cost after step    55:  0.0391077\n",
      "Cost after step    60:  0.0364750\n",
      "Cost after step    65:  0.0339492\n",
      "Cost after step    70:  0.0315357\n",
      "Cost after step    75:  0.0292385\n",
      "Cost after step    80:  0.0270599\n",
      "Cost after step    85:  0.0250011\n",
      "Cost after step    90:  0.0230620\n",
      "Cost after step    95:  0.0212411\n",
      "Cost after step   100:  0.0195363\n",
      "Cost after step   105:  0.0179446\n",
      "Cost after step   110:  0.0164622\n",
      "Cost after step   115:  0.0150849\n",
      "Cost after step   120:  0.0138081\n",
      "Cost after step   125:  0.0126269\n",
      "Cost after step   130:  0.0115363\n",
      "Cost after step   135:  0.0105309\n",
      "Cost after step   140:  0.0096057\n",
      "Cost after step   145:  0.0087556\n",
      "Cost after step   150:  0.0079755\n",
      "Cost after step   155:  0.0072605\n",
      "Cost after step   160:  0.0066059\n",
      "Cost after step   165:  0.0060074\n",
      "Cost after step   170:  0.0054606\n",
      "Cost after step   175:  0.0049614\n",
      "Cost after step   180:  0.0045062\n",
      "Cost after step   185:  0.0040913\n",
      "Cost after step   190:  0.0037134\n",
      "Cost after step   195:  0.0033694\n",
      "Cost after step   200:  0.0030565\n",
      "Cost after step   205:  0.0027720\n",
      "Cost after step   210:  0.0025134\n",
      "Cost after step   215:  0.0022785\n",
      "Cost after step   220:  0.0020652\n",
      "Cost after step   225:  0.0018715\n",
      "Cost after step   230:  0.0016958\n",
      "Cost after step   235:  0.0015363\n",
      "Cost after step   240:  0.0013917\n",
      "Cost after step   245:  0.0012605\n",
      "Cost after step   250:  0.0011416\n",
      "Cost after step   255:  0.0010338\n",
      "Cost after step   260:  0.0009362\n",
      "Cost after step   265:  0.0008476\n",
      "Cost after step   270:  0.0007674\n",
      "Cost after step   275:  0.0006948\n",
      "Cost after step   280:  0.0006290\n",
      "Cost after step   285:  0.0005694\n",
      "Cost after step   290:  0.0005154\n",
      "Cost after step   295:  0.0004665\n",
      "Cost after step   300:  0.0004222\n",
      "Cost after step   305:  0.0003822\n",
      "Cost after step   310:  0.0003459\n",
      "Cost after step   315:  0.0003130\n",
      "Cost after step   320:  0.0002833\n",
      "Cost after step   325:  0.0002564\n",
      "Cost after step   330:  0.0002320\n",
      "Cost after step   335:  0.0002100\n",
      "Cost after step   340:  0.0001900\n",
      "Cost after step   345:  0.0001719\n",
      "Cost after step   350:  0.0001556\n",
      "Cost after step   355:  0.0001408\n",
      "Cost after step   360:  0.0001274\n",
      "Cost after step   365:  0.0001153\n",
      "Cost after step   370:  0.0001043\n",
      "Cost after step   375:  0.0000944\n",
      "Cost after step   380:  0.0000854\n",
      "Cost after step   385:  0.0000773\n",
      "Cost after step   390:  0.0000699\n",
      "Cost after step   395:  0.0000633\n",
      "Cost after step   400:  0.0000573\n",
      "Cost after step   405:  0.0000518\n",
      "Cost after step   410:  0.0000469\n",
      "Cost after step   415:  0.0000424\n",
      "Cost after step   420:  0.0000384\n",
      "Cost after step   425:  0.0000347\n",
      "Cost after step   430:  0.0000314\n",
      "Cost after step   435:  0.0000284\n",
      "Cost after step   440:  0.0000257\n",
      "Cost after step   445:  0.0000233\n",
      "Cost after step   450:  0.0000211\n",
      "Cost after step   455:  0.0000191\n",
      "Cost after step   460:  0.0000172\n",
      "Cost after step   465:  0.0000156\n",
      "Cost after step   470:  0.0000141\n",
      "Cost after step   475:  0.0000128\n",
      "Cost after step   480:  0.0000116\n",
      "Cost after step   485:  0.0000105\n",
      "Cost after step   490:  0.0000095\n",
      "Cost after step   495:  0.0000086\n",
      "Cost after step   500:  0.0000077\n",
      "Cost after step   505:  0.0000070\n",
      "Cost after step   510:  0.0000063\n",
      "Cost after step   515:  0.0000057\n",
      "Cost after step   520:  0.0000052\n",
      "Cost after step   525:  0.0000047\n",
      "Cost after step   530:  0.0000042\n",
      "Cost after step   535:  0.0000038\n",
      "Cost after step   540:  0.0000035\n",
      "Cost after step   545:  0.0000031\n",
      "Cost after step   550:  0.0000028\n",
      "Cost after step   555:  0.0000026\n",
      "Cost after step   560:  0.0000023\n",
      "Cost after step   565:  0.0000021\n",
      "Cost after step   570:  0.0000019\n",
      "Cost after step   575:  0.0000017\n",
      "Cost after step   580:  0.0000016\n",
      "Cost after step   585:  0.0000014\n",
      "Cost after step   590:  0.0000013\n",
      "Cost after step   595:  0.0000012\n",
      "Cost after step   600:  0.0000010\n",
      "Cost after step   605:  0.0000009\n",
      "Cost after step   610:  0.0000009\n",
      "Cost after step   615:  0.0000008\n",
      "Cost after step   620:  0.0000007\n",
      "Cost after step   625:  0.0000006\n",
      "Cost after step   630:  0.0000006\n",
      "Cost after step   635:  0.0000005\n",
      "Cost after step   640:  0.0000005\n",
      "Cost after step   645:  0.0000004\n",
      "Cost after step   650:  0.0000004\n",
      "Cost after step   655:  0.0000003\n",
      "Cost after step   660:  0.0000003\n",
      "Cost after step   665:  0.0000003\n",
      "Cost after step   670:  0.0000003\n",
      "Cost after step   675:  0.0000002\n",
      "Cost after step   680:  0.0000002\n",
      "Cost after step   685:  0.0000002\n",
      "Cost after step   690:  0.0000002\n",
      "Cost after step   695:  0.0000002\n",
      "Cost after step   700:  0.0000001\n",
      "Cost after step   705:  0.0000001\n",
      "Cost after step   710:  0.0000001\n",
      "Cost after step   715:  0.0000001\n",
      "Cost after step   720:  0.0000001\n",
      "Cost after step   725:  0.0000001\n",
      "Cost after step   730:  0.0000001\n",
      "Cost after step   735:  0.0000001\n",
      "Cost after step   740:  0.0000001\n",
      "Cost after step   745:  0.0000001\n",
      "Cost after step   750:  0.0000001\n",
      "Cost after step   755:  0.0000000\n",
      "Cost after step   760:  0.0000000\n",
      "Cost after step   765:  0.0000000\n",
      "Cost after step   770:  0.0000000\n",
      "Cost after step   775:  0.0000000\n",
      "Cost after step   780:  0.0000000\n",
      "Cost after step   785:  0.0000000\n",
      "Cost after step   790:  0.0000000\n",
      "Cost after step   795:  0.0000000\n",
      "Cost after step   800:  0.0000000\n",
      "Cost after step   805:  0.0000000\n",
      "Cost after step   810:  0.0000000\n",
      "Cost after step   815:  0.0000000\n",
      "Cost after step   820:  0.0000000\n",
      "Cost after step   825:  0.0000000\n",
      "Cost after step   830:  0.0000000\n",
      "Cost after step   835:  0.0000000\n",
      "Cost after step   840:  0.0000000\n",
      "Cost after step   845:  0.0000000\n",
      "Cost after step   850:  0.0000000\n",
      "Cost after step   855:  0.0000000\n",
      "Cost after step   860:  0.0000000\n",
      "Cost after step   865:  0.0000000\n",
      "Cost after step   870:  0.0000000\n",
      "Cost after step   875:  0.0000000\n",
      "Cost after step   880:  0.0000000\n",
      "Cost after step   885:  0.0000000\n",
      "Cost after step   890:  0.0000000\n",
      "Cost after step   895:  0.0000000\n",
      "Cost after step   900:  0.0000000\n",
      "Cost after step   905:  0.0000000\n",
      "Cost after step   910:  0.0000000\n",
      "Cost after step   915:  0.0000000\n",
      "Cost after step   920:  0.0000000\n",
      "Cost after step   925:  0.0000000\n",
      "Cost after step   930:  0.0000000\n",
      "Cost after step   935:  0.0000000\n",
      "Cost after step   940:  0.0000000\n",
      "Cost after step   945:  0.0000000\n",
      "Cost after step   950:  0.0000000\n",
      "Cost after step   955:  0.0000000\n",
      "Cost after step   960:  0.0000000\n",
      "Cost after step   965:  0.0000000\n",
      "Cost after step   970:  0.0000000\n",
      "Cost after step   975:  0.0000000\n",
      "Cost after step   980:  0.0000000\n",
      "Cost after step   985:  0.0000000\n",
      "Cost after step   990:  0.0000000\n",
      "Cost after step   995:  0.0000000\n",
      "Cost after step  1000:  0.0000000\n",
      "Optimized parameters [3.074453508129904, 4.712442007114712]\n",
      "Cost after step     5:  0.2512655\n",
      "Cost after step    10:  0.2382213\n",
      "Cost after step    15:  0.2259992\n",
      "Cost after step    20:  0.2146024\n",
      "Cost after step    25:  0.2040105\n",
      "Cost after step    30:  0.1941849\n",
      "Cost after step    35:  0.1850753\n",
      "Cost after step    40:  0.1766243\n",
      "Cost after step    45:  0.1687712\n",
      "Cost after step    50:  0.1614552\n",
      "Cost after step    55:  0.1546170\n",
      "Cost after step    60:  0.1482006\n",
      "Cost after step    65:  0.1421542\n",
      "Cost after step    70:  0.1364307\n",
      "Cost after step    75:  0.1309882\n",
      "Cost after step    80:  0.1257896\n",
      "Cost after step    85:  0.1208028\n",
      "Cost after step    90:  0.1160008\n",
      "Cost after step    95:  0.1113610\n",
      "Cost after step   100:  0.1068651\n",
      "Cost after step   105:  0.1024986\n",
      "Cost after step   110:  0.0982509\n",
      "Cost after step   115:  0.0941141\n",
      "Cost after step   120:  0.0900834\n",
      "Cost after step   125:  0.0861560\n",
      "Cost after step   130:  0.0823310\n",
      "Cost after step   135:  0.0786092\n",
      "Cost after step   140:  0.0749920\n",
      "Cost after step   145:  0.0714820\n",
      "Cost after step   150:  0.0680817\n",
      "Cost after step   155:  0.0647938\n",
      "Cost after step   160:  0.0616209\n",
      "Cost after step   165:  0.0585653\n",
      "Cost after step   170:  0.0556286\n",
      "Cost after step   175:  0.0528118\n",
      "Cost after step   180:  0.0501155\n",
      "Cost after step   185:  0.0475393\n",
      "Cost after step   190:  0.0450823\n",
      "Cost after step   195:  0.0427429\n",
      "Cost after step   200:  0.0405191\n",
      "Cost after step   205:  0.0384081\n",
      "Cost after step   210:  0.0364068\n",
      "Cost after step   215:  0.0345118\n",
      "Cost after step   220:  0.0327193\n",
      "Cost after step   225:  0.0310253\n",
      "Cost after step   230:  0.0294257\n",
      "Cost after step   235:  0.0279162\n",
      "Cost after step   240:  0.0264925\n",
      "Cost after step   245:  0.0251504\n",
      "Cost after step   250:  0.0238856\n",
      "Cost after step   255:  0.0226940\n",
      "Cost after step   260:  0.0215715\n",
      "Cost after step   265:  0.0205143\n",
      "Cost after step   270:  0.0195185\n",
      "Cost after step   275:  0.0185805\n",
      "Cost after step   280:  0.0176969\n",
      "Cost after step   285:  0.0168644\n",
      "Cost after step   290:  0.0160798\n",
      "Cost after step   295:  0.0153402\n",
      "Cost after step   300:  0.0146429\n",
      "Cost after step   305:  0.0139851\n",
      "Cost after step   310:  0.0133644\n",
      "Cost after step   315:  0.0127785\n",
      "Cost after step   320:  0.0122252\n",
      "Cost after step   325:  0.0117025\n",
      "Cost after step   330:  0.0112084\n",
      "Cost after step   335:  0.0107411\n",
      "Cost after step   340:  0.0102991\n",
      "Cost after step   345:  0.0098806\n",
      "Cost after step   350:  0.0094842\n",
      "Cost after step   355:  0.0091087\n",
      "Cost after step   360:  0.0087527\n",
      "Cost after step   365:  0.0084149\n",
      "Cost after step   370:  0.0080944\n",
      "Cost after step   375:  0.0077901\n",
      "Cost after step   380:  0.0075009\n",
      "Cost after step   385:  0.0072260\n",
      "Cost after step   390:  0.0069646\n",
      "Cost after step   395:  0.0067159\n",
      "Cost after step   400:  0.0064790\n",
      "Cost after step   405:  0.0062534\n",
      "Cost after step   410:  0.0060384\n",
      "Cost after step   415:  0.0058334\n",
      "Cost after step   420:  0.0056378\n",
      "Cost after step   425:  0.0054511\n",
      "Cost after step   430:  0.0052729\n",
      "Cost after step   435:  0.0051025\n",
      "Cost after step   440:  0.0049397\n",
      "Cost after step   445:  0.0047839\n",
      "Cost after step   450:  0.0046349\n",
      "Cost after step   455:  0.0044923\n",
      "Cost after step   460:  0.0043557\n",
      "Cost after step   465:  0.0042248\n",
      "Cost after step   470:  0.0040993\n",
      "Cost after step   475:  0.0039790\n",
      "Cost after step   480:  0.0038635\n",
      "Cost after step   485:  0.0037527\n",
      "Cost after step   490:  0.0036463\n",
      "Cost after step   495:  0.0035440\n",
      "Cost after step   500:  0.0034458\n",
      "Cost after step   505:  0.0033513\n",
      "Cost after step   510:  0.0032605\n",
      "Cost after step   515:  0.0031731\n",
      "Cost after step   520:  0.0030889\n",
      "Cost after step   525:  0.0030079\n",
      "Cost after step   530:  0.0029298\n",
      "Cost after step   535:  0.0028546\n",
      "Cost after step   540:  0.0027821\n",
      "Cost after step   545:  0.0027121\n",
      "Cost after step   550:  0.0026447\n",
      "Cost after step   555:  0.0025795\n",
      "Cost after step   560:  0.0025167\n",
      "Cost after step   565:  0.0024560\n",
      "Cost after step   570:  0.0023974\n",
      "Cost after step   575:  0.0023407\n",
      "Cost after step   580:  0.0022859\n",
      "Cost after step   585:  0.0022330\n",
      "Cost after step   590:  0.0021817\n",
      "Cost after step   595:  0.0021322\n",
      "Cost after step   600:  0.0020842\n",
      "Cost after step   605:  0.0020377\n",
      "Cost after step   610:  0.0019928\n",
      "Cost after step   615:  0.0019492\n",
      "Cost after step   620:  0.0019070\n",
      "Cost after step   625:  0.0018660\n",
      "Cost after step   630:  0.0018264\n",
      "Cost after step   635:  0.0017879\n",
      "Cost after step   640:  0.0017506\n",
      "Cost after step   645:  0.0017144\n",
      "Cost after step   650:  0.0016792\n",
      "Cost after step   655:  0.0016451\n",
      "Cost after step   660:  0.0016120\n",
      "Cost after step   665:  0.0015798\n",
      "Cost after step   670:  0.0015485\n",
      "Cost after step   675:  0.0015182\n",
      "Cost after step   680:  0.0014886\n",
      "Cost after step   685:  0.0014599\n",
      "Cost after step   690:  0.0014320\n",
      "Cost after step   695:  0.0014049\n",
      "Cost after step   700:  0.0013784\n",
      "Cost after step   705:  0.0013527\n",
      "Cost after step   710:  0.0013277\n",
      "Cost after step   715:  0.0013034\n",
      "Cost after step   720:  0.0012797\n",
      "Cost after step   725:  0.0012566\n",
      "Cost after step   730:  0.0012341\n",
      "Cost after step   735:  0.0012122\n",
      "Cost after step   740:  0.0011908\n",
      "Cost after step   745:  0.0011700\n",
      "Cost after step   750:  0.0011497\n",
      "Cost after step   755:  0.0011299\n",
      "Cost after step   760:  0.0011106\n",
      "Cost after step   765:  0.0010918\n",
      "Cost after step   770:  0.0010734\n",
      "Cost after step   775:  0.0010555\n",
      "Cost after step   780:  0.0010380\n",
      "Cost after step   785:  0.0010210\n",
      "Cost after step   790:  0.0010043\n",
      "Cost after step   795:  0.0009880\n",
      "Cost after step   800:  0.0009721\n",
      "Cost after step   805:  0.0009566\n",
      "Cost after step   810:  0.0009415\n",
      "Cost after step   815:  0.0009266\n",
      "Cost after step   820:  0.0009122\n",
      "Cost after step   825:  0.0008980\n",
      "Cost after step   830:  0.0008842\n",
      "Cost after step   835:  0.0008706\n",
      "Cost after step   840:  0.0008574\n",
      "Cost after step   845:  0.0008445\n",
      "Cost after step   850:  0.0008318\n",
      "Cost after step   855:  0.0008194\n",
      "Cost after step   860:  0.0008073\n",
      "Cost after step   865:  0.0007955\n",
      "Cost after step   870:  0.0007839\n",
      "Cost after step   875:  0.0007725\n",
      "Cost after step   880:  0.0007614\n",
      "Cost after step   885:  0.0007505\n",
      "Cost after step   890:  0.0007399\n",
      "Cost after step   895:  0.0007294\n",
      "Cost after step   900:  0.0007192\n",
      "Cost after step   905:  0.0007092\n",
      "Cost after step   910:  0.0006994\n",
      "Cost after step   915:  0.0006897\n",
      "Cost after step   920:  0.0006803\n",
      "Cost after step   925:  0.0006711\n",
      "Cost after step   930:  0.0006620\n",
      "Cost after step   935:  0.0006531\n",
      "Cost after step   940:  0.0006444\n",
      "Cost after step   945:  0.0006359\n",
      "Cost after step   950:  0.0006275\n",
      "Cost after step   955:  0.0006193\n",
      "Cost after step   960:  0.0006113\n",
      "Cost after step   965:  0.0006034\n",
      "Cost after step   970:  0.0005956\n",
      "Cost after step   975:  0.0005880\n",
      "Cost after step   980:  0.0005805\n",
      "Cost after step   985:  0.0005732\n",
      "Cost after step   990:  0.0005660\n",
      "Cost after step   995:  0.0005589\n",
      "Cost after step  1000:  0.0005520\n",
      "Optimized parameters [0.2246990962170834, 3.4337646538553037]\n"
     ]
    }
   ],
   "source": [
    "# Qubit 0 optimization\n",
    "for i in range(iterations):\n",
    "    optimizer(params0, learning_rate, 0)\n",
    "    \n",
    "    if (i + 1) % 5 == 0:\n",
    "        print(\"Cost after step {:5d}: {: .7f}\".format(i+1, cost(params0, 0)))\n",
    "    \n",
    "print(\"Optimized parameters\", params0)\n",
    "    \n",
    "# Qubit 1 optimization\n",
    "for j in range(iterations):\n",
    "    optimizer(params1, learning_rate, 1)\n",
    "    \n",
    "    if (j + 1) % 5 == 0:\n",
    "        print(\"Cost after step {:5d}: {: .7f}\".format(j+1, cost(params1, 1)))\n",
    "    \n",
    "print(\"Optimized parameters\", params1)"
   ]
  },
  {
   "cell_type": "code",
   "execution_count": 22,
   "metadata": {},
   "outputs": [
    {
     "data": {
      "image/png": "[encoded data removed]",
      "text/plain": [
       "<Figure size 504x360 with 1 Axes>"
      ]
     },
     "execution_count": 22,
     "metadata": {},
     "output_type": "execute_result"
    }
   ],
   "source": [
    "qc = circuit(params0, params1)\n",
    "qc.cx(0,1)\n",
    "qc.measure_all()\n",
    "counts = execute(qc, qasm_backend).result().get_counts()\n",
    "plot_histogram(counts)"
   ]
  },
  {
   "cell_type": "markdown",
   "metadata": {},
   "source": [
    "## Variations in number of measurements"
   ]
  },
  {
   "cell_type": "markdown",
   "metadata": {},
   "source": [
    "### i) 1 measurement"
   ]
  },
  {
   "cell_type": "code",
   "execution_count": 23,
   "metadata": {},
   "outputs": [
    {
     "data": {
      "image/png": "[encoded data removed]",
      "text/plain": [
       "<Figure size 504x360 with 1 Axes>"
      ]
     },
     "execution_count": 23,
     "metadata": {},
     "output_type": "execute_result"
    }
   ],
   "source": [
    "shots = 1\n",
    "counts = execute(qc, qasm_backend, shots=shots).result().get_counts()\n",
    "plot_histogram(counts)"
   ]
  },
  {
   "cell_type": "markdown",
   "metadata": {},
   "source": [
    "### ii) 10 measurements"
   ]
  },
  {
   "cell_type": "code",
   "execution_count": 24,
   "metadata": {},
   "outputs": [
    {
     "data": {
      "image/png": "[encoded data removed]",
      "text/plain": [
       "<Figure size 504x360 with 1 Axes>"
      ]
     },
     "execution_count": 24,
     "metadata": {},
     "output_type": "execute_result"
    }
   ],
   "source": [
    "shots = 10\n",
    "counts = execute(qc, qasm_backend, shots=shots).result().get_counts()\n",
    "plot_histogram(counts)"
   ]
  },
  {
   "cell_type": "markdown",
   "metadata": {},
   "source": [
    "### iii) 100 measurements"
   ]
  },
  {
   "cell_type": "code",
   "execution_count": 25,
   "metadata": {},
   "outputs": [
    {
     "data": {
      "image/png": "[encoded data removed]",
      "text/plain": [
       "<Figure size 504x360 with 1 Axes>"
      ]
     },
     "execution_count": 25,
     "metadata": {},
     "output_type": "execute_result"
    }
   ],
   "source": [
    "shots = 100\n",
    "counts = execute(qc, qasm_backend, shots=shots).result().get_counts()\n",
    "plot_histogram(counts)"
   ]
  },
  {
   "cell_type": "markdown",
   "metadata": {},
   "source": [
    "### iv) 1000 measurements"
   ]
  },
  {
   "cell_type": "code",
   "execution_count": 26,
   "metadata": {},
   "outputs": [
    {
     "data": {
      "image/png": "[encoded data removed]",
      "text/plain": [
       "<Figure size 504x360 with 1 Axes>"
      ]
     },
     "execution_count": 26,
     "metadata": {},
     "output_type": "execute_result"
    }
   ],
   "source": [
    "shots = 1000\n",
    "counts = execute(qc, qasm_backend, shots=shots).result().get_counts()\n",
    "plot_histogram(counts)"
   ]
  },
  {
   "cell_type": "markdown",
   "metadata": {},
   "source": [
    "# Implementation in PennyLane"
   ]
  },
  {
   "cell_type": "code",
   "execution_count": 27,
   "metadata": {},
   "outputs": [],
   "source": [
    "# Necessary imports\n",
    "import pennylane as qml\n",
    "from pennylane import numpy as np"
   ]
  },
  {
   "cell_type": "markdown",
   "metadata": {},
   "source": [
    "## Construction of the circuit\n",
    "PennyLane provides us with built-in optimizers that will take care of the mathematical rigor that we implemented above in Qiskit. For this reason, we directly construct the parameterized circuit and measure the probability of measuring the states $|00 \\rangle$, $|01 \\rangle$, $|10 \\rangle$ and $|11 \\rangle$."
   ]
  },
  {
   "cell_type": "code",
   "execution_count": 28,
   "metadata": {},
   "outputs": [],
   "source": [
    "# Defining the device (backend) to use\n",
    "dev = qml.device(\"default.qubit\", wires=2, shots=1000, analytic=False)\n",
    "\n",
    "# Define a parameterized circuit\n",
    "# params = [q0_theta0, q0_theta1, q1_theta0, q1_theta1]\n",
    "@qml.qnode(dev)\n",
    "def circuit0(params):\n",
    "    qml.RY(params[0], wires=0)\n",
    "    qml.RX(params[1], wires=0)\n",
    "    qml.RY(params[2], wires=1)\n",
    "    qml.RX(params[3], wires=1)\n",
    "    qml.CNOT(wires=[0,1])\n",
    "    \n",
    "    # return the probabilies of the states as a list\n",
    "    return qml.probs(wires=[0,1])\n"
   ]
  },
  {
   "cell_type": "markdown",
   "metadata": {},
   "source": [
    "After our initial qubit state $|00 \\rangle$ undergoes operations under the parameterized, we arrive at a state say $| \\psi \\rangle$."
   ]
  },
  {
   "cell_type": "code",
   "execution_count": 29,
   "metadata": {},
   "outputs": [],
   "source": [
    "# Define a function that returns the probability of measuring a state of this composite system\n",
    "# state = 0,1,2 or 3 where 0 = |00>, 1 = |01>, 2 = |10>, 3 = |11>\n",
    "def probability(circuit, params, state):\n",
    "    return circuit(params)[state]\n"
   ]
  },
  {
   "cell_type": "markdown",
   "metadata": {},
   "source": [
    "## Cost function\n",
    "Since we are using the entire circuit to optimize (unlike the case with Qiskit where we optimized upto the CNOT gate and treated both the qubits as 2 separate optimization problems), we will be optimizing the parameters of both the qubits at once. For this we'll implement a very straightforward cost function as a function of probabilities as implemented in our implementation in Qiskit.\n",
    "\n",
    "A simple cost function would be\n",
    "\n",
    "$$\n",
    "J = (P_{00}^2 + (P_{01} - 0.5)^2 + (P_{10} - 0.5)^2 + P_{11}^2)\n",
    "$$\n",
    "\n",
    "Or as implemented in our code, it would be\n",
    "\n",
    "$$\n",
    "J = (P_0^2 + (P_1 - 0.5)^2 + (P_2 - 0.5)^2 + P_3^2)\n",
    "$$\n",
    "\n",
    "where $P_0 = | \\langle 00 | \\psi \\rangle |^2$, $P_1 = | \\langle 01 | \\psi \\rangle |^2$, $P_2 = | \\langle 10 | \\psi \\rangle |^2$ and $P_3 = | \\langle 11 | \\psi \\rangle |^2$.\n",
    "\n",
    "Let us define this cost function in our code."
   ]
  },
  {
   "cell_type": "code",
   "execution_count": 30,
   "metadata": {},
   "outputs": [],
   "source": [
    "# Cost function with params = [q0_theta0, q0_theta1, q1_theta0, q1_theta1]\n",
    "def cost(params):\n",
    "    return (probability(circuit, params, 0)**2 + (probability(circuit, params, 1) - 0.5)**2 + (probability(circuit, params, 2) - 0.5)**2 + probability(circuit, params, 3)**2)"
   ]
  },
  {
   "cell_type": "markdown",
   "metadata": {},
   "source": [
    "## Optimization using Gradient Descent"
   ]
  },
  {
   "cell_type": "code",
   "execution_count": 31,
   "metadata": {},
   "outputs": [],
   "source": [
    "# Initial parameters (assign random values)\n",
    "init_params = [random.uniform(0.001, 2*np.pi) for i in range(4)]\n",
    "\n",
    "# Optimizer\n",
    "opt = qml.GradientDescentOptimizer(stepsize=0.04)"
   ]
  },
  {
   "cell_type": "code",
   "execution_count": 32,
   "metadata": {},
   "outputs": [],
   "source": [
    "# Number of iterations\n",
    "steps = 1000\n",
    "\n",
    "# Assign initial parameters to a variable 'params' to be optimized\n",
    "params = init_params.copy()"
   ]
  },
  {
   "cell_type": "code",
   "execution_count": 33,
   "metadata": {},
   "outputs": [
    {
     "name": "stdout",
     "output_type": "stream",
     "text": [
      "Cost after step     5:  0.1668340\n",
      "Cost after step    10:  0.1569660\n",
      "Cost after step    15:  0.1307800\n",
      "Cost after step    20:  0.0956140\n",
      "Cost after step    25:  0.1017330\n",
      "Cost after step    30:  0.0985890\n",
      "Cost after step    35:  0.0709710\n",
      "Cost after step    40:  0.0778210\n",
      "Cost after step    45:  0.0588410\n",
      "Cost after step    50:  0.0603650\n",
      "Cost after step    55:  0.0503500\n",
      "Cost after step    60:  0.0429770\n",
      "Cost after step    65:  0.0381090\n",
      "Cost after step    70:  0.0459660\n",
      "Cost after step    75:  0.0335750\n",
      "Cost after step    80:  0.0260610\n",
      "Cost after step    85:  0.0271930\n",
      "Cost after step    90:  0.0204580\n",
      "Cost after step    95:  0.0218460\n",
      "Cost after step   100:  0.0225110\n",
      "Cost after step   105:  0.0180340\n",
      "Cost after step   110:  0.0180150\n",
      "Cost after step   115:  0.0066570\n",
      "Cost after step   120:  0.0146170\n",
      "Cost after step   125:  0.0188290\n",
      "Cost after step   130:  0.0140420\n",
      "Cost after step   135:  0.0161410\n",
      "Cost after step   140:  0.0087840\n",
      "Cost after step   145:  0.0098150\n",
      "Cost after step   150:  0.0089460\n",
      "Cost after step   155:  0.0067540\n",
      "Cost after step   160:  0.0058630\n",
      "Cost after step   165:  0.0058620\n",
      "Cost after step   170:  0.0079020\n",
      "Cost after step   175:  0.0051120\n",
      "Cost after step   180:  0.0059490\n",
      "Cost after step   185:  0.0053580\n",
      "Cost after step   190:  0.0096420\n",
      "Cost after step   195:  0.0050220\n",
      "Cost after step   200:  0.0022290\n",
      "Cost after step   205:  0.0090150\n",
      "Cost after step   210:  0.0023820\n",
      "Cost after step   215:  0.0064970\n",
      "Cost after step   220:  0.0039070\n",
      "Cost after step   225:  0.0034550\n",
      "Cost after step   230:  0.0038530\n",
      "Cost after step   235:  0.0046820\n",
      "Cost after step   240:  0.0027020\n",
      "Cost after step   245:  0.0029180\n",
      "Cost after step   250:  0.0041860\n",
      "Cost after step   255:  0.0022910\n",
      "Cost after step   260:  0.0026420\n",
      "Cost after step   265:  0.0022260\n",
      "Cost after step   270:  0.0015980\n",
      "Cost after step   275:  0.0036900\n",
      "Cost after step   280:  0.0033300\n",
      "Cost after step   285:  0.0048980\n",
      "Cost after step   290:  0.0017740\n",
      "Cost after step   295:  0.0019880\n",
      "Cost after step   300:  0.0015760\n",
      "Cost after step   305:  0.0011730\n",
      "Cost after step   310:  0.0036630\n",
      "Cost after step   315:  0.0020390\n",
      "Cost after step   320:  0.0036820\n",
      "Cost after step   325:  0.0037090\n",
      "Cost after step   330:  0.0025590\n",
      "Cost after step   335:  0.0031300\n",
      "Cost after step   340:  0.0022390\n",
      "Cost after step   345:  0.0017250\n",
      "Cost after step   350:  0.0012720\n",
      "Cost after step   355:  0.0016010\n",
      "Cost after step   360:  0.0007350\n",
      "Cost after step   365:  0.0014590\n",
      "Cost after step   370:  0.0016490\n",
      "Cost after step   375:  0.0022550\n",
      "Cost after step   380:  0.0011610\n",
      "Cost after step   385:  0.0014190\n",
      "Cost after step   390:  0.0049810\n",
      "Cost after step   395:  0.0025590\n",
      "Cost after step   400:  0.0002890\n",
      "Cost after step   405:  0.0016220\n",
      "Cost after step   410:  0.0005430\n",
      "Cost after step   415:  0.0015260\n",
      "Cost after step   420:  0.0003690\n",
      "Cost after step   425:  0.0018790\n",
      "Cost after step   430:  0.0009620\n",
      "Cost after step   435:  0.0011100\n",
      "Cost after step   440:  0.0007500\n",
      "Cost after step   445:  0.0007700\n",
      "Cost after step   450:  0.0005980\n",
      "Cost after step   455:  0.0020860\n",
      "Cost after step   460:  0.0015120\n",
      "Cost after step   465:  0.0008770\n",
      "Cost after step   470:  0.0004870\n",
      "Cost after step   475:  0.0006390\n",
      "Cost after step   480:  0.0005930\n",
      "Cost after step   485:  0.0006780\n",
      "Cost after step   490:  0.0033870\n",
      "Cost after step   495:  0.0014540\n",
      "Cost after step   500:  0.0014620\n",
      "Cost after step   505:  0.0027380\n",
      "Cost after step   510:  0.0029740\n",
      "Cost after step   515:  0.0008020\n",
      "Cost after step   520:  0.0007300\n",
      "Cost after step   525:  0.0007350\n",
      "Cost after step   530:  0.0008090\n",
      "Cost after step   535:  0.0014580\n",
      "Cost after step   540:  0.0004580\n",
      "Cost after step   545:  0.0006060\n",
      "Cost after step   550:  0.0017020\n",
      "Cost after step   555:  0.0014460\n",
      "Cost after step   560:  0.0007410\n",
      "Cost after step   565:  0.0018460\n",
      "Cost after step   570:  0.0010280\n",
      "Cost after step   575:  0.0013380\n",
      "Cost after step   580:  0.0010660\n",
      "Cost after step   585:  0.0006300\n",
      "Cost after step   590:  0.0008690\n",
      "Cost after step   595:  0.0004460\n",
      "Cost after step   600:  0.0011670\n",
      "Cost after step   605:  0.0006380\n",
      "Cost after step   610:  0.0017810\n",
      "Cost after step   615:  0.0003850\n",
      "Cost after step   620:  0.0003080\n",
      "Cost after step   625:  0.0011260\n",
      "Cost after step   630:  0.0004070\n",
      "Cost after step   635:  0.0011010\n",
      "Cost after step   640:  0.0012630\n",
      "Cost after step   645:  0.0004250\n",
      "Cost after step   650:  0.0002570\n",
      "Cost after step   655:  0.0002220\n",
      "Cost after step   660:  0.0001870\n",
      "Cost after step   665:  0.0003000\n",
      "Cost after step   670:  0.0005510\n",
      "Cost after step   675:  0.0002060\n",
      "Cost after step   680:  0.0010900\n",
      "Cost after step   685:  0.0015050\n",
      "Cost after step   690:  0.0016540\n",
      "Cost after step   695:  0.0004550\n",
      "Cost after step   700:  0.0014610\n",
      "Cost after step   705:  0.0016900\n",
      "Cost after step   710:  0.0011970\n",
      "Cost after step   715:  0.0004580\n",
      "Cost after step   720:  0.0008990\n",
      "Cost after step   725:  0.0008710\n",
      "Cost after step   730:  0.0009880\n",
      "Cost after step   735:  0.0015970\n",
      "Cost after step   740:  0.0007010\n",
      "Cost after step   745:  0.0005060\n",
      "Cost after step   750:  0.0003500\n",
      "Cost after step   755:  0.0015260\n",
      "Cost after step   760:  0.0003890\n",
      "Cost after step   765:  0.0002140\n",
      "Cost after step   770:  0.0031980\n",
      "Cost after step   775:  0.0004530\n",
      "Cost after step   780:  0.0003410\n",
      "Cost after step   785:  0.0006220\n",
      "Cost after step   790:  0.0000540\n",
      "Cost after step   795:  0.0005850\n",
      "Cost after step   800:  0.0003660\n",
      "Cost after step   805:  0.0016700\n",
      "Cost after step   810:  0.0003400\n",
      "Cost after step   815:  0.0000510\n",
      "Cost after step   820:  0.0012500\n",
      "Cost after step   825:  0.0002700\n",
      "Cost after step   830:  0.0017220\n",
      "Cost after step   835:  0.0005170\n",
      "Cost after step   840:  0.0002850\n",
      "Cost after step   845:  0.0002830\n",
      "Cost after step   850:  0.0004010\n",
      "Cost after step   855:  0.0010530\n",
      "Cost after step   860:  0.0003140\n",
      "Cost after step   865:  0.0014700\n",
      "Cost after step   870:  0.0005490\n",
      "Cost after step   875:  0.0001150\n",
      "Cost after step   880:  0.0001700\n",
      "Cost after step   885:  0.0006030\n",
      "Cost after step   890:  0.0007590\n",
      "Cost after step   895:  0.0004340\n",
      "Cost after step   900:  0.0005950\n",
      "Cost after step   905:  0.0000660\n",
      "Cost after step   910:  0.0002770\n",
      "Cost after step   915:  0.0006380\n",
      "Cost after step   920:  0.0017420\n",
      "Cost after step   925:  0.0009150\n",
      "Cost after step   930:  0.0003640\n",
      "Cost after step   935:  0.0010700\n",
      "Cost after step   940:  0.0020970\n",
      "Cost after step   945:  0.0003660\n",
      "Cost after step   950:  0.0003210\n",
      "Cost after step   955:  0.0002220\n",
      "Cost after step   960:  0.0007180\n",
      "Cost after step   965:  0.0006090\n",
      "Cost after step   970:  0.0003300\n",
      "Cost after step   975:  0.0000540\n",
      "Cost after step   980:  0.0002760\n",
      "Cost after step   985:  0.0007470\n",
      "Cost after step   990:  0.0008510\n",
      "Cost after step   995:  0.0005100\n",
      "Cost after step  1000:  0.0003780\n"
     ]
    }
   ],
   "source": [
    "# Optimization over every loop\n",
    "for i in range(steps):\n",
    "    params = opt.step(cost, params)\n",
    "    \n",
    "    if (i+1) % 5 == 0:\n",
    "        print(\"Cost after step {:5d}: {: .7f}\".format(i+1, cost(params)))"
   ]
  },
  {
   "cell_type": "markdown",
   "metadata": {},
   "source": [
    "### Variation in number of measurements"
   ]
  },
  {
   "cell_type": "markdown",
   "metadata": {},
   "source": [
    "Change the number of `dev.shots` to vary the number of measurements"
   ]
  },
  {
   "cell_type": "code",
   "execution_count": 34,
   "metadata": {},
   "outputs": [],
   "source": [
    "# Number of measurements (change the number and execute the following cell block)\n",
    "#dev.shots = 1\n",
    "#dev.shots = 10\n",
    "dev.shots = 100\n",
    "#dev.shots = 1000"
   ]
  },
  {
   "cell_type": "code",
   "execution_count": 37,
   "metadata": {},
   "outputs": [
    {
     "name": "stdout",
     "output_type": "stream",
     "text": [
      "Probability of measuring states:\n",
      "\n",
      "|00> = 0.0\n",
      "|01> = 0.46\n",
      "|10> = 0.47\n",
      "|11> = 0.0\n"
     ]
    }
   ],
   "source": [
    "# Print the probabilities of states after optimization\n",
    "print(\"Probability of measuring states:\\n\")\n",
    "print(\"|00> =\", circuit(params)[0])\n",
    "print(\"|01> =\", circuit(params)[1])\n",
    "print(\"|10> =\", circuit(params)[2])\n",
    "print(\"|11> =\", circuit(params)[3])"
   ]
  },
  {
   "cell_type": "markdown",
   "metadata": {},
   "source": [
    "## Bonus question: How to make sure that you produce the state $|01 \\rangle + |10 \\rangle$ and not $|01 \\rangle + e^{i\\phi}|10 \\rangle$ (which includes $|01\\rangle - |10\\rangle$)"
   ]
  },
  {
   "cell_type": "markdown",
   "metadata": {},
   "source": [
    "Let us find the state of the system before making the measurement. For this we shall use the 'statevector_simulator' in Qiskit which allows us to know the state of the system without destroying it. We shall then plot this statevector on a qsphere."
   ]
  },
  {
   "cell_type": "code",
   "execution_count": 56,
   "metadata": {},
   "outputs": [
    {
     "data": {
      "image/png": "[encoded data removed]",
      "text/plain": [
       "<Figure size 504x504 with 2 Axes>"
      ]
     },
     "execution_count": 56,
     "metadata": {},
     "output_type": "execute_result"
    }
   ],
   "source": [
    "# Defining a circuit with the optimized parameters\n",
    "circ = circuit(params0, params1)\n",
    "circ.cx(0,1)\n",
    "final_state = execute(circ, statevector_backend).result().get_statevector()\n",
    "plot_state_qsphere(final_state)"
   ]
  },
  {
   "cell_type": "code",
   "execution_count": 58,
   "metadata": {},
   "outputs": [
    {
     "name": "stdout",
     "output_type": "stream",
     "text": [
      "(0.15261695027068592+0.10522748342652419j)\n"
     ]
    }
   ],
   "source": [
    "f_state = Statevector.from_instruction(circ).data\n",
    "relative_phase = f_state[0]/f_state[1]\n",
    "print(relative_phase)"
   ]
  },
  {
   "cell_type": "markdown",
   "metadata": {},
   "source": [
    "We need to come up with a mechanism to filter out all relative phases except $|01\\rangle + |10\\rangle$."
   ]
  },
  {
   "cell_type": "markdown",
   "metadata": {},
   "source": [
    "## Questions to ponder about\n"
   ]
  },
  {
   "cell_type": "code",
   "execution_count": null,
   "metadata": {},
   "outputs": [],
   "source": []
  },
  {
   "cell_type": "code",
   "execution_count": null,
   "metadata": {},
   "outputs": [],
   "source": []
  },
  {
   "cell_type": "code",
   "execution_count": null,
   "metadata": {},
   "outputs": [],
   "source": []
  },
  {
   "cell_type": "markdown",
   "metadata": {},
   "source": [
    "# To do\n",
    "- Implement partial derivatives not by hand but through external libraries like Sympy.\n",
    "- Implementing various other optimization techniques such as the Adam optimizer and gradient descent with momentum.\n",
    "- ~Implement the same problem using PennyLane, which provides pre-build functions for optimization~ Used basic gradient descent in PennyLane."
   ]
  },
  {
   "cell_type": "code",
   "execution_count": null,
   "metadata": {},
   "outputs": [],
   "source": []
  }
 ],
 "metadata": {
  "kernelspec": {
   "display_name": "Python 3",
   "language": "python",
   "name": "python3"
  },
  "language_info": {
   "codemirror_mode": {
    "name": "ipython",
    "version": 3
   },
   "file_extension": ".py",
   "mimetype": "text/x-python",
   "name": "python",
   "nbconvert_exporter": "python",
   "pygments_lexer": "ipython3",
   "version": "3.8.5"
  }
 },
 "nbformat": 4,
 "nbformat_minor": 4
}
