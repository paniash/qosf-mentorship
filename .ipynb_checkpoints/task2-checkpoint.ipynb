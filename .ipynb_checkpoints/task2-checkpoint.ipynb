{
 "cells": [
  {
   "cell_type": "markdown",
   "metadata": {},
   "source": [
    "# QOSF Task 2\n",
    "\n",
    "Implement a circuit that returns $| 01 \\rangle$ and $|10 \\rangle$ with equal probability.\n",
    "\n",
    "Requirements :\n",
    "- The circuit should consist only of CNOTs, RXs and RYs. \n",
    "- Start from all parameters in parametric gates being equal to 0 or randomly chosen. \n",
    "- You should find the right set of parameters using gradient descent (you can use more advanced optimization methods if you like). \n",
    "- Simulations must be done with sampling - i.e. a limited number of measurements per iteration and noise. \n",
    "\n",
    "Compare the results for different numbers of measurements: 1, 10, 100, 1000. \n",
    "\n",
    "Bonus question:\n",
    "How to make sure you produce state $|01 \\rangle + |10 \\rangle$ and not $|01 \\rangle - |10 \\rangle$?"
   ]
  },
  {
   "cell_type": "markdown",
   "metadata": {},
   "source": [
    "I have decided to use Qiskit in my code since I'm very comfortable with it."
   ]
  },
  {
   "cell_type": "code",
   "execution_count": 30,
   "metadata": {},
   "outputs": [],
   "source": [
    "# Importing necessary libraries \n",
    "# and predefining some variables\n",
    "from qiskit import execute, Aer, QuantumCircuit \n",
    "from qiskit.visualization import plot_histogram, plot_state_qsphere as q_plot\n",
    "from qiskit.quantum_info import Statevector\n",
    "import numpy as np\n",
    "import matplotlib.pyplot as plt\n",
    "import random\n",
    "%matplotlib inline\n",
    "\n",
    "q_simulator = Aer.get_backend('qasm_simulator')\n",
    "st_simulator = Aer.get_backend('statevector_simulator')"
   ]
  },
  {
   "cell_type": "markdown",
   "metadata": {},
   "source": [
    "## Trial circuit\n",
    "Let us implement a quantum circuit with known parameters that yields an equal probability of $| 01 \\rangle$ and $| 10 \\rangle$ to get an idea of what gates the circuit must consist of."
   ]
  },
  {
   "cell_type": "code",
   "execution_count": 71,
   "metadata": {},
   "outputs": [],
   "source": [
    "# Define a quantum circuit consisting of 2 qubits\n",
    "qc = QuantumCircuit(2)\n",
    "\n",
    "# Hadamard gate on qubit 0\n",
    "#qc.ry(np.pi/2, 0)\n",
    "#qc.rx(np.pi, 0)\n",
    "qc.h(0)\n",
    "\n",
    "# X gate on qubit 1\n",
    "#qc.rx(np.pi, 1)\n",
    "qc.x(1)\n",
    "\n",
    "# CNOT gate with qubit 0, qubit 1 as the control and target qubits respectively\n",
    "qc.cx(0,1)\n",
    "qc.measure_all()"
   ]
  },
  {
   "cell_type": "code",
   "execution_count": 72,
   "metadata": {},
   "outputs": [
    {
     "data": {
      "image/png": "[encoded data removed]",
      "text/plain": [
       "<Figure size 473.172x198.66 with 1 Axes>"
      ]
     },
     "execution_count": 72,
     "metadata": {},
     "output_type": "execute_result"
    }
   ],
   "source": [
    "qc.draw()"
   ]
  },
  {
   "cell_type": "code",
   "execution_count": 73,
   "metadata": {},
   "outputs": [
    {
     "data": {
      "image/png": "[encoded data removed]",
      "text/plain": [
       "<Figure size 504x360 with 1 Axes>"
      ]
     },
     "execution_count": 73,
     "metadata": {},
     "output_type": "execute_result"
    }
   ],
   "source": [
    "counts = execute(qc, q_simulator, shots=1000).result().get_counts()\n",
    "plot_histogram(counts)"
   ]
  },
  {
   "cell_type": "markdown",
   "metadata": {},
   "source": [
    "As can be seen from the histogram plot, we get the desired output. Our goal now is to parameterize the circuit by introducing unknown parameters to the RX and RY gates."
   ]
  },
  {
   "cell_type": "markdown",
   "metadata": {},
   "source": [
    "When trying to find the optimal solution to the parameterized problem, the CNOT gate does not play a role since it does not depend on parameters. Hence, the goal is to find the optimum solution to the state of the qubits just before applying the CNOT gate."
   ]
  },
  {
   "cell_type": "markdown",
   "metadata": {},
   "source": [
    "Let us see the effect of the gates used in the trial circuit to find the state of the system at the end of the circuit.\n",
    "\n",
    "All qubits are initialized to the state $| 0 \\rangle$ thus initializing the system at $| 00 \\rangle$. Applying a Hadamard gate to the 1st qubit yields, \n",
    "\n",
    "$$ |00 \\rangle \\longrightarrow |0 \\rangle \\otimes \\frac{1}{\\sqrt{2}} (|0 \\rangle + |1 \\rangle)$$"
   ]
  },
  {
   "cell_type": "markdown",
   "metadata": {},
   "source": [
    "It is a good point to note here that Qiskit orders its qubits in a different way compared to the textbook convention. In Qiskit, if $q_0$ and $q_1$ are the 1st and 2nd qubits respectively, then the composite system is written as\n",
    "\n",
    "$$ |q_1 q_0 \\rangle = |q_1 \\rangle \\otimes |q_0 \\rangle$$"
   ]
  },
  {
   "cell_type": "markdown",
   "metadata": {},
   "source": [
    "Now applying an X gate onto the second qubit,\n",
    "\n",
    "$$ |0 \\rangle \\otimes \\frac{1}{\\sqrt{2}}(|0 \\rangle + |1 \\rangle) \\longrightarrow |1 \\rangle \\otimes \\frac{1}{\\sqrt{2}} (|0 \\rangle + |1 \\rangle)$$"
   ]
  },
  {
   "cell_type": "markdown",
   "metadata": {},
   "source": [
    "Finally applying a CNOT gate (with the first qubit as the control and the second qubit as the target), we get\n",
    "\n",
    "$$ |1 \\rangle \\otimes \\frac{1}{\\sqrt{2}} (|0 \\rangle + |1 \\rangle) \\longrightarrow \\frac{1}{\\sqrt{2}} (|10 \\rangle + |01 \\rangle) = |\\psi \\rangle$$"
   ]
  },
  {
   "cell_type": "markdown",
   "metadata": {},
   "source": [
    "This final state $|\\psi \\rangle$ upon measurement, will yield $|10 \\rangle$ with a probability of 0.5 and $|01 \\rangle$ with a probability of 0.5."
   ]
  },
  {
   "cell_type": "markdown",
   "metadata": {},
   "source": [
    "However, since we are not concerned with unparameterized operations, we only have to worry about the state of the system just before the application of the CNOT gate. That state would be,\n",
    "\n",
    "$$ | \\phi \\rangle = |1 \\rangle \\otimes \\frac{1}{\\sqrt{2}}(|0 \\rangle + |1 \\rangle)$$"
   ]
  },
  {
   "cell_type": "markdown",
   "metadata": {},
   "source": [
    "This state is clearly unentangled, meaning that the corresponding qubits are independent and that we can treat the problem as 2 separate optimization problems."
   ]
  },
  {
   "cell_type": "code",
   "execution_count": 109,
   "metadata": {},
   "outputs": [],
   "source": [
    "## Initializing parameters with random values\n",
    "\n",
    "# q0_thetas holds parameters for the first qubit and q1_thetas holds parameters for the second qubit\n",
    "q0_thetas = [ random.uniform(0.01, 2 * np.pi) for i in range(2)]\n",
    "q1_thetas = [ random.uniform(0.01, 2 * np.pi) for i in range(2)]"
   ]
  },
  {
   "cell_type": "markdown",
   "metadata": {},
   "source": [
    "Let us define a function that returns a parameterized quantum circuit"
   ]
  },
  {
   "cell_type": "code",
   "execution_count": 110,
   "metadata": {},
   "outputs": [],
   "source": [
    "def circuit(params0, params1):\n",
    "    circuit = QuantumCircuit(2)\n",
    "    circuit.ry(params0[0], 0)\n",
    "    circuit.rx(params0[1], 0)\n",
    "    circuit.ry(params1[0], 1)\n",
    "    circuit.rx(params1[1], 1)\n",
    "    \n",
    "    return circuit"
   ]
  },
  {
   "cell_type": "code",
   "execution_count": 111,
   "metadata": {},
   "outputs": [
    {
     "data": {
      "image/png": "[encoded data removed]",
      "text/plain": [
       "<Figure size 473.172x198.66 with 1 Axes>"
      ]
     },
     "execution_count": 111,
     "metadata": {},
     "output_type": "execute_result"
    }
   ],
   "source": [
    "circ = circuit(q0_thetas, q1_thetas)\n",
    "circ.measure_all()\n",
    "circ.draw()"
   ]
  },
  {
   "cell_type": "code",
   "execution_count": 112,
   "metadata": {},
   "outputs": [
    {
     "data": {
      "image/png": "[encoded data removed]",
      "text/plain": [
       "<Figure size 504x360 with 1 Axes>"
      ]
     },
     "execution_count": 112,
     "metadata": {},
     "output_type": "execute_result"
    }
   ],
   "source": [
    "cnt = execute(circ, q_simulator).result().get_counts()\n",
    "plot_histogram(cnt)"
   ]
  },
  {
   "cell_type": "markdown",
   "metadata": {},
   "source": [
    "Our goal here is to optimize the parameters such that measuring $q_1$ yields that state $|1 \\rangle$ with probability 1 and measuring $q_0$ yields the states $|0 \\rangle$ and $|1 \\rangle$ with probabilities 0.5 each."
   ]
  },
  {
   "cell_type": "markdown",
   "metadata": {},
   "source": [
    "## Cost function\n",
    "\n",
    "Since the 2 qubits can be treated independently, let us define 2 cost functions to optimize their respective parameters.\n",
    "\n",
    "Let $J_0$ and $J_1$ be the cost functions of $q_0$ and $q_1$ respectively. Since we're dealing with probability, let us implement it into these cost functions. "
   ]
  },
  {
   "cell_type": "markdown",
   "metadata": {},
   "source": [
    "### Qubit 0\n",
    "$$ J_0 = \\frac{1}{4} ((P_0 - 0.5)^2 + (P_1 - 0.5)^2)$$\n",
    "\n",
    "### Qubit 1\n",
    "$$ J_1 = \\frac{1}{4} (P_0^2 + (P_1 - 1)^2)$$\n",
    "\n",
    "where $P_0$ and $P_1$ are the probabilities of measuring $|0 \\rangle$ and $|1 \\rangle$ respectively."
   ]
  },
  {
   "cell_type": "markdown",
   "metadata": {},
   "source": [
    "We wish to minimize the above 2 cost functions using batch gradient descent as our optimization method."
   ]
  },
  {
   "cell_type": "markdown",
   "metadata": {},
   "source": [
    "Now let us analytically deduce the operations the gates perform on our initial qubit state $| 00 \\rangle$."
   ]
  },
  {
   "cell_type": "markdown",
   "metadata": {},
   "source": [
    "The $R_X$ gate corresponds to,\n",
    "\n",
    "$$\n",
    "R_X (\\theta) = \n",
    "\\begin{pmatrix}\n",
    "\\cos \\frac{\\theta}{2} & -i \\sin \\frac{\\theta}{2} \\\\\n",
    "-i \\sin \\frac{\\theta}{2} & \\cos \\frac{\\theta}{2} \\\\\n",
    "\\end{pmatrix}\n",
    "$$"
   ]
  },
  {
   "cell_type": "markdown",
   "metadata": {},
   "source": [
    "The $R_Y$ gate corresponds to,\n",
    "\n",
    "$$\n",
    "R_Y (\\theta) = \n",
    "\\begin{pmatrix}\n",
    "\\cos \\frac{\\theta}{2} & - \\sin \\frac{\\theta}{2} \\\\ \n",
    "\\sin \\frac{\\theta}{2} & \\cos \\frac{\\theta}{2} \\\\  \n",
    "\\end{pmatrix}\n",
    "$$\n"
   ]
  },
  {
   "cell_type": "markdown",
   "metadata": {},
   "source": [
    "The operation of these matrices on initial state $|0 \\rangle$ yields,\n",
    "\n",
    "$$\n",
    "|0 \\rangle \\xrightarrow[]{R_Y (\\theta_0)}\n",
    "\\begin{pmatrix}\n",
    "\\cos \\frac{\\theta_0}{2} \\\\ \n",
    "\\sin \\frac{\\theta_0}{2} \\\\  \n",
    "\\end{pmatrix}\n",
    "\\xrightarrow[]{R_X (\\theta_1)}\n",
    "\\begin{pmatrix}\n",
    "\\cos \\frac{\\theta_0}{2} \\cos \\frac{\\theta_1}{2} - i \\sin \\frac{\\theta_0}{2} \\sin \\frac{\\theta_1} {2} \\\\\n",
    "-i \\sin \\frac{\\theta_1}{2} \\cos \\frac{\\theta_0}{2} + \\cos \\frac{\\theta_1}{2} \\sin \\frac{\\theta_0}{2} \\\\\n",
    "\\end{pmatrix}\n",
    "= | \\psi \\rangle\n",
    "$$"
   ]
  },
  {
   "cell_type": "markdown",
   "metadata": {},
   "source": [
    "This is the state obtained on both the qubits in the unparameterized circuit. From this state $| \\psi \\rangle$, the probabilities of obtaining $|0 \\rangle$ and $|1 \\rangle$ can be obtained by computing the corresponding modulus of inner products,\n",
    "\n",
    "$$\n",
    "| \\langle 0 | \\psi \\rangle |^2 = \\cos^2 \\frac{\\theta_0}{2} \\cos^2 \\frac{\\theta_1}{2} + \\sin^2 \\frac{\\theta_0}{2} \\sin^2 \\frac{\\theta_1}{2} = P_0\n",
    "$$\n",
    "\n",
    "$$\n",
    "| \\langle 1 | \\psi \\rangle |^2 = \\cos^2 \\frac{\\theta_1}{2} \\sin^2 \\frac{\\theta_0}{2} + \\sin^2 \\frac{\\theta_1}{2} \\cos^2 \\frac{\\theta_0}{2} = P_1\n",
    "$$"
   ]
  },
  {
   "cell_type": "markdown",
   "metadata": {},
   "source": [
    "## Batch Gradient Descent\n",
    "\n",
    "Let us now get into the meat of the optimization problem. Since we are implementing batch gradient descent, the parameters have to be updated as\n",
    "\n",
    "$$\n",
    "\\theta_{i+1} := \\theta_i - \\alpha \\frac{\\partial }{\\partial \\theta_i} J (\\theta_0, \\theta_1)\n",
    "$$\n",
    "\n",
    "where $\\theta_{i+1}$ is the updated parameter and $\\alpha$ is the learning rate.\n",
    "\n"
   ]
  },
  {
   "cell_type": "markdown",
   "metadata": {},
   "source": [
    "In general, batch gradient descent is not useful when minimizing functions that consist of various local minima, since the optimizer will get stuck once it ends on a local minima. However, lucky for us, the cost function that we are minimizing has a single minima (global minima) and is the point that we intend the optimizer to reach. \n",
    "\n",
    "Let us verify this through a plot of cost function as a function of $\\theta$."
   ]
  },
  {
   "cell_type": "code",
   "execution_count": 99,
   "metadata": {},
   "outputs": [
    {
     "data": {
      "text/plain": [
       "[<mpl_toolkits.mplot3d.art3d.Line3D at 0x7f636cb1a5e0>]"
      ]
     },
     "execution_count": 99,
     "metadata": {},
     "output_type": "execute_result"
    },
    {
     "data": {
      "image/png": "[encoded data removed]",
      "text/plain": [
       "<Figure size 432x288 with 1 Axes>"
      ]
     },
     "metadata": {
      "needs_background": "light"
     },
     "output_type": "display_data"
    }
   ],
   "source": [
    "from mpl_toolkits import mplot3d\n",
    "\n",
    "def z_function(x, y):\n",
    "    p0 = (np.cos(x/2)**2) * (np.cos(y/2)**2) + (np.sin(x/2)**2)*(np.sin(y/2)**2)\n",
    "    p1 = (np.cos(y/2)**2) * (np.sin(x/2)**2) + (np.sin(y/2)**2)*(np.cos(x/2)**2)\n",
    "\n",
    "    z = 0.25 * ((p0)**2 + (p1 - 1)**2)\n",
    "    return z\n",
    "\n",
    "x = np.linspace(0, 2*np.pi, 1000)\n",
    "y = np.linspace(0, 2*np.pi, 1000)\n",
    "z = z_function(x, y)\n",
    "\n",
    "fig = plt.figure()\n",
    "ax = plt.axes(projection='3d')\n",
    "ax.plot3D(x, y, z)"
   ]
  },
  {
   "cell_type": "markdown",
   "metadata": {},
   "source": [
    "Computing the respective partial derivatives of both cost funtions $J_0$ and $J_1$,\n",
    "\n",
    "$$\n",
    "\\frac{\\partial J_0}{\\partial \\theta_0} = \\frac{1}{2}\\left((P_0 - 0.5) \\frac{\\partial P_0}{\\partial \\theta_0} + (P_1 - 0.5) \\frac{\\partial P_1}{\\partial \\theta_0}\\right)\n",
    "$$\n",
    "\n",
    "$$\n",
    "\\frac{\\partial J_0}{\\partial \\theta_1} = \\frac{1}{2}\\left((P_0 - 0.5) \\frac{\\partial P_0}{\\partial \\theta_1} + (P_1 - 0.5) \\frac{\\partial P_1}{\\partial \\theta_1}\\right)\n",
    "$$\n",
    "\n",
    "$$\n",
    "\\frac{\\partial J_1}{\\partial \\theta_0} = \\frac{1}{2}\\left(P_0 \\frac{\\partial P_0}{\\partial \\theta_0} + (P_1 - 1) \\frac{\\partial P_1}{\\partial \\theta_0}\\right)\n",
    "$$\n",
    "\n",
    "$$\n",
    "\\frac{\\partial J_1}{\\partial \\theta_1} = \\frac{1}{2}\\left(P_0 \\frac{\\partial P_0}{\\partial \\theta_1} + (P_1 - 1) \\frac{\\partial P_1}{\\partial \\theta_1}\\right)\n",
    "$$"
   ]
  },
  {
   "cell_type": "markdown",
   "metadata": {},
   "source": [
    "Now, computing the partial derivatives of $P_0$ and $P_1$ with respect to the parameters,\n",
    "\n",
    "$$\n",
    "\\frac{\\partial P_0}{\\partial \\theta_0} = - \\cos \\frac{\\theta_0}{2} \\sin \\frac{\\theta_0}{2} \\cos^2 \\frac{\\theta_1}{2} + \\sin \\frac{\\theta_0}{2} \\cos \\frac{\\theta_0}{2} \\sin^2 \\frac{\\theta_1}{2} = -\\frac{1}{2} \\sin \\theta_0 \\cos \\theta_1\n",
    "$$\n",
    "\n",
    "$$\n",
    "\\frac{\\partial P_0}{\\partial \\theta_1} = - \\cos \\frac{\\theta_1}{2} \\sin \\frac{\\theta_1}{2} \\cos^2 \\frac{\\theta_0}{2} + \\sin \\frac{\\theta_1}{2} \\cos \\frac{\\theta_1}{2} \\sin^2 \\frac{\\theta_0}{2} = -\\frac{1}{2} \\sin \\theta_1 \\cos \\theta_0\n",
    "$$\n",
    "\n",
    "$$\n",
    "\\frac{\\partial P_1}{\\partial \\theta_0} = \\sin \\frac{\\theta_0}{2} \\cos \\frac{\\theta_0}{2} \\cos^2 \\frac{\\theta_1}{2} - \\sin^2 \\frac{\\theta_1}{2} \\cos \\frac{\\theta_0}{2} \\sin \\frac{\\theta_0}{2} = \\frac{1}{2} \\sin \\theta_0 \\cos \\theta_1\n",
    "$$\n",
    "\n",
    "$$\n",
    "\\frac{\\partial P_1}{\\partial \\theta_1} = -\\cos \\frac{\\theta_1}{2} \\sin \\frac{\\theta_1}{2} \\sin^2 \\frac{\\theta_0}{2} + \\sin \\frac{\\theta_1}{2} \\cos \\frac{\\theta_1}{2} \\cos^2 \\frac{\\theta_0}{2} = \\frac{1}{2} \\sin \\theta_1 \\cos \\theta_0\n",
    "$$"
   ]
  },
  {
   "cell_type": "markdown",
   "metadata": {},
   "source": [
    "## Partial derivatives of $J_i$ in terms of parameters $\\theta_0$, $\\theta_1$\n",
    "Substituting the above relations into the equations for the partial derivatives of $J_i$, we get\n",
    "\n",
    "$$\n",
    "\\frac{\\partial J_0}{\\partial \\theta_0} = \\frac{1}{4} \\sin \\theta_0 \\cos \\theta_1 (P_1 - P_0)\n",
    "$$\n",
    "\n",
    "$$\n",
    "\\frac{\\partial J_0}{\\partial \\theta_1} = \\frac{1}{4} \\sin \\theta_1 \\cos \\theta_0 (P_1 - P_0)\n",
    "$$\n",
    "\n",
    "$$\n",
    "\\frac{\\partial J_1}{\\partial \\theta_0} = \\frac{1}{4} \\sin \\theta_0 \\cos \\theta_1 (P_1 - P_0 -1)\n",
    "$$\n",
    "\n",
    "$$\n",
    "\\frac{\\partial J_1}{\\partial \\theta_1} = \\frac{1}{4} \\sin \\theta_1 \\cos \\theta_0 (P_1 - P_0 -1)\n",
    "$$"
   ]
  },
  {
   "cell_type": "markdown",
   "metadata": {},
   "source": [
    "Let us implement the above formulation in python."
   ]
  },
  {
   "cell_type": "code",
   "execution_count": 113,
   "metadata": {},
   "outputs": [],
   "source": [
    "## params = [theta0, theta1]\n",
    "\n",
    "# Probability of measuring state |0>\n",
    "def prob0(params):\n",
    "    p0 = (np.cos(params[0]/2)**2)*(np.cos(params[1]/2)**2) + (np.sin(params[0]/2)**2)*(np.sin(params[1]/2)**2)\n",
    "    return p0\n",
    "\n",
    "# Probability of measuring state |1>\n",
    "def prob1(params):\n",
    "    p1 = (np.sin(params[0]/2)**2)*(np.cos(params[1]/2)**2) + (np.cos(params[0]/2)**2)*(np.sin(params[1]/2)**2)\n",
    "    return p1"
   ]
  },
  {
   "cell_type": "code",
   "execution_count": 114,
   "metadata": {},
   "outputs": [],
   "source": [
    "# Function that returns the cost function for given qubit (0 or 1)\n",
    "def cost(params, qubit):\n",
    "    if qubit==0:\n",
    "        j0 = 0.25 * ((prob0(params) - 0.5)**2 + (prob1(params) - 0.5)**2)\n",
    "        return j0\n",
    "    \n",
    "    elif qubit==1:\n",
    "        j1 = 0.25 * (prob0(params)**2 + (prob1(params) - 1)**2)\n",
    "        return j1\n",
    "    \n",
    "    else:\n",
    "        print(\"Qubit index out of range!!!\")\n",
    "        exit()"
   ]
  },
  {
   "cell_type": "code",
   "execution_count": 94,
   "metadata": {},
   "outputs": [
    {
     "name": "stdout",
     "output_type": "stream",
     "text": [
      "0.047128343457623054\n"
     ]
    }
   ],
   "source": [
    "cs = cost(q1_thetas, 1)\n",
    "print(cs)"
   ]
  },
  {
   "cell_type": "code",
   "execution_count": 115,
   "metadata": {},
   "outputs": [],
   "source": [
    "## Computes gradient for qubit 0\n",
    "# q0_thetas = [theta0, theta1]; i = index (0 for theta0, 1 for theta1) denotes the theta w.r.t the partial derivative\n",
    "def gradient_q0(q0_thetas, i):\n",
    "    p0 = prob0(q0_thetas)\n",
    "    p1 = prob1(q0_thetas)\n",
    "    \n",
    "    if i==0:\n",
    "        grad = 0.25 * np.sin(q0_thetas[0]) * np.cos(q0_thetas[1]) * (p1 - p0)\n",
    "        return grad\n",
    "    \n",
    "    elif i==1:\n",
    "        grad = 0.25 * np.sin(q0_thetas[1]) * np.cos(q0_thetas[0]) * (p1 - p0)\n",
    "        return grad\n",
    "    \n",
    "    else:\n",
    "        print(\"Incorrect index!!!\")\n",
    "        exit()\n",
    "    \n",
    "## Computes gradient for qubit 1\n",
    "# q1_thetas = [theta0, theta1]; i = index (0 for theta0, 1 for theta1) denotes the theta w.r.t the partial derivative\n",
    "def gradient_q1(q1_thetas, i):\n",
    "    p0 = prob0(q1_thetas)\n",
    "    p1 = prob1(q1_thetas)\n",
    "    \n",
    "    if i==0:\n",
    "        grad = 0.25 * np.sin(q1_thetas[0]) * np.cos(q1_thetas[1]) * (p1 - p0 - 1)\n",
    "        return grad\n",
    "    \n",
    "    elif i==1:\n",
    "        grad = 0.25 * np.sin(q1_thetas[1]) * np.cos(q1_thetas[0]) * (p1 - p0 - 1)\n",
    "        return grad\n",
    "    \n",
    "    else:\n",
    "        print(\"Incorrect index!!!\")\n",
    "        exit()"
   ]
  },
  {
   "cell_type": "code",
   "execution_count": 116,
   "metadata": {},
   "outputs": [],
   "source": [
    "## Gradient descent optimizer function\n",
    "# params = [theta0, theta1], qubit is the index of the qubit parameters being optimized\n",
    "def optimizer(params, learning_rate, qubit):\n",
    "    if qubit==0:\n",
    "        temp0 = params[0] - (learning_rate * gradient_q0(params, 0))\n",
    "        temp1 = params[1] - (learning_rate * gradient_q0(params, 1))\n",
    "        params[0] = temp0\n",
    "        params[1] = temp1\n",
    "       \n",
    "    elif qubit==1:\n",
    "        temp0 = params[0] - (learning_rate * gradient_q1(params, 0))\n",
    "        temp1 = params[1] - (learning_rate * gradient_q1(params, 1))\n",
    "        params[0] = temp0\n",
    "        params[1] = temp1\n",
    "        \n",
    "    else:\n",
    "        print(\"Out of range of qubits!!!\")\n",
    "        exit()"
   ]
  },
  {
   "cell_type": "code",
   "execution_count": 106,
   "metadata": {},
   "outputs": [],
   "source": [
    "## Initializing important variables\n",
    "# Number of iterations\n",
    "iterations = 100\n",
    "\n",
    "# Learning rate\n",
    "learning_rate = 0.4"
   ]
  },
  {
   "cell_type": "code",
   "execution_count": 117,
   "metadata": {},
   "outputs": [
    {
     "name": "stdout",
     "output_type": "stream",
     "text": [
      "Cost after step     5:  0.0045116\n",
      "Cost after step    10:  0.0032094\n",
      "Cost after step    15:  0.0023464\n",
      "Cost after step    20:  0.0017530\n",
      "Cost after step    25:  0.0013321\n",
      "Cost after step    30:  0.0010261\n",
      "Cost after step    35:  0.0007989\n",
      "Cost after step    40:  0.0006273\n",
      "Cost after step    45:  0.0004960\n",
      "Cost after step    50:  0.0003943\n",
      "Cost after step    55:  0.0003149\n",
      "Cost after step    60:  0.0002523\n",
      "Cost after step    65:  0.0002028\n",
      "Cost after step    70:  0.0001633\n",
      "Cost after step    75:  0.0001318\n",
      "Cost after step    80:  0.0001065\n",
      "Cost after step    85:  0.0000862\n",
      "Cost after step    90:  0.0000698\n",
      "Cost after step    95:  0.0000566\n",
      "Cost after step   100:  0.0000459\n",
      "Optimized parameters [5.183127311749183, 4.754659598183185]\n",
      "Cost after step     5:  0.0368318\n",
      "Cost after step    10:  0.0217610\n",
      "Cost after step    15:  0.0133788\n",
      "Cost after step    20:  0.0087001\n",
      "Cost after step    25:  0.0059703\n",
      "Cost after step    30:  0.0042907\n",
      "Cost after step    35:  0.0032039\n",
      "Cost after step    40:  0.0024691\n",
      "Cost after step    45:  0.0019531\n",
      "Cost after step    50:  0.0015790\n",
      "Cost after step    55:  0.0013002\n",
      "Cost after step    60:  0.0010874\n",
      "Cost after step    65:  0.0009218\n",
      "Cost after step    70:  0.0007906\n",
      "Cost after step    75:  0.0006850\n",
      "Cost after step    80:  0.0005989\n",
      "Cost after step    85:  0.0005277\n",
      "Cost after step    90:  0.0004684\n",
      "Cost after step    95:  0.0004183\n",
      "Cost after step   100:  0.0003758\n",
      "Optimized parameters [6.025249781538506, 2.929097970705026]\n"
     ]
    }
   ],
   "source": [
    "# Optimize parameters for both qubits\n",
    "params0 = q0_thetas\n",
    "params1 = q1_thetas\n",
    "\n",
    "# Qubit 0 optimization\n",
    "for i in range(iterations):\n",
    "    optimizer(params0, learning_rate, 0)\n",
    "    \n",
    "    if (i + 1) % 5 == 0:\n",
    "        print(\"Cost after step {:5d}: {: .7f}\".format(i+1, cost(params0, 0)))\n",
    "    \n",
    "print(\"Optimized parameters\", params0)\n",
    "    \n",
    "# Qubit 1 optimization\n",
    "for j in range(iterations):\n",
    "    optimizer(params1, learning_rate, 1)\n",
    "    \n",
    "    if (j + 1) % 5 == 0:\n",
    "        print(\"Cost after step {:5d}: {: .7f}\".format(j+1, cost(params1, 1)))\n",
    "    \n",
    "print(\"Optimized parameters\", params1)"
   ]
  },
  {
   "cell_type": "code",
   "execution_count": 118,
   "metadata": {},
   "outputs": [
    {
     "data": {
      "image/png": "[encoded data removed]",
      "text/plain": [
       "<Figure size 504x360 with 1 Axes>"
      ]
     },
     "execution_count": 118,
     "metadata": {},
     "output_type": "execute_result"
    }
   ],
   "source": [
    "qc = circuit(params0, params1)\n",
    "qc.cx(0,1)\n",
    "qc.measure_all()\n",
    "counts = execute(qc, q_simulator).result().get_counts()\n",
    "plot_histogram(counts)"
   ]
  },
  {
   "cell_type": "code",
   "execution_count": null,
   "metadata": {},
   "outputs": [],
   "source": []
  }
 ],
 "metadata": {
  "kernelspec": {
   "display_name": "Python 3",
   "language": "python",
   "name": "python3"
  },
  "language_info": {
   "codemirror_mode": {
    "name": "ipython",
    "version": 3
   },
   "file_extension": ".py",
   "mimetype": "text/x-python",
   "name": "python",
   "nbconvert_exporter": "python",
   "pygments_lexer": "ipython3",
   "version": "3.8.5"
  }
 },
 "nbformat": 4,
 "nbformat_minor": 4
}
