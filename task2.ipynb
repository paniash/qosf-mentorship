{
 "cells": [
  {
   "cell_type": "markdown",
   "metadata": {},
   "source": [
    "# QOSF Mentorship Programme\n",
    "## Task 2\n",
    "\n",
    "Implement a circuit that returns $| 01 \\rangle$ and $|10 \\rangle$ with equal probability.\n",
    "\n",
    "Requirements :\n",
    "- The circuit should consist only of CNOTs, RXs and RYs. \n",
    "- Start from all parameters in parametric gates being equal to 0 or randomly chosen. \n",
    "- You should find the right set of parameters using gradient descent (you can use more advanced optimization methods if you like). \n",
    "- Simulations must be done with sampling - i.e. a limited number of measurements per iteration and noise. \n",
    "\n",
    "Compare the results for different numbers of measurements: 1, 10, 100, 1000. \n",
    "\n",
    "Bonus question:\n",
    "How to make sure you produce state $|01 \\rangle + |10 \\rangle$ and not $|01 \\rangle - |10 \\rangle$?"
   ]
  },
  {
   "cell_type": "markdown",
   "metadata": {},
   "source": [
    "I have decided to use Qiskit in my code as I'm quite comfortable with it."
   ]
  },
  {
   "cell_type": "code",
   "execution_count": 1,
   "metadata": {},
   "outputs": [],
   "source": [
    "# Importing necessary libraries \n",
    "# and predefining backends\n",
    "from qiskit import execute, Aer, QuantumCircuit \n",
    "from qiskit.visualization import plot_histogram, plot_state_qsphere\n",
    "from qiskit.quantum_info import Statevector\n",
    "import numpy as np\n",
    "import matplotlib.pyplot as plt\n",
    "import random\n",
    "%matplotlib inline\n",
    "\n",
    "q_simulator = Aer.get_backend('qasm_simulator')\n",
    "st_simulator = Aer.get_backend('statevector_simulator')"
   ]
  },
  {
   "cell_type": "markdown",
   "metadata": {},
   "source": [
    "## Trial circuit\n",
    "Let us implement a quantum circuit with known parameters that yields an equal probability of $| 01 \\rangle$ and $| 10 \\rangle$ to get an idea of what gates the circuit must consist of."
   ]
  },
  {
   "cell_type": "code",
   "execution_count": 2,
   "metadata": {},
   "outputs": [],
   "source": [
    "# Define a quantum circuit consisting of 2 qubits\n",
    "qc = QuantumCircuit(2)\n",
    "qcr = QuantumCircuit(2)\n",
    "\n",
    "# Hadamard gate on qubit 0\n",
    "qc.ry(np.pi/2, 0)\n",
    "qc.rx(np.pi, 0)\n",
    "qcr.h(0)\n",
    "\n",
    "# X gate on qubit 1\n",
    "qc.rx(np.pi, 1)\n",
    "qcr.x(1)\n",
    "\n",
    "# CNOT gate with qubit 0, qubit 1 as the control and target qubits respectively\n",
    "qc.cx(0,1)\n",
    "qcr.cx(0,1)\n",
    "qc.measure_all()\n",
    "qcr.measure_all()"
   ]
  },
  {
   "cell_type": "code",
   "execution_count": 3,
   "metadata": {},
   "outputs": [
    {
     "name": "stdout",
     "output_type": "stream",
     "text": [
      "Reference circuit: \n"
     ]
    },
    {
     "data": {
      "image/png": "[encoded data removed]",
      "text/plain": [
       "<Figure size 472.059x204.68 with 1 Axes>"
      ]
     },
     "execution_count": 3,
     "metadata": {},
     "output_type": "execute_result"
    }
   ],
   "source": [
    "print(\"Reference circuit: \")\n",
    "qcr.draw()"
   ]
  },
  {
   "cell_type": "code",
   "execution_count": 4,
   "metadata": {},
   "outputs": [
    {
     "name": "stdout",
     "output_type": "stream",
     "text": [
      "Parameterized circuit: \n"
     ]
    },
    {
     "data": {
      "image/png": "[encoded data removed]",
      "text/plain": [
       "<Figure size 532.259x204.68 with 1 Axes>"
      ]
     },
     "execution_count": 4,
     "metadata": {},
     "output_type": "execute_result"
    }
   ],
   "source": [
    "print(\"Parameterized circuit: \")\n",
    "qc.draw()"
   ]
  },
  {
   "cell_type": "code",
   "execution_count": 5,
   "metadata": {},
   "outputs": [
    {
     "data": {
      "image/png": "[encoded data removed]",
      "text/plain": [
       "<Figure size 504x360 with 1 Axes>"
      ]
     },
     "execution_count": 5,
     "metadata": {},
     "output_type": "execute_result"
    }
   ],
   "source": [
    "counts = execute(qc, q_simulator, shots=1000).result().get_counts()\n",
    "plot_histogram(counts)"
   ]
  },
  {
   "cell_type": "markdown",
   "metadata": {},
   "source": [
    "As can be seen from the histogram plot, we get the desired output. Our goal now is to parameterize the circuit by introducing unknown parameters to the RX and RY gates."
   ]
  },
  {
   "cell_type": "markdown",
   "metadata": {},
   "source": [
    "When trying to find the optimal solution to the parameterized problem, the CNOT gate does not play a role since it does not depend on parameters. Hence, the goal is to find the optimum solution to the state of the qubits just before applying the CNOT gate."
   ]
  },
  {
   "cell_type": "markdown",
   "metadata": {},
   "source": [
    "Let us see the effect of the gates used in the trial circuit to find the state of the system at the end of the circuit.\n",
    "\n",
    "All qubits are initialized to the state $| 0 \\rangle$ thus initializing the system at $| 00 \\rangle$. Applying a Hadamard gate to the 1st qubit yields, \n",
    "\n",
    "$$ |00 \\rangle \\longrightarrow |0 \\rangle \\otimes \\frac{1}{\\sqrt{2}} (|0 \\rangle + |1 \\rangle)$$"
   ]
  },
  {
   "cell_type": "markdown",
   "metadata": {},
   "source": [
    "It is a good point to note here that Qiskit orders its qubits in a different way compared to the textbook convention. In Qiskit, if $q_0$ and $q_1$ are the 1st and 2nd qubits respectively, then the composite system is written as\n",
    "\n",
    "$$ |q_1 q_0 \\rangle = |q_1 \\rangle \\otimes |q_0 \\rangle$$"
   ]
  },
  {
   "cell_type": "markdown",
   "metadata": {},
   "source": [
    "Now applying an X gate onto the second qubit,\n",
    "\n",
    "$$ |0 \\rangle \\otimes \\frac{1}{\\sqrt{2}}(|0 \\rangle + |1 \\rangle) \\longrightarrow |1 \\rangle \\otimes \\frac{1}{\\sqrt{2}} (|0 \\rangle + |1 \\rangle)$$"
   ]
  },
  {
   "cell_type": "markdown",
   "metadata": {},
   "source": [
    "Finally applying a CNOT gate (with the first qubit as the control and the second qubit as the target), we get\n",
    "\n",
    "$$ |1 \\rangle \\otimes \\frac{1}{\\sqrt{2}} (|0 \\rangle + |1 \\rangle) \\longrightarrow \\frac{1}{\\sqrt{2}} (|10 \\rangle + |01 \\rangle) = |\\psi \\rangle$$"
   ]
  },
  {
   "cell_type": "markdown",
   "metadata": {},
   "source": [
    "This final state $|\\psi \\rangle$ upon measurement, will yield $|10 \\rangle$ with a probability of 0.5 and $|01 \\rangle$ with a probability of 0.5."
   ]
  },
  {
   "cell_type": "markdown",
   "metadata": {},
   "source": [
    "However, since we are not concerned with unparameterized operations, we only have to worry about the state of the system just before the application of the CNOT gate. That state would be,\n",
    "\n",
    "$$ | \\phi \\rangle = |1 \\rangle \\otimes \\frac{1}{\\sqrt{2}}(|0 \\rangle + |1 \\rangle)$$"
   ]
  },
  {
   "cell_type": "markdown",
   "metadata": {},
   "source": [
    "This state is clearly unentangled, meaning that the corresponding qubits are independent and that we can treat the problem as 2 separate optimization problems."
   ]
  },
  {
   "cell_type": "code",
   "execution_count": 6,
   "metadata": {},
   "outputs": [],
   "source": [
    "## Initializing parameters with random values\n",
    "\n",
    "# q0_thetas holds parameters for the first qubit and q1_thetas holds parameters for the second qubit\n",
    "q0_thetas = [ random.uniform(0.001, 2 * np.pi) for i in range(2)]\n",
    "q1_thetas = [ random.uniform(0.001, 2 * np.pi) for i in range(2)]"
   ]
  },
  {
   "cell_type": "markdown",
   "metadata": {},
   "source": [
    "Let us define a function that returns a parameterized quantum circuit"
   ]
  },
  {
   "cell_type": "code",
   "execution_count": 7,
   "metadata": {},
   "outputs": [],
   "source": [
    "def circuit(params0, params1):\n",
    "    circuit = QuantumCircuit(2)\n",
    "    circuit.ry(params0[0], 0)\n",
    "    circuit.rx(params0[1], 0)\n",
    "    circuit.ry(params1[0], 1)\n",
    "    circuit.rx(params1[1], 1)\n",
    "    \n",
    "    return circuit"
   ]
  },
  {
   "cell_type": "code",
   "execution_count": 8,
   "metadata": {},
   "outputs": [
    {
     "data": {
      "image/png": "[encoded data removed]",
      "text/plain": [
       "<Figure size 472.059x204.68 with 1 Axes>"
      ]
     },
     "execution_count": 8,
     "metadata": {},
     "output_type": "execute_result"
    }
   ],
   "source": [
    "circ = circuit(q0_thetas, q1_thetas)\n",
    "circ.measure_all()\n",
    "circ.draw()"
   ]
  },
  {
   "cell_type": "code",
   "execution_count": 9,
   "metadata": {},
   "outputs": [
    {
     "data": {
      "image/png": "[encoded data removed]",
      "text/plain": [
       "<Figure size 504x360 with 1 Axes>"
      ]
     },
     "execution_count": 9,
     "metadata": {},
     "output_type": "execute_result"
    }
   ],
   "source": [
    "cnt = execute(circ, q_simulator).result().get_counts()\n",
    "plot_histogram(cnt)"
   ]
  },
  {
   "cell_type": "markdown",
   "metadata": {},
   "source": [
    "Our goal here is to optimize the parameters such that measuring $q_1$ yields that state $|1 \\rangle$ with probability 1 and measuring $q_0$ yields the states $|0 \\rangle$ and $|1 \\rangle$ with probabilities 0.5 each."
   ]
  },
  {
   "cell_type": "markdown",
   "metadata": {},
   "source": [
    "## Cost function\n",
    "\n",
    "Since the 2 qubits can be treated independently, let us define 2 cost functions to optimize their respective parameters.\n",
    "\n",
    "Let $J_0$ and $J_1$ be the cost functions of $q_0$ and $q_1$ respectively. Since we're dealing with probability, let us implement it into these cost functions. "
   ]
  },
  {
   "cell_type": "markdown",
   "metadata": {},
   "source": [
    "### Qubit 0\n",
    "$$ J_0 = \\frac{1}{4} ((P_0 - 0.5)^2 + (P_1 - 0.5)^2)$$\n",
    "\n",
    "### Qubit 1\n",
    "$$ J_1 = \\frac{1}{4} (P_0^2 + (P_1 - 1)^2)$$\n",
    "\n",
    "where $P_0$ and $P_1$ are the probabilities of measuring $|0 \\rangle$ and $|1 \\rangle$ respectively."
   ]
  },
  {
   "cell_type": "markdown",
   "metadata": {},
   "source": [
    "We wish to minimize the above 2 cost functions using batch gradient descent as our optimization method."
   ]
  },
  {
   "cell_type": "markdown",
   "metadata": {},
   "source": [
    "Now let us analytically deduce the operations the gates perform on our initial qubit state $| 00 \\rangle$."
   ]
  },
  {
   "cell_type": "markdown",
   "metadata": {},
   "source": [
    "The $R_X$ gate corresponds to,\n",
    "\n",
    "$$\n",
    "R_X (\\theta) = \n",
    "\\begin{pmatrix}\n",
    "\\cos \\frac{\\theta}{2} & -i \\sin \\frac{\\theta}{2} \\\\\n",
    "-i \\sin \\frac{\\theta}{2} & \\cos \\frac{\\theta}{2} \\\\\n",
    "\\end{pmatrix}\n",
    "$$"
   ]
  },
  {
   "cell_type": "markdown",
   "metadata": {},
   "source": [
    "The $R_Y$ gate corresponds to,\n",
    "\n",
    "$$\n",
    "R_Y (\\theta) = \n",
    "\\begin{pmatrix}\n",
    "\\cos \\frac{\\theta}{2} & - \\sin \\frac{\\theta}{2} \\\\ \n",
    "\\sin \\frac{\\theta}{2} & \\cos \\frac{\\theta}{2} \\\\  \n",
    "\\end{pmatrix}\n",
    "$$\n"
   ]
  },
  {
   "cell_type": "markdown",
   "metadata": {},
   "source": [
    "The operation of these matrices on initial state $|0 \\rangle$ yields,\n",
    "\n",
    "$$\n",
    "|0 \\rangle \\xrightarrow[]{R_Y (\\theta_0)}\n",
    "\\begin{pmatrix}\n",
    "\\cos \\frac{\\theta_0}{2} \\\\ \n",
    "\\sin \\frac{\\theta_0}{2} \\\\  \n",
    "\\end{pmatrix}\n",
    "\\xrightarrow[]{R_X (\\theta_1)}\n",
    "\\begin{pmatrix}\n",
    "\\cos \\frac{\\theta_0}{2} \\cos \\frac{\\theta_1}{2} - i \\sin \\frac{\\theta_0}{2} \\sin \\frac{\\theta_1} {2} \\\\\n",
    "-i \\sin \\frac{\\theta_1}{2} \\cos \\frac{\\theta_0}{2} + \\cos \\frac{\\theta_1}{2} \\sin \\frac{\\theta_0}{2} \\\\\n",
    "\\end{pmatrix}\n",
    "= | \\psi \\rangle\n",
    "$$"
   ]
  },
  {
   "cell_type": "markdown",
   "metadata": {},
   "source": [
    "This is the state obtained on both the qubits in the unparameterized circuit. From this state $| \\psi \\rangle$, the probabilities of obtaining $|0 \\rangle$ and $|1 \\rangle$ can be obtained by computing the corresponding modulus of inner products,\n",
    "\n",
    "$$\n",
    "| \\langle 0 | \\psi \\rangle |^2 = \\cos^2 \\frac{\\theta_0}{2} \\cos^2 \\frac{\\theta_1}{2} + \\sin^2 \\frac{\\theta_0}{2} \\sin^2 \\frac{\\theta_1}{2} = P_0\n",
    "$$\n",
    "\n",
    "$$\n",
    "| \\langle 1 | \\psi \\rangle |^2 = \\cos^2 \\frac{\\theta_1}{2} \\sin^2 \\frac{\\theta_0}{2} + \\sin^2 \\frac{\\theta_1}{2} \\cos^2 \\frac{\\theta_0}{2} = P_1\n",
    "$$"
   ]
  },
  {
   "cell_type": "markdown",
   "metadata": {},
   "source": [
    "## Batch Gradient Descent\n",
    "\n",
    "Let us now get into the meat of the optimization problem. Since we are implementing batch gradient descent, the parameters have to be updated as\n",
    "\n",
    "$$\n",
    "\\theta_{i+1} := \\theta_i - \\alpha \\frac{\\partial }{\\partial \\theta_i} J (\\theta_0, \\theta_1)\n",
    "$$\n",
    "\n",
    "where $\\theta_{i+1}$ is the updated parameter and $\\alpha$ is the learning rate.\n",
    "\n"
   ]
  },
  {
   "cell_type": "markdown",
   "metadata": {},
   "source": [
    "In general, batch gradient descent is not useful when minimizing functions that consist of various local minima, since the optimizer will get stuck once it ends on a local minima. However, lucky for us, the cost function that we are minimizing has a single minima (global minima) and is the point that we intend the optimizer to reach. \n",
    "\n",
    "Let us verify this through a plot of cost function as a function of $\\theta$."
   ]
  },
  {
   "cell_type": "code",
   "execution_count": 10,
   "metadata": {},
   "outputs": [
    {
     "data": {
      "text/plain": [
       "[<mpl_toolkits.mplot3d.art3d.Line3D at 0x7f72142cdf10>]"
      ]
     },
     "execution_count": 10,
     "metadata": {},
     "output_type": "execute_result"
    },
    {
     "data": {
      "image/png": "[encoded data removed]",
      "text/plain": [
       "<Figure size 432x288 with 1 Axes>"
      ]
     },
     "metadata": {
      "needs_background": "light"
     },
     "output_type": "display_data"
    }
   ],
   "source": [
    "from mpl_toolkits import mplot3d\n",
    "\n",
    "def z_function(x, y):\n",
    "    p0 = (np.cos(x/2)**2) * (np.cos(y/2)**2) + (np.sin(x/2)**2)*(np.sin(y/2)**2)\n",
    "    p1 = (np.cos(y/2)**2) * (np.sin(x/2)**2) + (np.sin(y/2)**2)*(np.cos(x/2)**2)\n",
    "\n",
    "    z1 = 0.25 * ((p0)**2 + (p1 - 1)**2)\n",
    "    z2 = 0.25 * ((p0 - 0.5)**2 + (p1 - 0.5)**2)\n",
    "    return z1, z2\n",
    "\n",
    "x = np.linspace(0, 2*np.pi, 1000)\n",
    "y = np.linspace(0, 2*np.pi, 1000)\n",
    "z1, z2 = z_function(x, y)\n",
    "\n",
    "fig = plt.figure()\n",
    "ax = plt.axes(projection='3d')\n",
    "ax.plot3D(x, y, z1)\n",
    "ax.plot3D(x, y, z2)"
   ]
  },
  {
   "cell_type": "markdown",
   "metadata": {},
   "source": [
    "Computing the respective partial derivatives of both cost funtions $J_0$ and $J_1$,\n",
    "\n",
    "$$\n",
    "\\frac{\\partial J_0}{\\partial \\theta_0} = \\frac{1}{2}\\left((P_0 - 0.5) \\frac{\\partial P_0}{\\partial \\theta_0} + (P_1 - 0.5) \\frac{\\partial P_1}{\\partial \\theta_0}\\right)\n",
    "$$\n",
    "\n",
    "$$\n",
    "\\frac{\\partial J_0}{\\partial \\theta_1} = \\frac{1}{2}\\left((P_0 - 0.5) \\frac{\\partial P_0}{\\partial \\theta_1} + (P_1 - 0.5) \\frac{\\partial P_1}{\\partial \\theta_1}\\right)\n",
    "$$\n",
    "\n",
    "$$\n",
    "\\frac{\\partial J_1}{\\partial \\theta_0} = \\frac{1}{2}\\left(P_0 \\frac{\\partial P_0}{\\partial \\theta_0} + (P_1 - 1) \\frac{\\partial P_1}{\\partial \\theta_0}\\right)\n",
    "$$\n",
    "\n",
    "$$\n",
    "\\frac{\\partial J_1}{\\partial \\theta_1} = \\frac{1}{2}\\left(P_0 \\frac{\\partial P_0}{\\partial \\theta_1} + (P_1 - 1) \\frac{\\partial P_1}{\\partial \\theta_1}\\right)\n",
    "$$"
   ]
  },
  {
   "cell_type": "markdown",
   "metadata": {},
   "source": [
    "Now, computing the partial derivatives of $P_0$ and $P_1$ with respect to the parameters,\n",
    "\n",
    "$$\n",
    "\\frac{\\partial P_0}{\\partial \\theta_0} = - \\cos \\frac{\\theta_0}{2} \\sin \\frac{\\theta_0}{2} \\cos^2 \\frac{\\theta_1}{2} + \\sin \\frac{\\theta_0}{2} \\cos \\frac{\\theta_0}{2} \\sin^2 \\frac{\\theta_1}{2} = -\\frac{1}{2} \\sin \\theta_0 \\cos \\theta_1\n",
    "$$\n",
    "\n",
    "$$\n",
    "\\frac{\\partial P_0}{\\partial \\theta_1} = - \\cos \\frac{\\theta_1}{2} \\sin \\frac{\\theta_1}{2} \\cos^2 \\frac{\\theta_0}{2} + \\sin \\frac{\\theta_1}{2} \\cos \\frac{\\theta_1}{2} \\sin^2 \\frac{\\theta_0}{2} = -\\frac{1}{2} \\sin \\theta_1 \\cos \\theta_0\n",
    "$$\n",
    "\n",
    "$$\n",
    "\\frac{\\partial P_1}{\\partial \\theta_0} = \\sin \\frac{\\theta_0}{2} \\cos \\frac{\\theta_0}{2} \\cos^2 \\frac{\\theta_1}{2} - \\sin^2 \\frac{\\theta_1}{2} \\cos \\frac{\\theta_0}{2} \\sin \\frac{\\theta_0}{2} = \\frac{1}{2} \\sin \\theta_0 \\cos \\theta_1\n",
    "$$\n",
    "\n",
    "$$\n",
    "\\frac{\\partial P_1}{\\partial \\theta_1} = -\\cos \\frac{\\theta_1}{2} \\sin \\frac{\\theta_1}{2} \\sin^2 \\frac{\\theta_0}{2} + \\sin \\frac{\\theta_1}{2} \\cos \\frac{\\theta_1}{2} \\cos^2 \\frac{\\theta_0}{2} = \\frac{1}{2} \\sin \\theta_1 \\cos \\theta_0\n",
    "$$"
   ]
  },
  {
   "cell_type": "markdown",
   "metadata": {},
   "source": [
    "## Partial derivatives of $J_i$ in terms of parameters $\\theta_0$, $\\theta_1$\n",
    "Substituting the above relations into the equations for the partial derivatives of $J_i$, we get\n",
    "\n",
    "$$\n",
    "\\frac{\\partial J_0}{\\partial \\theta_0} = \\frac{1}{4} \\sin \\theta_0 \\cos \\theta_1 (P_1 - P_0)\n",
    "$$\n",
    "\n",
    "$$\n",
    "\\frac{\\partial J_0}{\\partial \\theta_1} = \\frac{1}{4} \\sin \\theta_1 \\cos \\theta_0 (P_1 - P_0)\n",
    "$$\n",
    "\n",
    "$$\n",
    "\\frac{\\partial J_1}{\\partial \\theta_0} = \\frac{1}{4} \\sin \\theta_0 \\cos \\theta_1 (P_1 - P_0 -1)\n",
    "$$\n",
    "\n",
    "$$\n",
    "\\frac{\\partial J_1}{\\partial \\theta_1} = \\frac{1}{4} \\sin \\theta_1 \\cos \\theta_0 (P_1 - P_0 -1)\n",
    "$$"
   ]
  },
  {
   "cell_type": "markdown",
   "metadata": {},
   "source": [
    "Let us implement the above formulation in python."
   ]
  },
  {
   "cell_type": "code",
   "execution_count": 11,
   "metadata": {},
   "outputs": [],
   "source": [
    "## params = [theta0, theta1]\n",
    "\n",
    "# Probability of measuring state |0>\n",
    "def prob0(params):\n",
    "    p0 = (np.cos(params[0]/2)**2)*(np.cos(params[1]/2)**2) + (np.sin(params[0]/2)**2)*(np.sin(params[1]/2)**2)\n",
    "    return p0\n",
    "\n",
    "# Probability of measuring state |1>\n",
    "def prob1(params):\n",
    "    p1 = (np.sin(params[0]/2)**2)*(np.cos(params[1]/2)**2) + (np.cos(params[0]/2)**2)*(np.sin(params[1]/2)**2)\n",
    "    return p1"
   ]
  },
  {
   "cell_type": "code",
   "execution_count": 12,
   "metadata": {},
   "outputs": [],
   "source": [
    "# Function that returns the cost function for given qubit (0 or 1)\n",
    "def cost(params, qubit):\n",
    "    if qubit==0:\n",
    "        j0 = 0.25 * ((prob0(params) - 0.5)**2 + (prob1(params) - 0.5)**2)\n",
    "        return j0\n",
    "    \n",
    "    elif qubit==1:\n",
    "        j1 = 0.25 * (prob0(params)**2 + (prob1(params) - 1)**2)\n",
    "        return j1\n",
    "    \n",
    "    else:\n",
    "        print(\"Qubit index out of range!!!\")\n",
    "        exit()"
   ]
  },
  {
   "cell_type": "code",
   "execution_count": 13,
   "metadata": {},
   "outputs": [],
   "source": [
    "## Computes gradient for qubit 0\n",
    "# q0_thetas = [theta0, theta1]; i = index (0 for theta0, 1 for theta1) denotes the theta w.r.t the partial derivative\n",
    "def gradient_q0(q0_thetas, i):\n",
    "    p0 = prob0(q0_thetas)\n",
    "    p1 = prob1(q0_thetas)\n",
    "    \n",
    "    if i==0:\n",
    "        grad = 0.25 * np.sin(q0_thetas[0]) * np.cos(q0_thetas[1]) * (p1 - p0)\n",
    "        return grad\n",
    "    \n",
    "    elif i==1:\n",
    "        grad = 0.25 * np.sin(q0_thetas[1]) * np.cos(q0_thetas[0]) * (p1 - p0)\n",
    "        return grad\n",
    "    \n",
    "    else:\n",
    "        print(\"Incorrect index!!!\")\n",
    "        exit()\n",
    "    \n",
    "## Computes gradient for qubit 1\n",
    "# q1_thetas = [theta0, theta1]; i = index (0 for theta0, 1 for theta1) denotes the theta w.r.t the partial derivative\n",
    "def gradient_q1(q1_thetas, i):\n",
    "    p0 = prob0(q1_thetas)\n",
    "    p1 = prob1(q1_thetas)\n",
    "    \n",
    "    if i==0:\n",
    "        grad = 0.25 * np.sin(q1_thetas[0]) * np.cos(q1_thetas[1]) * (p1 - p0 - 1)\n",
    "        return grad\n",
    "    \n",
    "    elif i==1:\n",
    "        grad = 0.25 * np.sin(q1_thetas[1]) * np.cos(q1_thetas[0]) * (p1 - p0 - 1)\n",
    "        return grad\n",
    "    \n",
    "    else:\n",
    "        print(\"Incorrect index!!!\")\n",
    "        exit()"
   ]
  },
  {
   "cell_type": "code",
   "execution_count": 14,
   "metadata": {},
   "outputs": [],
   "source": [
    "## Gradient descent optimizer function\n",
    "# params = [theta0, theta1], qubit is the index of the qubit parameters being optimized\n",
    "def optimizer(params, learning_rate, qubit):\n",
    "    if qubit==0:\n",
    "        temp0 = params[0] - (learning_rate * gradient_q0(params, 0))\n",
    "        temp1 = params[1] - (learning_rate * gradient_q0(params, 1))\n",
    "        params[0] = temp0\n",
    "        params[1] = temp1\n",
    "       \n",
    "    elif qubit==1:\n",
    "        temp0 = params[0] - (learning_rate * gradient_q1(params, 0))\n",
    "        temp1 = params[1] - (learning_rate * gradient_q1(params, 1))\n",
    "        params[0] = temp0\n",
    "        params[1] = temp1\n",
    "        \n",
    "    else:\n",
    "        print(\"Out of range of qubits!!!\")\n",
    "        exit()"
   ]
  },
  {
   "cell_type": "code",
   "execution_count": 15,
   "metadata": {},
   "outputs": [],
   "source": [
    "## Initializing important variables\n",
    "# Number of iterations\n",
    "iterations = 1000\n",
    "\n",
    "# Learning rate\n",
    "learning_rate = 0.04"
   ]
  },
  {
   "cell_type": "code",
   "execution_count": 16,
   "metadata": {},
   "outputs": [],
   "source": [
    "# Make copies of the initial parameter so as to compare the values of the parameters before and after optimization\n",
    "params0 = q0_thetas.copy()\n",
    "params1 = q1_thetas.copy()"
   ]
  },
  {
   "cell_type": "code",
   "execution_count": 17,
   "metadata": {},
   "outputs": [
    {
     "name": "stdout",
     "output_type": "stream",
     "text": [
      "Cost after step     5:  0.0018598\n",
      "Cost after step    10:  0.0018025\n",
      "Cost after step    15:  0.0017473\n",
      "Cost after step    20:  0.0016941\n",
      "Cost after step    25:  0.0016427\n",
      "Cost after step    30:  0.0015931\n",
      "Cost after step    35:  0.0015452\n",
      "Cost after step    40:  0.0014989\n",
      "Cost after step    45:  0.0014542\n",
      "Cost after step    50:  0.0014110\n",
      "Cost after step    55:  0.0013693\n",
      "Cost after step    60:  0.0013290\n",
      "Cost after step    65:  0.0012900\n",
      "Cost after step    70:  0.0012522\n",
      "Cost after step    75:  0.0012158\n",
      "Cost after step    80:  0.0011805\n",
      "Cost after step    85:  0.0011463\n",
      "Cost after step    90:  0.0011133\n",
      "Cost after step    95:  0.0010813\n",
      "Cost after step   100:  0.0010503\n",
      "Cost after step   105:  0.0010204\n",
      "Cost after step   110:  0.0009913\n",
      "Cost after step   115:  0.0009632\n",
      "Cost after step   120:  0.0009360\n",
      "Cost after step   125:  0.0009096\n",
      "Cost after step   130:  0.0008840\n",
      "Cost after step   135:  0.0008592\n",
      "Cost after step   140:  0.0008352\n",
      "Cost after step   145:  0.0008119\n",
      "Cost after step   150:  0.0007893\n",
      "Cost after step   155:  0.0007674\n",
      "Cost after step   160:  0.0007461\n",
      "Cost after step   165:  0.0007255\n",
      "Cost after step   170:  0.0007056\n",
      "Cost after step   175:  0.0006862\n",
      "Cost after step   180:  0.0006673\n",
      "Cost after step   185:  0.0006491\n",
      "Cost after step   190:  0.0006314\n",
      "Cost after step   195:  0.0006142\n",
      "Cost after step   200:  0.0005975\n",
      "Cost after step   205:  0.0005813\n",
      "Cost after step   210:  0.0005655\n",
      "Cost after step   215:  0.0005502\n",
      "Cost after step   220:  0.0005354\n",
      "Cost after step   225:  0.0005210\n",
      "Cost after step   230:  0.0005070\n",
      "Cost after step   235:  0.0004934\n",
      "Cost after step   240:  0.0004801\n",
      "Cost after step   245:  0.0004673\n",
      "Cost after step   250:  0.0004548\n",
      "Cost after step   255:  0.0004427\n",
      "Cost after step   260:  0.0004309\n",
      "Cost after step   265:  0.0004195\n",
      "Cost after step   270:  0.0004083\n",
      "Cost after step   275:  0.0003975\n",
      "Cost after step   280:  0.0003870\n",
      "Cost after step   285:  0.0003768\n",
      "Cost after step   290:  0.0003668\n",
      "Cost after step   295:  0.0003571\n",
      "Cost after step   300:  0.0003477\n",
      "Cost after step   305:  0.0003386\n",
      "Cost after step   310:  0.0003297\n",
      "Cost after step   315:  0.0003211\n",
      "Cost after step   320:  0.0003127\n",
      "Cost after step   325:  0.0003045\n",
      "Cost after step   330:  0.0002965\n",
      "Cost after step   335:  0.0002888\n",
      "Cost after step   340:  0.0002812\n",
      "Cost after step   345:  0.0002739\n",
      "Cost after step   350:  0.0002668\n",
      "Cost after step   355:  0.0002598\n",
      "Cost after step   360:  0.0002531\n",
      "Cost after step   365:  0.0002465\n",
      "Cost after step   370:  0.0002401\n",
      "Cost after step   375:  0.0002339\n",
      "Cost after step   380:  0.0002278\n",
      "Cost after step   385:  0.0002219\n",
      "Cost after step   390:  0.0002162\n",
      "Cost after step   395:  0.0002106\n",
      "Cost after step   400:  0.0002052\n",
      "Cost after step   405:  0.0001999\n",
      "Cost after step   410:  0.0001947\n",
      "Cost after step   415:  0.0001897\n",
      "Cost after step   420:  0.0001848\n",
      "Cost after step   425:  0.0001801\n",
      "Cost after step   430:  0.0001755\n",
      "Cost after step   435:  0.0001710\n",
      "Cost after step   440:  0.0001666\n",
      "Cost after step   445:  0.0001623\n",
      "Cost after step   450:  0.0001581\n",
      "Cost after step   455:  0.0001541\n",
      "Cost after step   460:  0.0001501\n",
      "Cost after step   465:  0.0001463\n",
      "Cost after step   470:  0.0001426\n",
      "Cost after step   475:  0.0001389\n",
      "Cost after step   480:  0.0001354\n",
      "Cost after step   485:  0.0001319\n",
      "Cost after step   490:  0.0001285\n",
      "Cost after step   495:  0.0001253\n",
      "Cost after step   500:  0.0001221\n",
      "Cost after step   505:  0.0001190\n",
      "Cost after step   510:  0.0001159\n",
      "Cost after step   515:  0.0001130\n",
      "Cost after step   520:  0.0001101\n",
      "Cost after step   525:  0.0001073\n",
      "Cost after step   530:  0.0001046\n",
      "Cost after step   535:  0.0001019\n",
      "Cost after step   540:  0.0000993\n",
      "Cost after step   545:  0.0000968\n",
      "Cost after step   550:  0.0000943\n",
      "Cost after step   555:  0.0000919\n",
      "Cost after step   560:  0.0000896\n",
      "Cost after step   565:  0.0000873\n",
      "Cost after step   570:  0.0000851\n",
      "Cost after step   575:  0.0000830\n",
      "Cost after step   580:  0.0000809\n",
      "Cost after step   585:  0.0000788\n",
      "Cost after step   590:  0.0000768\n",
      "Cost after step   595:  0.0000749\n",
      "Cost after step   600:  0.0000730\n",
      "Cost after step   605:  0.0000711\n",
      "Cost after step   610:  0.0000693\n",
      "Cost after step   615:  0.0000676\n",
      "Cost after step   620:  0.0000659\n",
      "Cost after step   625:  0.0000642\n",
      "Cost after step   630:  0.0000626\n",
      "Cost after step   635:  0.0000610\n",
      "Cost after step   640:  0.0000595\n",
      "Cost after step   645:  0.0000580\n",
      "Cost after step   650:  0.0000565\n",
      "Cost after step   655:  0.0000551\n",
      "Cost after step   660:  0.0000537\n",
      "Cost after step   665:  0.0000523\n",
      "Cost after step   670:  0.0000510\n",
      "Cost after step   675:  0.0000497\n",
      "Cost after step   680:  0.0000485\n",
      "Cost after step   685:  0.0000472\n",
      "Cost after step   690:  0.0000461\n",
      "Cost after step   695:  0.0000449\n",
      "Cost after step   700:  0.0000438\n",
      "Cost after step   705:  0.0000427\n",
      "Cost after step   710:  0.0000416\n",
      "Cost after step   715:  0.0000405\n",
      "Cost after step   720:  0.0000395\n",
      "Cost after step   725:  0.0000385\n",
      "Cost after step   730:  0.0000375\n",
      "Cost after step   735:  0.0000366\n",
      "Cost after step   740:  0.0000357\n",
      "Cost after step   745:  0.0000348\n",
      "Cost after step   750:  0.0000339\n",
      "Cost after step   755:  0.0000331\n",
      "Cost after step   760:  0.0000322\n",
      "Cost after step   765:  0.0000314\n",
      "Cost after step   770:  0.0000306\n",
      "Cost after step   775:  0.0000299\n",
      "Cost after step   780:  0.0000291\n",
      "Cost after step   785:  0.0000284\n",
      "Cost after step   790:  0.0000277\n",
      "Cost after step   795:  0.0000270\n",
      "Cost after step   800:  0.0000263\n",
      "Cost after step   805:  0.0000256\n",
      "Cost after step   810:  0.0000250\n",
      "Cost after step   815:  0.0000244\n",
      "Cost after step   820:  0.0000237\n",
      "Cost after step   825:  0.0000231\n",
      "Cost after step   830:  0.0000226\n",
      "Cost after step   835:  0.0000220\n",
      "Cost after step   840:  0.0000214\n",
      "Cost after step   845:  0.0000209\n",
      "Cost after step   850:  0.0000204\n",
      "Cost after step   855:  0.0000199\n",
      "Cost after step   860:  0.0000194\n",
      "Cost after step   865:  0.0000189\n",
      "Cost after step   870:  0.0000184\n",
      "Cost after step   875:  0.0000179\n",
      "Cost after step   880:  0.0000175\n",
      "Cost after step   885:  0.0000171\n",
      "Cost after step   890:  0.0000166\n",
      "Cost after step   895:  0.0000162\n",
      "Cost after step   900:  0.0000158\n",
      "Cost after step   905:  0.0000154\n",
      "Cost after step   910:  0.0000150\n",
      "Cost after step   915:  0.0000146\n",
      "Cost after step   920:  0.0000143\n",
      "Cost after step   925:  0.0000139\n",
      "Cost after step   930:  0.0000136\n",
      "Cost after step   935:  0.0000132\n",
      "Cost after step   940:  0.0000129\n",
      "Cost after step   945:  0.0000126\n",
      "Cost after step   950:  0.0000123\n",
      "Cost after step   955:  0.0000120\n",
      "Cost after step   960:  0.0000117\n",
      "Cost after step   965:  0.0000114\n",
      "Cost after step   970:  0.0000111\n",
      "Cost after step   975:  0.0000108\n",
      "Cost after step   980:  0.0000105\n",
      "Cost after step   985:  0.0000103\n",
      "Cost after step   990:  0.0000100\n",
      "Cost after step   995:  0.0000098\n",
      "Cost after step  1000:  0.0000095\n",
      "Optimized parameters [5.239915692915664, 4.6950609034406945]\n",
      "Cost after step     5:  0.1801888\n",
      "Cost after step    10:  0.1638030\n",
      "Cost after step    15:  0.1486729\n",
      "Cost after step    20:  0.1348104\n",
      "Cost after step    25:  0.1221904\n",
      "Cost after step    30:  0.1107606\n",
      "Cost after step    35:  0.1004500\n",
      "Cost after step    40:  0.0911769\n",
      "Cost after step    45:  0.0828545\n",
      "Cost after step    50:  0.0753955\n",
      "Cost after step    55:  0.0687150\n",
      "Cost after step    60:  0.0627329\n",
      "Cost after step    65:  0.0573747\n",
      "Cost after step    70:  0.0525721\n",
      "Cost after step    75:  0.0482636\n",
      "Cost after step    80:  0.0443938\n",
      "Cost after step    85:  0.0409132\n",
      "Cost after step    90:  0.0377780\n",
      "Cost after step    95:  0.0349493\n",
      "Cost after step   100:  0.0323929\n",
      "Cost after step   105:  0.0300784\n",
      "Cost after step   110:  0.0279792\n",
      "Cost after step   115:  0.0260718\n",
      "Cost after step   120:  0.0243356\n",
      "Cost after step   125:  0.0227524\n",
      "Cost after step   130:  0.0213061\n",
      "Cost after step   135:  0.0199824\n",
      "Cost after step   140:  0.0187690\n",
      "Cost after step   145:  0.0176547\n",
      "Cost after step   150:  0.0166297\n",
      "Cost after step   155:  0.0156853\n",
      "Cost after step   160:  0.0148137\n",
      "Cost after step   165:  0.0140082\n",
      "Cost after step   170:  0.0132625\n",
      "Cost after step   175:  0.0125712\n",
      "Cost after step   180:  0.0119294\n",
      "Cost after step   185:  0.0113326\n",
      "Cost after step   190:  0.0107771\n",
      "Cost after step   195:  0.0102593\n",
      "Cost after step   200:  0.0097759\n",
      "Cost after step   205:  0.0093241\n",
      "Cost after step   210:  0.0089014\n",
      "Cost after step   215:  0.0085054\n",
      "Cost after step   220:  0.0081339\n",
      "Cost after step   225:  0.0077852\n",
      "Cost after step   230:  0.0074574\n",
      "Cost after step   235:  0.0071489\n",
      "Cost after step   240:  0.0068584\n",
      "Cost after step   245:  0.0065845\n",
      "Cost after step   250:  0.0063259\n",
      "Cost after step   255:  0.0060817\n",
      "Cost after step   260:  0.0058508\n",
      "Cost after step   265:  0.0056323\n",
      "Cost after step   270:  0.0054253\n",
      "Cost after step   275:  0.0052291\n",
      "Cost after step   280:  0.0050430\n",
      "Cost after step   285:  0.0048663\n",
      "Cost after step   290:  0.0046983\n",
      "Cost after step   295:  0.0045387\n",
      "Cost after step   300:  0.0043867\n",
      "Cost after step   305:  0.0042420\n",
      "Cost after step   310:  0.0041041\n",
      "Cost after step   315:  0.0039726\n",
      "Cost after step   320:  0.0038471\n",
      "Cost after step   325:  0.0037273\n",
      "Cost after step   330:  0.0036128\n",
      "Cost after step   335:  0.0035033\n",
      "Cost after step   340:  0.0033986\n",
      "Cost after step   345:  0.0032984\n",
      "Cost after step   350:  0.0032025\n",
      "Cost after step   355:  0.0031105\n",
      "Cost after step   360:  0.0030223\n",
      "Cost after step   365:  0.0029377\n",
      "Cost after step   370:  0.0028566\n",
      "Cost after step   375:  0.0027786\n",
      "Cost after step   380:  0.0027037\n",
      "Cost after step   385:  0.0026318\n",
      "Cost after step   390:  0.0025625\n",
      "Cost after step   395:  0.0024960\n",
      "Cost after step   400:  0.0024319\n",
      "Cost after step   405:  0.0023701\n",
      "Cost after step   410:  0.0023107\n",
      "Cost after step   415:  0.0022534\n",
      "Cost after step   420:  0.0021982\n",
      "Cost after step   425:  0.0021449\n",
      "Cost after step   430:  0.0020935\n",
      "Cost after step   435:  0.0020438\n",
      "Cost after step   440:  0.0019959\n",
      "Cost after step   445:  0.0019496\n",
      "Cost after step   450:  0.0019048\n",
      "Cost after step   455:  0.0018616\n",
      "Cost after step   460:  0.0018198\n",
      "Cost after step   465:  0.0017793\n",
      "Cost after step   470:  0.0017401\n",
      "Cost after step   475:  0.0017022\n",
      "Cost after step   480:  0.0016655\n",
      "Cost after step   485:  0.0016300\n",
      "Cost after step   490:  0.0015955\n",
      "Cost after step   495:  0.0015621\n",
      "Cost after step   500:  0.0015297\n",
      "Cost after step   505:  0.0014983\n",
      "Cost after step   510:  0.0014679\n",
      "Cost after step   515:  0.0014383\n",
      "Cost after step   520:  0.0014096\n",
      "Cost after step   525:  0.0013818\n",
      "Cost after step   530:  0.0013547\n",
      "Cost after step   535:  0.0013284\n",
      "Cost after step   540:  0.0013029\n",
      "Cost after step   545:  0.0012781\n",
      "Cost after step   550:  0.0012539\n",
      "Cost after step   555:  0.0012305\n",
      "Cost after step   560:  0.0012076\n",
      "Cost after step   565:  0.0011854\n",
      "Cost after step   570:  0.0011638\n",
      "Cost after step   575:  0.0011428\n",
      "Cost after step   580:  0.0011223\n",
      "Cost after step   585:  0.0011023\n",
      "Cost after step   590:  0.0010829\n",
      "Cost after step   595:  0.0010640\n",
      "Cost after step   600:  0.0010455\n",
      "Cost after step   605:  0.0010276\n",
      "Cost after step   610:  0.0010100\n",
      "Cost after step   615:  0.0009930\n",
      "Cost after step   620:  0.0009763\n",
      "Cost after step   625:  0.0009600\n",
      "Cost after step   630:  0.0009442\n",
      "Cost after step   635:  0.0009287\n",
      "Cost after step   640:  0.0009136\n",
      "Cost after step   645:  0.0008989\n",
      "Cost after step   650:  0.0008845\n",
      "Cost after step   655:  0.0008704\n",
      "Cost after step   660:  0.0008567\n",
      "Cost after step   665:  0.0008433\n",
      "Cost after step   670:  0.0008302\n",
      "Cost after step   675:  0.0008174\n",
      "Cost after step   680:  0.0008048\n",
      "Cost after step   685:  0.0007926\n",
      "Cost after step   690:  0.0007807\n",
      "Cost after step   695:  0.0007690\n",
      "Cost after step   700:  0.0007575\n",
      "Cost after step   705:  0.0007463\n",
      "Cost after step   710:  0.0007354\n",
      "Cost after step   715:  0.0007247\n",
      "Cost after step   720:  0.0007142\n",
      "Cost after step   725:  0.0007039\n",
      "Cost after step   730:  0.0006939\n",
      "Cost after step   735:  0.0006841\n",
      "Cost after step   740:  0.0006744\n",
      "Cost after step   745:  0.0006650\n",
      "Cost after step   750:  0.0006558\n",
      "Cost after step   755:  0.0006467\n",
      "Cost after step   760:  0.0006379\n",
      "Cost after step   765:  0.0006292\n",
      "Cost after step   770:  0.0006207\n",
      "Cost after step   775:  0.0006123\n",
      "Cost after step   780:  0.0006042\n",
      "Cost after step   785:  0.0005961\n",
      "Cost after step   790:  0.0005883\n",
      "Cost after step   795:  0.0005806\n",
      "Cost after step   800:  0.0005730\n",
      "Cost after step   805:  0.0005656\n",
      "Cost after step   810:  0.0005583\n",
      "Cost after step   815:  0.0005512\n",
      "Cost after step   820:  0.0005442\n",
      "Cost after step   825:  0.0005373\n",
      "Cost after step   830:  0.0005306\n",
      "Cost after step   835:  0.0005240\n",
      "Cost after step   840:  0.0005175\n",
      "Cost after step   845:  0.0005111\n",
      "Cost after step   850:  0.0005049\n",
      "Cost after step   855:  0.0004987\n",
      "Cost after step   860:  0.0004927\n",
      "Cost after step   865:  0.0004867\n",
      "Cost after step   870:  0.0004809\n",
      "Cost after step   875:  0.0004752\n",
      "Cost after step   880:  0.0004696\n",
      "Cost after step   885:  0.0004641\n",
      "Cost after step   890:  0.0004586\n",
      "Cost after step   895:  0.0004533\n",
      "Cost after step   900:  0.0004481\n",
      "Cost after step   905:  0.0004429\n",
      "Cost after step   910:  0.0004378\n",
      "Cost after step   915:  0.0004329\n",
      "Cost after step   920:  0.0004280\n",
      "Cost after step   925:  0.0004232\n",
      "Cost after step   930:  0.0004184\n",
      "Cost after step   935:  0.0004138\n",
      "Cost after step   940:  0.0004092\n",
      "Cost after step   945:  0.0004047\n",
      "Cost after step   950:  0.0004003\n",
      "Cost after step   955:  0.0003959\n",
      "Cost after step   960:  0.0003916\n",
      "Cost after step   965:  0.0003874\n",
      "Cost after step   970:  0.0003832\n",
      "Cost after step   975:  0.0003791\n",
      "Cost after step   980:  0.0003751\n",
      "Cost after step   985:  0.0003712\n",
      "Cost after step   990:  0.0003673\n",
      "Cost after step   995:  0.0003634\n",
      "Cost after step  1000:  0.0003596\n",
      "Optimized parameters [3.0945455871946597, 0.3257548674419641]\n"
     ]
    }
   ],
   "source": [
    "# Qubit 0 optimization\n",
    "for i in range(iterations):\n",
    "    optimizer(params0, learning_rate, 0)\n",
    "    \n",
    "    if (i + 1) % 5 == 0:\n",
    "        print(\"Cost after step {:5d}: {: .7f}\".format(i+1, cost(params0, 0)))\n",
    "    \n",
    "print(\"Optimized parameters\", params0)\n",
    "    \n",
    "# Qubit 1 optimization\n",
    "for j in range(iterations):\n",
    "    optimizer(params1, learning_rate, 1)\n",
    "    \n",
    "    if (j + 1) % 5 == 0:\n",
    "        print(\"Cost after step {:5d}: {: .7f}\".format(j+1, cost(params1, 1)))\n",
    "    \n",
    "print(\"Optimized parameters\", params1)"
   ]
  },
  {
   "cell_type": "code",
   "execution_count": 18,
   "metadata": {},
   "outputs": [
    {
     "data": {
      "image/png": "[encoded data removed]",
      "text/plain": [
       "<Figure size 504x360 with 1 Axes>"
      ]
     },
     "execution_count": 18,
     "metadata": {},
     "output_type": "execute_result"
    }
   ],
   "source": [
    "qc = circuit(params0, params1)\n",
    "qc.cx(0,1)\n",
    "qc.measure_all()\n",
    "counts = execute(qc, q_simulator).result().get_counts()\n",
    "plot_histogram(counts)"
   ]
  },
  {
   "cell_type": "markdown",
   "metadata": {},
   "source": [
    "## Variations in number of measurements"
   ]
  },
  {
   "cell_type": "markdown",
   "metadata": {},
   "source": [
    "### i) 1 measurement"
   ]
  },
  {
   "cell_type": "code",
   "execution_count": 19,
   "metadata": {},
   "outputs": [
    {
     "data": {
      "image/png": "[encoded data removed]",
      "text/plain": [
       "<Figure size 504x360 with 1 Axes>"
      ]
     },
     "execution_count": 19,
     "metadata": {},
     "output_type": "execute_result"
    }
   ],
   "source": [
    "shots = 1\n",
    "counts = execute(qc, q_simulator, shots=shots).result().get_counts()\n",
    "plot_histogram(counts)"
   ]
  },
  {
   "cell_type": "markdown",
   "metadata": {},
   "source": [
    "### ii) 10 measurements"
   ]
  },
  {
   "cell_type": "code",
   "execution_count": 20,
   "metadata": {},
   "outputs": [
    {
     "data": {
      "image/png": "[encoded data removed]",
      "text/plain": [
       "<Figure size 504x360 with 1 Axes>"
      ]
     },
     "execution_count": 20,
     "metadata": {},
     "output_type": "execute_result"
    }
   ],
   "source": [
    "shots = 10\n",
    "counts = execute(qc, q_simulator, shots=shots).result().get_counts()\n",
    "plot_histogram(counts)"
   ]
  },
  {
   "cell_type": "markdown",
   "metadata": {},
   "source": [
    "### iii) 100 measurements"
   ]
  },
  {
   "cell_type": "code",
   "execution_count": 21,
   "metadata": {},
   "outputs": [
    {
     "data": {
      "image/png": "[encoded data removed]",
      "text/plain": [
       "<Figure size 504x360 with 1 Axes>"
      ]
     },
     "execution_count": 21,
     "metadata": {},
     "output_type": "execute_result"
    }
   ],
   "source": [
    "shots = 100\n",
    "counts = execute(qc, q_simulator, shots=shots).result().get_counts()\n",
    "plot_histogram(counts)"
   ]
  },
  {
   "cell_type": "markdown",
   "metadata": {},
   "source": [
    "### iv) 1000 measurements"
   ]
  },
  {
   "cell_type": "code",
   "execution_count": 22,
   "metadata": {},
   "outputs": [
    {
     "data": {
      "image/png": "[encoded data removed]",
      "text/plain": [
       "<Figure size 504x360 with 1 Axes>"
      ]
     },
     "execution_count": 22,
     "metadata": {},
     "output_type": "execute_result"
    }
   ],
   "source": [
    "shots = 1000\n",
    "counts = execute(qc, q_simulator, shots=shots).result().get_counts()\n",
    "plot_histogram(counts)"
   ]
  },
  {
   "cell_type": "markdown",
   "metadata": {},
   "source": [
    "# Implementation in PennyLane"
   ]
  },
  {
   "cell_type": "code",
   "execution_count": 23,
   "metadata": {},
   "outputs": [],
   "source": [
    "# Necessary imports\n",
    "import pennylane as qml\n",
    "from pennylane import numpy as np"
   ]
  },
  {
   "cell_type": "markdown",
   "metadata": {},
   "source": [
    "## Construction of the circuit\n",
    "PennyLane provides us with built-in optimizers that will take care of the mathematical rigor that we implemented above in Qiskit. For this reason, we directly construct the parameterized circuit and measure the probability of measuring the states $|00 \\rangle$, $|01 \\rangle$, $|10 \\rangle$ and $|11 \\rangle$."
   ]
  },
  {
   "cell_type": "code",
   "execution_count": 120,
   "metadata": {},
   "outputs": [],
   "source": [
    "# Defining the device (backend) to use\n",
    "dev = qml.device(\"default.qubit\", wires=2, shots=1000, analytic=False)\n",
    "\n",
    "# Define a parameterized circuit\n",
    "# params = [q0_theta0, q0_theta1, q1_theta0, q1_theta1]\n",
    "@qml.qnode(dev)\n",
    "def circuit(params):\n",
    "    qml.RY(params[0], wires=0)\n",
    "    qml.RX(params[1], wires=0)\n",
    "    qml.RY(params[2], wires=1)\n",
    "    qml.RX(params[3], wires=1)\n",
    "    qml.CNOT(wires=[0,1])\n",
    "    \n",
    "    # return the probabilies of the states as a list\n",
    "    return qml.probs(wires=[0,1])\n"
   ]
  },
  {
   "cell_type": "markdown",
   "metadata": {},
   "source": [
    "After our initial qubit state $|00 \\rangle$ undergoes operations under the parameterized, we arrive at a state say $| \\psi \\rangle$."
   ]
  },
  {
   "cell_type": "code",
   "execution_count": 121,
   "metadata": {},
   "outputs": [],
   "source": [
    "# Define a function that returns the probability of measuring a state of this composite system\n",
    "# state = 0,1,2 or 3 where 0 = |00>, 1 = |01>, 2 = |10>, 3 = |11>\n",
    "def probability(circuit, params, state):\n",
    "    return circuit(params)[state]\n"
   ]
  },
  {
   "cell_type": "markdown",
   "metadata": {},
   "source": [
    "## Cost function\n",
    "Since we are using the entire circuit to optimize (unlike the case with Qiskit where we optimized upto the CNOT gate and treated both the qubits as 2 separate optimization problems), we will be optimizing the parameters of both the qubits at once. For this we'll implement a very straightforward cost function as a function of probabilities as implemented in our implementation in Qiskit.\n",
    "\n",
    "A simple cost function would be\n",
    "\n",
    "$$\n",
    "J = (P_{00}^2 + (P_{01} - 0.5)^2 + (P_{10} - 0.5)^2 + P_{11}^2)\n",
    "$$\n",
    "\n",
    "Or as implemented in our code, it would be\n",
    "\n",
    "$$\n",
    "J = (P_0^2 + (P_1 - 0.5)^2 + (P_2 - 0.5)^2 + P_3^2)\n",
    "$$\n",
    "\n",
    "where $P_0 = | \\langle 00 | \\psi \\rangle |^2$, $P_1 = | \\langle 01 | \\psi \\rangle |^2$, $P_2 = | \\langle 10 | \\psi \\rangle |^2$ and $P_3 = | \\langle 11 | \\psi \\rangle |^2$.\n",
    "\n",
    "Let us define this cost function in our code."
   ]
  },
  {
   "cell_type": "code",
   "execution_count": 122,
   "metadata": {},
   "outputs": [],
   "source": [
    "# Cost function with params = [q0_theta0, q0_theta1, q1_theta0, q1_theta1]\n",
    "def cost(params):\n",
    "    return (probability(circuit, params, 0)**2 + (probability(circuit, params, 1) - 0.5)**2 + (probability(circuit, params, 2) - 0.5)**2 + probability(circuit, params, 3)**2)"
   ]
  },
  {
   "cell_type": "markdown",
   "metadata": {},
   "source": [
    "## Optimization using Gradient Descent"
   ]
  },
  {
   "cell_type": "code",
   "execution_count": 134,
   "metadata": {},
   "outputs": [],
   "source": [
    "# Initial parameters (assign random values)\n",
    "init_params = [random.uniform(0.001, 2*np.pi) for i in range(4)]\n",
    "\n",
    "# Optimizer\n",
    "opt = qml.GradientDescentOptimizer(stepsize=0.04)"
   ]
  },
  {
   "cell_type": "code",
   "execution_count": 135,
   "metadata": {},
   "outputs": [],
   "source": [
    "# Number of iterations\n",
    "steps = 1000\n",
    "\n",
    "# Assign initial parameters to a variable 'params' to be optimized\n",
    "params = init_params"
   ]
  },
  {
   "cell_type": "code",
   "execution_count": 136,
   "metadata": {},
   "outputs": [
    {
     "name": "stdout",
     "output_type": "stream",
     "text": [
      "Cost after step     5:  0.5005330\n",
      "Cost after step    10:  0.4312660\n",
      "Cost after step    15:  0.3723660\n",
      "Cost after step    20:  0.3724090\n",
      "Cost after step    25:  0.3605340\n",
      "Cost after step    30:  0.3011700\n",
      "Cost after step    35:  0.2719470\n",
      "Cost after step    40:  0.2862340\n",
      "Cost after step    45:  0.2322260\n",
      "Cost after step    50:  0.2451710\n",
      "Cost after step    55:  0.2489450\n",
      "Cost after step    60:  0.1984920\n",
      "Cost after step    65:  0.1647080\n",
      "Cost after step    70:  0.1623820\n",
      "Cost after step    75:  0.1333770\n",
      "Cost after step    80:  0.1250630\n",
      "Cost after step    85:  0.1104770\n",
      "Cost after step    90:  0.1116460\n",
      "Cost after step    95:  0.0957580\n",
      "Cost after step   100:  0.0898250\n",
      "Cost after step   105:  0.0752070\n",
      "Cost after step   110:  0.0879850\n",
      "Cost after step   115:  0.0707020\n",
      "Cost after step   120:  0.0596820\n",
      "Cost after step   125:  0.0473170\n",
      "Cost after step   130:  0.0666690\n",
      "Cost after step   135:  0.0393670\n",
      "Cost after step   140:  0.0404910\n",
      "Cost after step   145:  0.0442460\n",
      "Cost after step   150:  0.0437530\n",
      "Cost after step   155:  0.0326620\n",
      "Cost after step   160:  0.0351580\n",
      "Cost after step   165:  0.0228790\n",
      "Cost after step   170:  0.0303870\n",
      "Cost after step   175:  0.0210820\n",
      "Cost after step   180:  0.0240440\n",
      "Cost after step   185:  0.0202250\n",
      "Cost after step   190:  0.0141960\n",
      "Cost after step   195:  0.0151030\n",
      "Cost after step   200:  0.0170580\n",
      "Cost after step   205:  0.0127470\n",
      "Cost after step   210:  0.0128790\n",
      "Cost after step   215:  0.0134310\n",
      "Cost after step   220:  0.0157270\n",
      "Cost after step   225:  0.0135770\n",
      "Cost after step   230:  0.0131510\n",
      "Cost after step   235:  0.0091990\n",
      "Cost after step   240:  0.0092340\n",
      "Cost after step   245:  0.0058950\n",
      "Cost after step   250:  0.0093620\n",
      "Cost after step   255:  0.0067050\n",
      "Cost after step   260:  0.0083980\n",
      "Cost after step   265:  0.0098160\n",
      "Cost after step   270:  0.0059220\n",
      "Cost after step   275:  0.0068420\n",
      "Cost after step   280:  0.0063720\n",
      "Cost after step   285:  0.0033800\n",
      "Cost after step   290:  0.0048090\n",
      "Cost after step   295:  0.0035780\n",
      "Cost after step   300:  0.0048570\n",
      "Cost after step   305:  0.0073360\n",
      "Cost after step   310:  0.0040650\n",
      "Cost after step   315:  0.0034500\n",
      "Cost after step   320:  0.0087240\n",
      "Cost after step   325:  0.0037890\n",
      "Cost after step   330:  0.0056430\n",
      "Cost after step   335:  0.0040010\n",
      "Cost after step   340:  0.0050930\n",
      "Cost after step   345:  0.0050220\n",
      "Cost after step   350:  0.0039760\n",
      "Cost after step   355:  0.0011400\n",
      "Cost after step   360:  0.0039390\n",
      "Cost after step   365:  0.0019500\n",
      "Cost after step   370:  0.0041510\n",
      "Cost after step   375:  0.0024570\n",
      "Cost after step   380:  0.0025420\n",
      "Cost after step   385:  0.0057610\n",
      "Cost after step   390:  0.0025120\n",
      "Cost after step   395:  0.0033770\n",
      "Cost after step   400:  0.0020300\n",
      "Cost after step   405:  0.0019000\n",
      "Cost after step   410:  0.0011500\n",
      "Cost after step   415:  0.0021300\n",
      "Cost after step   420:  0.0026970\n",
      "Cost after step   425:  0.0024850\n",
      "Cost after step   430:  0.0024580\n",
      "Cost after step   435:  0.0023500\n",
      "Cost after step   440:  0.0013710\n",
      "Cost after step   445:  0.0022350\n",
      "Cost after step   450:  0.0010900\n",
      "Cost after step   455:  0.0021480\n",
      "Cost after step   460:  0.0015780\n",
      "Cost after step   465:  0.0013490\n",
      "Cost after step   470:  0.0005970\n",
      "Cost after step   475:  0.0013470\n",
      "Cost after step   480:  0.0018220\n",
      "Cost after step   485:  0.0007850\n",
      "Cost after step   490:  0.0023480\n",
      "Cost after step   495:  0.0016020\n",
      "Cost after step   500:  0.0013590\n",
      "Cost after step   505:  0.0012260\n",
      "Cost after step   510:  0.0027140\n",
      "Cost after step   515:  0.0009500\n",
      "Cost after step   520:  0.0009100\n",
      "Cost after step   525:  0.0017340\n",
      "Cost after step   530:  0.0023300\n",
      "Cost after step   535:  0.0004980\n",
      "Cost after step   540:  0.0008390\n",
      "Cost after step   545:  0.0007470\n",
      "Cost after step   550:  0.0015990\n",
      "Cost after step   555:  0.0007310\n",
      "Cost after step   560:  0.0016810\n",
      "Cost after step   565:  0.0018500\n",
      "Cost after step   570:  0.0006830\n",
      "Cost after step   575:  0.0019810\n",
      "Cost after step   580:  0.0025020\n",
      "Cost after step   585:  0.0039100\n",
      "Cost after step   590:  0.0007740\n",
      "Cost after step   595:  0.0019560\n",
      "Cost after step   600:  0.0015190\n",
      "Cost after step   605:  0.0018140\n",
      "Cost after step   610:  0.0018810\n",
      "Cost after step   615:  0.0017170\n",
      "Cost after step   620:  0.0012290\n",
      "Cost after step   625:  0.0017450\n",
      "Cost after step   630:  0.0011500\n",
      "Cost after step   635:  0.0004890\n",
      "Cost after step   640:  0.0012810\n",
      "Cost after step   645:  0.0004810\n",
      "Cost after step   650:  0.0006410\n",
      "Cost after step   655:  0.0020120\n",
      "Cost after step   660:  0.0017890\n",
      "Cost after step   665:  0.0008240\n",
      "Cost after step   670:  0.0004100\n",
      "Cost after step   675:  0.0007230\n",
      "Cost after step   680:  0.0013720\n",
      "Cost after step   685:  0.0002780\n",
      "Cost after step   690:  0.0037430\n",
      "Cost after step   695:  0.0012310\n",
      "Cost after step   700:  0.0010750\n",
      "Cost after step   705:  0.0004230\n",
      "Cost after step   710:  0.0004050\n",
      "Cost after step   715:  0.0005550\n",
      "Cost after step   720:  0.0012900\n",
      "Cost after step   725:  0.0028850\n",
      "Cost after step   730:  0.0009500\n",
      "Cost after step   735:  0.0006870\n",
      "Cost after step   740:  0.0006620\n",
      "Cost after step   745:  0.0007970\n",
      "Cost after step   750:  0.0001070\n",
      "Cost after step   755:  0.0012420\n",
      "Cost after step   760:  0.0007180\n",
      "Cost after step   765:  0.0002210\n",
      "Cost after step   770:  0.0002620\n",
      "Cost after step   775:  0.0019030\n",
      "Cost after step   780:  0.0022170\n",
      "Cost after step   785:  0.0005380\n",
      "Cost after step   790:  0.0015210\n",
      "Cost after step   795:  0.0009270\n",
      "Cost after step   800:  0.0012660\n",
      "Cost after step   805:  0.0018620\n",
      "Cost after step   810:  0.0016500\n",
      "Cost after step   815:  0.0001450\n",
      "Cost after step   820:  0.0010500\n",
      "Cost after step   825:  0.0002360\n",
      "Cost after step   830:  0.0011730\n",
      "Cost after step   835:  0.0003060\n",
      "Cost after step   840:  0.0015770\n",
      "Cost after step   845:  0.0016530\n",
      "Cost after step   850:  0.0022450\n",
      "Cost after step   855:  0.0013060\n",
      "Cost after step   860:  0.0020580\n",
      "Cost after step   865:  0.0001250\n",
      "Cost after step   870:  0.0001450\n",
      "Cost after step   875:  0.0003810\n",
      "Cost after step   880:  0.0003720\n",
      "Cost after step   885:  0.0006430\n",
      "Cost after step   890:  0.0006980\n",
      "Cost after step   895:  0.0008060\n",
      "Cost after step   900:  0.0008430\n",
      "Cost after step   905:  0.0004950\n",
      "Cost after step   910:  0.0004750\n",
      "Cost after step   915:  0.0004110\n",
      "Cost after step   920:  0.0023650\n",
      "Cost after step   925:  0.0008330\n",
      "Cost after step   930:  0.0002210\n",
      "Cost after step   935:  0.0011500\n",
      "Cost after step   940:  0.0005110\n",
      "Cost after step   945:  0.0004550\n",
      "Cost after step   950:  0.0004450\n",
      "Cost after step   955:  0.0021140\n",
      "Cost after step   960:  0.0006050\n",
      "Cost after step   965:  0.0016090\n",
      "Cost after step   970:  0.0012980\n",
      "Cost after step   975:  0.0001930\n",
      "Cost after step   980:  0.0015120\n",
      "Cost after step   985:  0.0021580\n",
      "Cost after step   990:  0.0008200\n",
      "Cost after step   995:  0.0016290\n",
      "Cost after step  1000:  0.0010250\n"
     ]
    }
   ],
   "source": [
    "# Optimization over every loop\n",
    "for i in range(steps):\n",
    "    params = opt.step(cost, params)\n",
    "    \n",
    "    if (i+1) % 5 == 0:\n",
    "        print(\"Cost after step {:5d}: {: .7f}\".format(i+1, cost(params)))"
   ]
  },
  {
   "cell_type": "markdown",
   "metadata": {},
   "source": [
    "### Variation in number of measurements"
   ]
  },
  {
   "cell_type": "markdown",
   "metadata": {},
   "source": [
    "Change the number of `dev.shots` to vary the number of measurements"
   ]
  },
  {
   "cell_type": "code",
   "execution_count": 149,
   "metadata": {},
   "outputs": [],
   "source": [
    "# Number of measurements\n",
    "dev.shots = 100"
   ]
  },
  {
   "cell_type": "code",
   "execution_count": 150,
   "metadata": {},
   "outputs": [
    {
     "name": "stdout",
     "output_type": "stream",
     "text": [
      "Probability of measuring states:\n",
      "\n",
      "|00> = 0.03\n",
      "|01> = 0.46\n",
      "|10> = 0.51\n",
      "|11> = 0.0\n"
     ]
    }
   ],
   "source": [
    "# Print the probabilities of states after optimization\n",
    "print(\"Probability of measuring states:\\n\")\n",
    "print(\"|00> =\", circuit(params)[0])\n",
    "print(\"|01> =\", circuit(params)[1])\n",
    "print(\"|10> =\", circuit(params)[2])\n",
    "print(\"|11> =\", circuit(params)[3])"
   ]
  },
  {
   "cell_type": "markdown",
   "metadata": {},
   "source": [
    "## Bonus question: How to make sure that you produce the state $|01 \\rangle + |10 \\rangle$ and not $|01 \\rangle - |10 \\rangle$"
   ]
  },
  {
   "cell_type": "markdown",
   "metadata": {},
   "source": [
    "Let us find the state of the system before making the measurement. For this we shall use the 'statevector_simulator' in Qiskit which allows us to know the state of the system without destroying it."
   ]
  },
  {
   "cell_type": "code",
   "execution_count": null,
   "metadata": {},
   "outputs": [],
   "source": []
  },
  {
   "cell_type": "code",
   "execution_count": null,
   "metadata": {},
   "outputs": [],
   "source": []
  },
  {
   "cell_type": "markdown",
   "metadata": {},
   "source": [
    "## Questions to ponder about\n"
   ]
  },
  {
   "cell_type": "code",
   "execution_count": null,
   "metadata": {},
   "outputs": [],
   "source": []
  },
  {
   "cell_type": "code",
   "execution_count": null,
   "metadata": {},
   "outputs": [],
   "source": []
  },
  {
   "cell_type": "code",
   "execution_count": null,
   "metadata": {},
   "outputs": [],
   "source": []
  },
  {
   "cell_type": "markdown",
   "metadata": {},
   "source": [
    "# To do\n",
    "- Implement partial derivatives not by hand but through external libraries like Sympy.\n",
    "- Implementing various other optimization techniques such as the Adam optimizer and gradient descent with momentum.\n",
    "- ~Implement the same problem using PennyLane, which provides pre-build functions for optimization~ Used basic gradient descent in PennyLane."
   ]
  },
  {
   "cell_type": "code",
   "execution_count": null,
   "metadata": {},
   "outputs": [],
   "source": []
  }
 ],
 "metadata": {
  "kernelspec": {
   "display_name": "Python 3",
   "language": "python",
   "name": "python3"
  },
  "language_info": {
   "codemirror_mode": {
    "name": "ipython",
    "version": 3
   },
   "file_extension": ".py",
   "mimetype": "text/x-python",
   "name": "python",
   "nbconvert_exporter": "python",
   "pygments_lexer": "ipython3",
   "version": "3.8.5"
  }
 },
 "nbformat": 4,
 "nbformat_minor": 4
}
