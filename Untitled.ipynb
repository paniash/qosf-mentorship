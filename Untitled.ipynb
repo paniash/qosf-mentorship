{
 "cells": [
  {
   "cell_type": "markdown",
   "metadata": {},
   "source": [
    "# QOSF Task 2\n",
    "\n",
    "Implement a circuit that returns $| 01 \\rangle$ and $|10 \\rangle$ with equal probability.\n",
    "\n",
    "Requirements :\n",
    "- The circuit should consist only of CNOTs, RXs and RYs. \n",
    "- Start from all parameters in parametric gates being equal to 0 or randomly chosen. \n",
    "- You should find the right set of parameters using gradient descent (you can use more advanced optimization methods if you like). \n",
    "- Simulations must be done with sampling - i.e. a limited number of measurements per iteration and noise. \n",
    "\n",
    "Compare the results for different numbers of measurements: 1, 10, 100, 1000. \n",
    "\n",
    "Bonus question:\n",
    "How to make sure you produce state $|01 \\rangle + |10 \\rangle$ and not $|01 \\rangle - |10 \\rangle$?"
   ]
  },
  {
   "cell_type": "code",
   "execution_count": 2,
   "metadata": {},
   "outputs": [],
   "source": [
    "# Importing necessary libraries \n",
    "# and predefining some variables\n",
    "from qiskit import execute, Aer, QuantumCircuit \n",
    "from qiskit.visualization import plot_histogram, plot_state_qsphere as q_plot\n",
    "from qiskit.quantum_info import Statevector\n",
    "import numpy as np\n",
    "import matplotlib.pyplot as plt\n",
    "import random\n",
    "%matplotlib inline\n",
    "\n",
    "q_simulator = Aer.get_backend('qasm_simulator')\n",
    "st_simulator = Aer.get_backend('statevector_simulator')"
   ]
  },
  {
   "cell_type": "markdown",
   "metadata": {},
   "source": [
    "## Trial\n",
    "Let us implement a quantum circuit with known parameters that yields an equal probability of $| 01 \\rangle$ and $| 10 \\rangle$ to get an idea of what the gates the circuit must consist of."
   ]
  },
  {
   "cell_type": "code",
   "execution_count": null,
   "metadata": {},
   "outputs": [],
   "source": [
    "# Define a quantum circuit consisting of 2 qubits\n",
    "qc = QuantumCircuit(2)\n",
    "\n",
    "# Hadamard gate on qubit 0\n",
    "qc.h(0)\n",
    "\n",
    "# X gate on qubit 1\n",
    "qc.x(1)\n",
    "\n",
    "# "
   ]
  }
 ],
 "metadata": {
  "kernelspec": {
   "display_name": "Python 3",
   "language": "python",
   "name": "python3"
  },
  "language_info": {
   "codemirror_mode": {
    "name": "ipython",
    "version": 3
   },
   "file_extension": ".py",
   "mimetype": "text/x-python",
   "name": "python",
   "nbconvert_exporter": "python",
   "pygments_lexer": "ipython3",
   "version": "3.8.5"
  }
 },
 "nbformat": 4,
 "nbformat_minor": 4
}
